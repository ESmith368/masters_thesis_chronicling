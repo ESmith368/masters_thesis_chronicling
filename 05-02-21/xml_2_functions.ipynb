{
 "cells": [
  {
   "cell_type": "code",
   "execution_count": 1,
   "metadata": {},
   "outputs": [],
   "source": [
    "'''imports'''\n",
    "\n",
    "from bs4 import BeautifulSoup as bs\n",
    "import pandas as pd"
   ]
  },
  {
   "cell_type": "code",
   "execution_count": 2,
   "metadata": {},
   "outputs": [],
   "source": [
    "def make_soup(file_path):\n",
    "    '''function takes file path to xml document reads in a uses bs to create and return soup object of the whole file.'''\n",
    "    content = list()\n",
    "    # Read the XML file\n",
    "    with open(file_path, \"r\", encoding= 'utf-8') as file:\n",
    "        # Read each line in the file, readlines() returns a list of lines\n",
    "        content = file.readlines()\n",
    "        # Combine the lines in the list into a string\n",
    "        content = \"\".join(content)\n",
    "        bs_content = bs(content, \"lxml\")\n",
    "        \n",
    "        return bs_content"
   ]
  },
  {
   "cell_type": "code",
   "execution_count": 3,
   "metadata": {},
   "outputs": [],
   "source": [
    "#bs_content = make_soup(\"1791_Purm_Louw_kopie_tei.xml\")"
   ]
  },
  {
   "cell_type": "code",
   "execution_count": 4,
   "metadata": {},
   "outputs": [],
   "source": [
    "'''Using find_all(l) method of find kopies'''\n",
    "\n",
    "def indexed_kopie_line_dict(bs_content):\n",
    "    '''function takes the soup object outputted from make_soup finds all l labels and uses this information to find all kopie\n",
    "    labels within them. Returns a list of dictionaries, where each dictionary has \n",
    "    three keys.\n",
    "    text: The text from the line\n",
    "    index: The index of the line within the text body\n",
    "    kopie: binary 0/1 where 1 is kopie and 0 is non-kopie tagged'''\n",
    "    \n",
    "    #finding all ines ('l' tags)\n",
    "    everything_results = bs_content.find_all(\"l\")\n",
    "    \n",
    "    #creating the list of dictionaries\n",
    "    dict_list = list()\n",
    "    n = 0\n",
    "    for item in list(everything_results):\n",
    "        item_string = str(item)\n",
    "        temp_dict =dict()\n",
    "        n+=1\n",
    "        if '<kopie>' in item_string:\n",
    "            temp_dict['text'] = item.text\n",
    "            temp_dict['index']= n\n",
    "            temp_dict['kopie']= 1\n",
    "            dict_list.append(temp_dict)\n",
    "        else:\n",
    "            temp_dict['text'] =item.text\n",
    "            temp_dict['index'] = n\n",
    "            temp_dict['kopie'] = 0\n",
    "            dict_list.append(temp_dict)\n",
    "            \n",
    "    return dict_list"
   ]
  },
  {
   "cell_type": "code",
   "execution_count": 5,
   "metadata": {},
   "outputs": [],
   "source": [
    "#dict_list = indexed_kopie_line_dict(bs_content)"
   ]
  },
  {
   "cell_type": "code",
   "execution_count": 6,
   "metadata": {},
   "outputs": [],
   "source": [
    "'''converting the output of indexed_kope_line_dict into a DataFrame'''\n",
    "#new_df = pd.DataFrame(dict_list)"
   ]
  },
  {
   "cell_type": "code",
   "execution_count": 7,
   "metadata": {},
   "outputs": [],
   "source": [
    "def ranges(nums):\n",
    "    '''finds ranges of consecutive ints in a given sequence'''\n",
    "    nums = sorted(set(nums))\n",
    "    gaps = [[s, e] for s, e in zip(nums, nums[1:]) if s+1 < e]\n",
    "    edges = iter(nums[:1] + sum(gaps, []) + nums[-1:])\n",
    "    return list(zip(edges, edges))"
   ]
  },
  {
   "cell_type": "code",
   "execution_count": 8,
   "metadata": {},
   "outputs": [],
   "source": [
    "def get_index_groups(new_df):\n",
    "    '''Function takes a DataFrame representation of the output of indexed_kopie_line_dict and first seperates the kopies and\n",
    "    non-kopies before finding the consecutive index ranges for each group. Outputs two objest, each is a list of tuples which\n",
    "    represent the consecutive index ranges. the first is for kopie and the second is for non-kopie'''\n",
    "    \n",
    "    #seperating kopies and non-kopies\n",
    "    kopie_bool = new_df['kopie'] == 1\n",
    "    kopie_df = new_df[kopie_bool]\n",
    "    no_kopie_bool = new_df['kopie'] == 0\n",
    "    no_kopie_df = new_df[no_kopie_bool]\n",
    "    \n",
    "    #getting index ranges\n",
    "    index_groups_kopie = ranges(kopie_df['index'])\n",
    "    index_groups_no_kopie = ranges(no_kopie_df['index'])\n",
    "    \n",
    "    return index_groups_kopie, index_groups_no_kopie"
   ]
  },
  {
   "cell_type": "code",
   "execution_count": 10,
   "metadata": {},
   "outputs": [],
   "source": [
    "#index_groups_kopie = get_index_groups(new_df)[0]\n",
    "#index_groups_no_kopie = get_index_groups(new_df)[1]"
   ]
  },
  {
   "cell_type": "code",
   "execution_count": 11,
   "metadata": {},
   "outputs": [],
   "source": [
    "def collect_row_locs(index_groups_list, new_df):\n",
    "    '''function takes a list of tuples representing the index groups and finds the location of the rows for the lines within\n",
    "    the index range in the large df.\n",
    "    Returns a list of dictionaries with two keys.\n",
    "    index_range: the tuple representing the the start and end index of the chunk.\n",
    "    loc_list: the list containing the locations for each of the rows in new_df which are part of the chunk'''\n",
    "    \n",
    "    loc_main = list()\n",
    "    for group in index_groups_list:\n",
    "        loc_group_dict =dict()\n",
    "        loc_group_dict['index_range'] = group\n",
    "        loc_list = list()\n",
    "        for i in range (group[0],group[1]+1):\n",
    "            loc_list += list(new_df.loc[new_df['index'] == i].index)\n",
    "        loc_group_dict['loc_list'] = loc_list\n",
    "        loc_main.append(loc_group_dict)\n",
    "        \n",
    "    return loc_main"
   ]
  },
  {
   "cell_type": "code",
   "execution_count": 12,
   "metadata": {},
   "outputs": [],
   "source": [
    "#locs_kopie = collect_row_locs(index_groups_kopie, new_df)\n",
    "#locs_no_kopie = collect_row_locs(index_groups_no_kopie, new_df)"
   ]
  },
  {
   "cell_type": "code",
   "execution_count": 14,
   "metadata": {},
   "outputs": [],
   "source": [
    "def make_collected_list(locs_list, new_df, tag= 'kopie'):\n",
    "    '''function takes the list of dictionaires outputted from collect_row_locs and uses this information to create and return\n",
    "    a new list of dictionaires. each dictionary has three keys.\n",
    "    index_range: the tuple representing the start and end index for the chunk\n",
    "    kopie: a binary 0/1 where 1 is a kopie tag and 0 is a non-kopie tag\n",
    "    text: a string of the text taken from all lines in the chunk joined together'''\n",
    "    \n",
    "    main_list = list()\n",
    "    for group_dict in locs_list:\n",
    "        temp_dict = dict()\n",
    "        group_text = list(new_df.loc[group_dict['loc_list'], 'text'])\n",
    "        temp_dict['index_range'] = group_dict['index_range']\n",
    "        temp_dict['text'] = \"\".join(group_text)\n",
    "        if tag == 'kopie':\n",
    "            temp_dict['kopie'] = 1\n",
    "        else:\n",
    "            temp_dict['kopie'] = 0\n",
    "        main_list.append(temp_dict)\n",
    "        \n",
    "    return main_list"
   ]
  },
  {
   "cell_type": "code",
   "execution_count": 16,
   "metadata": {},
   "outputs": [],
   "source": [
    "#kopie_list = make_collected_list(locs_kopie, new_df, tag= 'kopie')\n",
    "#no_kopie_list = make_collected_list(locs_kopie, new_df, tag= 'no_kopie')"
   ]
  },
  {
   "cell_type": "code",
   "execution_count": 17,
   "metadata": {},
   "outputs": [],
   "source": [
    "def make_final_df(kopie_list, no_kopie_list):\n",
    "    '''function takes the two lists of dictionaries obtained from running make_collected_lists on the kopies and non-kopies\n",
    "    and joins them together before creating and returning a large df with all the information.'''\n",
    "    \n",
    "    whole_list= kopie_list+no_kopie_list\n",
    "    \n",
    "    whole_df =pd.DataFrame(whole_list)\n",
    "    \n",
    "    return whole_df"
   ]
  },
  {
   "cell_type": "code",
   "execution_count": 18,
   "metadata": {},
   "outputs": [],
   "source": [
    "#final_df = make_final_df(kopie_list, no_kopie_list)"
   ]
  },
  {
   "cell_type": "code",
   "execution_count": 19,
   "metadata": {},
   "outputs": [
    {
     "data": {
      "text/html": [
       "<div>\n",
       "<style scoped>\n",
       "    .dataframe tbody tr th:only-of-type {\n",
       "        vertical-align: middle;\n",
       "    }\n",
       "\n",
       "    .dataframe tbody tr th {\n",
       "        vertical-align: top;\n",
       "    }\n",
       "\n",
       "    .dataframe thead th {\n",
       "        text-align: right;\n",
       "    }\n",
       "</style>\n",
       "<table border=\"1\" class=\"dataframe\">\n",
       "  <thead>\n",
       "    <tr style=\"text-align: right;\">\n",
       "      <th></th>\n",
       "      <th>index_range</th>\n",
       "      <th>kopie</th>\n",
       "      <th>text</th>\n",
       "    </tr>\n",
       "  </thead>\n",
       "  <tbody>\n",
       "    <tr>\n",
       "      <th>0</th>\n",
       "      <td>(73, 90)</td>\n",
       "      <td>1</td>\n",
       "      <td>woorden, Nooijt stond ik, om dit in t'voorbij ...</td>\n",
       "    </tr>\n",
       "    <tr>\n",
       "      <th>1</th>\n",
       "      <td>(235, 235)</td>\n",
       "      <td>1</td>\n",
       "      <td>Wat het Eerste betreft, dat er eene Meer¬</td>\n",
       "    </tr>\n",
       "    <tr>\n",
       "      <th>2</th>\n",
       "      <td>(238, 330)</td>\n",
       "      <td>1</td>\n",
       "      <td>Omtrent het Jaer 1400 onder de Re¬geringe van ...</td>\n",
       "    </tr>\n",
       "    <tr>\n",
       "      <th>3</th>\n",
       "      <td>(351, 357)</td>\n",
       "      <td>1</td>\n",
       "      <td>hier over het volgende \"Meermin, Sijreene,is e...</td>\n",
       "    </tr>\n",
       "    <tr>\n",
       "      <th>4</th>\n",
       "      <td>(428, 445)</td>\n",
       "      <td>1</td>\n",
       "      <td>zelve gezien hebben \"Men vind in¬de Kronijk va...</td>\n",
       "    </tr>\n",
       "  </tbody>\n",
       "</table>\n",
       "</div>"
      ],
      "text/plain": [
       "  index_range  kopie                                               text\n",
       "0    (73, 90)      1  woorden, Nooijt stond ik, om dit in t'voorbij ...\n",
       "1  (235, 235)      1          Wat het Eerste betreft, dat er eene Meer¬\n",
       "2  (238, 330)      1  Omtrent het Jaer 1400 onder de Re¬geringe van ...\n",
       "3  (351, 357)      1  hier over het volgende \"Meermin, Sijreene,is e...\n",
       "4  (428, 445)      1  zelve gezien hebben \"Men vind in¬de Kronijk va..."
      ]
     },
     "execution_count": 19,
     "metadata": {},
     "output_type": "execute_result"
    }
   ],
   "source": [
    "#final_df[0:5]"
   ]
  },
  {
   "cell_type": "code",
   "execution_count": 20,
   "metadata": {},
   "outputs": [],
   "source": [
    "def main_function(filepath):\n",
    "    \n",
    "    bs_content = make_soup(filepath)\n",
    "    \n",
    "    dict_list = indexed_kopie_line_dict(bs_content)\n",
    "    \n",
    "    new_df = pd.DataFrame(dict_list)\n",
    "    \n",
    "    index_groups_kopie = get_index_groups(new_df)[0]\n",
    "    index_groups_no_kopie = get_index_groups(new_df)[1]\n",
    "    \n",
    "    locs_kopie = collect_row_locs(index_groups_kopie, new_df)\n",
    "    locs_no_kopie = collect_row_locs(index_groups_no_kopie, new_df)\n",
    "    \n",
    "    kopie_list = make_collected_list(locs_kopie, new_df, tag= 'kopie')\n",
    "    no_kopie_list = make_collected_list(locs_kopie, new_df, tag= 'no_kopie')\n",
    "    \n",
    "    final_df = make_final_df(kopie_list, no_kopie_list)\n",
    "    \n",
    "    return final_df"
   ]
  },
  {
   "cell_type": "code",
   "execution_count": 21,
   "metadata": {},
   "outputs": [],
   "source": [
    "data = main_function(\"1791_Purm_Louw_kopie_tei.xml\")"
   ]
  },
  {
   "cell_type": "code",
   "execution_count": 22,
   "metadata": {},
   "outputs": [
    {
     "data": {
      "text/html": [
       "<div>\n",
       "<style scoped>\n",
       "    .dataframe tbody tr th:only-of-type {\n",
       "        vertical-align: middle;\n",
       "    }\n",
       "\n",
       "    .dataframe tbody tr th {\n",
       "        vertical-align: top;\n",
       "    }\n",
       "\n",
       "    .dataframe thead th {\n",
       "        text-align: right;\n",
       "    }\n",
       "</style>\n",
       "<table border=\"1\" class=\"dataframe\">\n",
       "  <thead>\n",
       "    <tr style=\"text-align: right;\">\n",
       "      <th></th>\n",
       "      <th>index_range</th>\n",
       "      <th>kopie</th>\n",
       "      <th>text</th>\n",
       "    </tr>\n",
       "  </thead>\n",
       "  <tbody>\n",
       "    <tr>\n",
       "      <th>0</th>\n",
       "      <td>(73, 90)</td>\n",
       "      <td>1</td>\n",
       "      <td>woorden, Nooijt stond ik, om dit in t'voorbij ...</td>\n",
       "    </tr>\n",
       "    <tr>\n",
       "      <th>1</th>\n",
       "      <td>(235, 235)</td>\n",
       "      <td>1</td>\n",
       "      <td>Wat het Eerste betreft, dat er eene Meer¬</td>\n",
       "    </tr>\n",
       "    <tr>\n",
       "      <th>2</th>\n",
       "      <td>(238, 330)</td>\n",
       "      <td>1</td>\n",
       "      <td>Omtrent het Jaer 1400 onder de Re¬geringe van ...</td>\n",
       "    </tr>\n",
       "    <tr>\n",
       "      <th>3</th>\n",
       "      <td>(351, 357)</td>\n",
       "      <td>1</td>\n",
       "      <td>hier over het volgende \"Meermin, Sijreene,is e...</td>\n",
       "    </tr>\n",
       "    <tr>\n",
       "      <th>4</th>\n",
       "      <td>(428, 445)</td>\n",
       "      <td>1</td>\n",
       "      <td>zelve gezien hebben \"Men vind in¬de Kronijk va...</td>\n",
       "    </tr>\n",
       "    <tr>\n",
       "      <th>5</th>\n",
       "      <td>(450, 487)</td>\n",
       "      <td>1</td>\n",
       "      <td>in 't 1548, heeft Philippus Aartshertogvan Oos...</td>\n",
       "    </tr>\n",
       "    <tr>\n",
       "      <th>6</th>\n",
       "      <td>(494, 497)</td>\n",
       "      <td>1</td>\n",
       "      <td>Meermin, daar men zoo veele Fabulenen verdigts...</td>\n",
       "    </tr>\n",
       "    <tr>\n",
       "      <th>7</th>\n",
       "      <td>(510, 537)</td>\n",
       "      <td>1</td>\n",
       "      <td>en Gevangen is; de Meerminnen zijnAgt spannen ...</td>\n",
       "    </tr>\n",
       "    <tr>\n",
       "      <th>8</th>\n",
       "      <td>(540, 559)</td>\n",
       "      <td>1</td>\n",
       "      <td>Indiäenen braeden deze Visch op eenRooster, en...</td>\n",
       "    </tr>\n",
       "    <tr>\n",
       "      <th>9</th>\n",
       "      <td>(595, 631)</td>\n",
       "      <td>1</td>\n",
       "      <td>Met Permissie enz:Werd bekend gemaakt dat alhi...</td>\n",
       "    </tr>\n",
       "  </tbody>\n",
       "</table>\n",
       "</div>"
      ],
      "text/plain": [
       "  index_range  kopie                                               text\n",
       "0    (73, 90)      1  woorden, Nooijt stond ik, om dit in t'voorbij ...\n",
       "1  (235, 235)      1          Wat het Eerste betreft, dat er eene Meer¬\n",
       "2  (238, 330)      1  Omtrent het Jaer 1400 onder de Re¬geringe van ...\n",
       "3  (351, 357)      1  hier over het volgende \"Meermin, Sijreene,is e...\n",
       "4  (428, 445)      1  zelve gezien hebben \"Men vind in¬de Kronijk va...\n",
       "5  (450, 487)      1  in 't 1548, heeft Philippus Aartshertogvan Oos...\n",
       "6  (494, 497)      1  Meermin, daar men zoo veele Fabulenen verdigts...\n",
       "7  (510, 537)      1  en Gevangen is; de Meerminnen zijnAgt spannen ...\n",
       "8  (540, 559)      1  Indiäenen braeden deze Visch op eenRooster, en...\n",
       "9  (595, 631)      1  Met Permissie enz:Werd bekend gemaakt dat alhi..."
      ]
     },
     "execution_count": 22,
     "metadata": {},
     "output_type": "execute_result"
    }
   ],
   "source": [
    "data[0:10]"
   ]
  },
  {
   "cell_type": "code",
   "execution_count": 23,
   "metadata": {},
   "outputs": [
    {
     "data": {
      "text/plain": [
       "(608, 3)"
      ]
     },
     "execution_count": 23,
     "metadata": {},
     "output_type": "execute_result"
    }
   ],
   "source": [
    "data.shape"
   ]
  },
  {
   "cell_type": "code",
   "execution_count": null,
   "metadata": {},
   "outputs": [],
   "source": []
  }
 ],
 "metadata": {
  "kernelspec": {
   "display_name": "Python 3",
   "language": "python",
   "name": "python3"
  },
  "language_info": {
   "codemirror_mode": {
    "name": "ipython",
    "version": 3
   },
   "file_extension": ".py",
   "mimetype": "text/x-python",
   "name": "python",
   "nbconvert_exporter": "python",
   "pygments_lexer": "ipython3",
   "version": "3.7.3"
  }
 },
 "nbformat": 4,
 "nbformat_minor": 2
}
