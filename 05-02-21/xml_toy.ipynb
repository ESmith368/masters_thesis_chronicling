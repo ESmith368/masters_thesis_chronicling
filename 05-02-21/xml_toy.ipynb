{
 "cells": [
  {
   "cell_type": "code",
   "execution_count": 1,
   "metadata": {},
   "outputs": [],
   "source": [
    "from bs4 import BeautifulSoup as bs\n",
    "\n",
    "content = []\n",
    "# Read the XML file\n",
    "with open(\"1791_Purm_Louw_kopie_tei.xml\", \"r\", encoding= 'utf-8') as file:\n",
    "    # Read each line in the file, readlines() returns a list of lines\n",
    "    content = file.readlines()\n",
    "    # Combine the lines in the list into a string\n",
    "    content = \"\".join(content)\n",
    "    bs_content = bs(content, \"lxml\")\n",
    "\n",
    "    \n",
    "    result = bs_content.find_all(\"kopie\")"
   ]
  },
  {
   "cell_type": "code",
   "execution_count": 2,
   "metadata": {},
   "outputs": [
    {
     "name": "stdout",
     "output_type": "stream",
     "text": [
      "5209\n",
      "5209\n",
      "[\"Nooijt stond ik, om dit in t'\", 'voorbij gaan te melden, meer verzet,', 'over hun lieden, Namentlijk de Bur¬', 'gereij, Konst en Smaak, in dit op¬', 'zigt, dan bij de laaste komste van']\n"
     ]
    },
    {
     "data": {
      "text/plain": [
       "'line_content_k is a list containing the text of all lines with the tag kopie'"
      ]
     },
     "execution_count": 2,
     "metadata": {},
     "output_type": "execute_result"
    }
   ],
   "source": [
    "line_content_K =list()\n",
    "for item in result:\n",
    "    content= item.text\n",
    "    line_content_K.append(content)\n",
    "    \n",
    "print(len(line_content_K))\n",
    "print(len(result))\n",
    "print(line_content_K[0:5])\n",
    "\n",
    "'''line_content_k is a list containing the text of all lines with the tag kopie'''"
   ]
  },
  {
   "cell_type": "code",
   "execution_count": 52,
   "metadata": {},
   "outputs": [
    {
     "name": "stdout",
     "output_type": "stream",
     "text": [
      "<class 'bs4.BeautifulSoup'>\n",
      "{'teiheader', 'body', 'title', 'bibl', 'tei', 'html', 'pb', 'sourcedesc', 'text', 'p', 'l', 'kopie', 'publicationstmt', 'titlestmt', 'hi', 'publisher', 'lg', 'filedesc'}\n",
      "5402\n",
      "5209\n"
     ]
    }
   ],
   "source": [
    "print(type(bs_content))\n",
    "tags = set()\n",
    "for tag in bs_content.findAll(True):\n",
    "    tags.add(tag.name)    \n",
    "print(tags)\n",
    "\n",
    "#print(len((bs_content.find_all('l'))))\n",
    "all_l = bs_content.find_all('l')\n",
    "#len(all_l)-len(result)\n",
    "#print(len(all_l))\n",
    "content_l =list()\n",
    "for item in all_l:\n",
    "    content= item.text\n",
    "    content_l.append(content)\n",
    "#print(len(content_l))\n",
    "kopies_in_l =list()\n",
    "for kopie in line_content_K:\n",
    "    for line in content_l:\n",
    "        if kopie == line:\n",
    "            kopies_in_l.append(kopie)\n",
    "print(len(kopies_in_l))\n",
    "print(len(line_content_K))\n",
    "\n",
    "'''this method finds 192 more kopies than there are in line_content_K, these must be the line swhich are duplicated both as\n",
    "kopie and non-kopie'''"
   ]
  },
  {
   "cell_type": "code",
   "execution_count": 118,
   "metadata": {},
   "outputs": [
    {
     "name": "stdout",
     "output_type": "stream",
     "text": [
      "0\n"
     ]
    }
   ],
   "source": [
    "count= 0\n",
    "for item in line_content_K:\n",
    "    if item == '\\n':\n",
    "        count +=1\n",
    "        \n",
    "print(count)"
   ]
  },
  {
   "cell_type": "code",
   "execution_count": 3,
   "metadata": {},
   "outputs": [
    {
     "name": "stdout",
     "output_type": "stream",
     "text": [
      "['\\n', 'der', '\\n', 'kronijk', '\\n', 'van', '\\n', 'Purmerende', '\\n', 'als een']\n"
     ]
    }
   ],
   "source": [
    "content_list = list(bs_content.strings) \n",
    "no_kopie = list(set(content_list)- set(line_content_K))\n",
    "print(content_list[30:40])"
   ]
  },
  {
   "cell_type": "code",
   "execution_count": 4,
   "metadata": {},
   "outputs": [
    {
     "name": "stdout",
     "output_type": "stream",
     "text": [
      "0\n"
     ]
    },
    {
     "data": {
      "text/plain": [
       "'From here on use line_content_all in place of content_list. NOT! The new line_content_all has simmilar issues in that it \\nleaves out 119 of the kopie tags, 118 of those left out seem to be different from the 117 tags left out by the method used\\nto make line_content'"
      ]
     },
     "execution_count": 4,
     "metadata": {},
     "output_type": "execute_result"
    }
   ],
   "source": [
    "\n",
    "    \n",
    "    \n",
    "#print(len(content_list))\n",
    "#rint(len(everything_results))\n",
    "#print(new_trial_content_list)\n",
    "tags = set()\n",
    "for tag in bs_content.findAll(True):\n",
    "    tags.add(tag.name)\n",
    "    \n",
    "#print(tags)\n",
    "\n",
    "#print(type(bs_content))\n",
    "\n",
    "everything_results = bs_content.find_all(\"l\")\n",
    "\n",
    "#kopies_in_everything_results = everything_results.find_all(\"kopie\")\n",
    "#print(len(kopies_in_everything_results))\n",
    "#print(first)\n",
    "\n",
    "in_result_and_in_everything_results = list()\n",
    "for item in result:\n",
    "    if item in everything_results:\n",
    "        in_result_and_in_everything_results.append(item)\n",
    "print(len(in_result_and_in_everything_results))\n",
    "'''this returns 0'''\n",
    "\n",
    "#print(len(everything_results))\n",
    "#print(everything_results[30:40])\n",
    "\n",
    "line_content_all =list()\n",
    "for item in everything_results:\n",
    "    content= item.text\n",
    "    line_content_all.append(content)\n",
    "\n",
    "    \n",
    "#print(len(line_content_all))\n",
    "#print(line_content_all[0:20])\n",
    "#print(kopie_count)\n",
    "\n",
    "'''From here on use line_content_all in place of content_list. NOT! The new line_content_all has simmilar issues in that it \n",
    "leaves out 119 of the kopie tags, 118 of those left out seem to be different from the 117 tags left out by the method used\n",
    "to make line_content'''"
   ]
  },
  {
   "cell_type": "code",
   "execution_count": null,
   "metadata": {},
   "outputs": [],
   "source": []
  },
  {
   "cell_type": "code",
   "execution_count": null,
   "metadata": {},
   "outputs": [],
   "source": []
  },
  {
   "cell_type": "code",
   "execution_count": 71,
   "metadata": {},
   "outputs": [
    {
     "data": {
      "text/plain": [
       "'unlike in the original attempt, here the indices line up perfectly e.g. consecutive lines which are copied have\\nconsecutive indices.'"
      ]
     },
     "execution_count": 71,
     "metadata": {},
     "output_type": "execute_result"
    }
   ],
   "source": [
    "dict_list = list()\n",
    "n = 0\n",
    "for item in list(everything_results):\n",
    "    item_string = str(item)\n",
    "    temp_dict =dict()\n",
    "    n+=1\n",
    "    if '<kopie>' in item_string:\n",
    "        temp_dict['text'] = item.text\n",
    "        temp_dict['index']= n\n",
    "        temp_dict['kopie']= 1\n",
    "        dict_list.append(temp_dict)\n",
    "    else:\n",
    "        temp_dict['text'] =item.text\n",
    "        temp_dict['index'] = n\n",
    "        temp_dict['kopie'] = 0\n",
    "        dict_list.append(temp_dict)\n",
    "#print(len(dict_list))\n",
    "#print(dict_list[0:10])\n",
    "\n",
    "'''I like this list of dicts and it gives me everything I need, but Im still not sure if the kopies line up between this and \n",
    "the find_all(kopie) method. In theory they should because everythings is first tagged as a linebefore a nested kopie tag\n",
    "...The difference in length between the two is 27'''\n",
    "\n",
    "dict_kopie_list = list()\n",
    "for temp_dict in dict_list:\n",
    "    if temp_dict['kopie'] == 1:\n",
    "        dict_kopie_list.append(temp_dict['text'])\n",
    "        \n",
    "#print(len(dict_kopie_list))\n",
    "#print(len(line_content_K))\n",
    "\n",
    "#print(len(set(dict_kopie_list)-(set(line_content_K))))\n",
    "'''there are 119 kopies which are not shared between the texts. This is different from their difference in length being 27...'''\n",
    "kopie_indices = list()\n",
    "for temp_dict in dict_list:\n",
    "    if temp_dict['kopie'] == 1:\n",
    "        kopie_indices.append(temp_dict['index'])\n",
    "#print(kopie_indices)\n",
    "'''unlike in the original attempt, here the indices line up perfectly e.g. consecutive lines which are copied have\n",
    "consecutive indices.'''\n"
   ]
  },
  {
   "cell_type": "code",
   "execution_count": 72,
   "metadata": {},
   "outputs": [],
   "source": [
    "import pandas as pd\n",
    "\n",
    "new_df = pd.DataFrame(dict_list)"
   ]
  },
  {
   "cell_type": "code",
   "execution_count": 83,
   "metadata": {},
   "outputs": [
    {
     "data": {
      "text/html": [
       "<div>\n",
       "<style scoped>\n",
       "    .dataframe tbody tr th:only-of-type {\n",
       "        vertical-align: middle;\n",
       "    }\n",
       "\n",
       "    .dataframe tbody tr th {\n",
       "        vertical-align: top;\n",
       "    }\n",
       "\n",
       "    .dataframe thead th {\n",
       "        text-align: right;\n",
       "    }\n",
       "</style>\n",
       "<table border=\"1\" class=\"dataframe\">\n",
       "  <thead>\n",
       "    <tr style=\"text-align: right;\">\n",
       "      <th></th>\n",
       "      <th>index</th>\n",
       "      <th>kopie</th>\n",
       "      <th>text</th>\n",
       "    </tr>\n",
       "  </thead>\n",
       "  <tbody>\n",
       "    <tr>\n",
       "      <th>0</th>\n",
       "      <td>1</td>\n",
       "      <td>0</td>\n",
       "      <td>[afbeelding]</td>\n",
       "    </tr>\n",
       "    <tr>\n",
       "      <th>1</th>\n",
       "      <td>2</td>\n",
       "      <td>0</td>\n",
       "      <td>Vervolg</td>\n",
       "    </tr>\n",
       "    <tr>\n",
       "      <th>2</th>\n",
       "      <td>3</td>\n",
       "      <td>0</td>\n",
       "      <td>der</td>\n",
       "    </tr>\n",
       "    <tr>\n",
       "      <th>3</th>\n",
       "      <td>4</td>\n",
       "      <td>0</td>\n",
       "      <td>kronijk</td>\n",
       "    </tr>\n",
       "    <tr>\n",
       "      <th>4</th>\n",
       "      <td>5</td>\n",
       "      <td>0</td>\n",
       "      <td>van</td>\n",
       "    </tr>\n",
       "    <tr>\n",
       "      <th>5</th>\n",
       "      <td>6</td>\n",
       "      <td>0</td>\n",
       "      <td>Purmerende</td>\n",
       "    </tr>\n",
       "    <tr>\n",
       "      <th>6</th>\n",
       "      <td>7</td>\n",
       "      <td>0</td>\n",
       "      <td>als een</td>\n",
       "    </tr>\n",
       "    <tr>\n",
       "      <th>7</th>\n",
       "      <td>8</td>\n",
       "      <td>0</td>\n",
       "      <td>tweede deel</td>\n",
       "    </tr>\n",
       "    <tr>\n",
       "      <th>8</th>\n",
       "      <td>9</td>\n",
       "      <td>0</td>\n",
       "      <td>bevattende de jaaren</td>\n",
       "    </tr>\n",
       "    <tr>\n",
       "      <th>9</th>\n",
       "      <td>10</td>\n",
       "      <td>0</td>\n",
       "      <td>1766 tot 1774</td>\n",
       "    </tr>\n",
       "    <tr>\n",
       "      <th>10</th>\n",
       "      <td>11</td>\n",
       "      <td>0</td>\n",
       "      <td>eerste stuk</td>\n",
       "    </tr>\n",
       "    <tr>\n",
       "      <th>11</th>\n",
       "      <td>12</td>\n",
       "      <td>0</td>\n",
       "      <td>Voorberigt</td>\n",
       "    </tr>\n",
       "    <tr>\n",
       "      <th>12</th>\n",
       "      <td>13</td>\n",
       "      <td>0</td>\n",
       "      <td>Veel Geachte Burgers</td>\n",
       "    </tr>\n",
       "    <tr>\n",
       "      <th>13</th>\n",
       "      <td>14</td>\n",
       "      <td>0</td>\n",
       "      <td>der Stad Purmerende,</td>\n",
       "    </tr>\n",
       "    <tr>\n",
       "      <th>14</th>\n",
       "      <td>15</td>\n",
       "      <td>0</td>\n",
       "      <td>Ik breng Uw weder alhier onder het oog</td>\n",
       "    </tr>\n",
       "    <tr>\n",
       "      <th>15</th>\n",
       "      <td>16</td>\n",
       "      <td>0</td>\n",
       "      <td>een vervolg op de Kronijk van Purmerende</td>\n",
       "    </tr>\n",
       "    <tr>\n",
       "      <th>16</th>\n",
       "      <td>17</td>\n",
       "      <td>0</td>\n",
       "      <td>door mijn beschreven, konnende dese als</td>\n",
       "    </tr>\n",
       "    <tr>\n",
       "      <th>17</th>\n",
       "      <td>18</td>\n",
       "      <td>0</td>\n",
       "      <td>een Tweede deel, of vervolg, van het aenmerk¬</td>\n",
       "    </tr>\n",
       "    <tr>\n",
       "      <th>18</th>\n",
       "      <td>19</td>\n",
       "      <td>0</td>\n",
       "      <td>waerdigste binnen de korte tijd van elf jaeren,</td>\n",
       "    </tr>\n",
       "    <tr>\n",
       "      <th>19</th>\n",
       "      <td>20</td>\n",
       "      <td>0</td>\n",
       "      <td>van 1766 tot het eijnde van 't jaar 1777 bin¬</td>\n",
       "    </tr>\n",
       "    <tr>\n",
       "      <th>20</th>\n",
       "      <td>21</td>\n",
       "      <td>0</td>\n",
       "      <td>nen deze stad voorgevallen, dienen Mijne</td>\n",
       "    </tr>\n",
       "    <tr>\n",
       "      <th>21</th>\n",
       "      <td>22</td>\n",
       "      <td>0</td>\n",
       "      <td>gedagten waren om het bij het Eerste deel</td>\n",
       "    </tr>\n",
       "    <tr>\n",
       "      <th>22</th>\n",
       "      <td>23</td>\n",
       "      <td>0</td>\n",
       "      <td>der kronijk of geschiedenisse dezer stadt,</td>\n",
       "    </tr>\n",
       "    <tr>\n",
       "      <th>23</th>\n",
       "      <td>24</td>\n",
       "      <td>0</td>\n",
       "      <td>het te laeten berusten, maar de voornaeme</td>\n",
       "    </tr>\n",
       "    <tr>\n",
       "      <th>24</th>\n",
       "      <td>25</td>\n",
       "      <td>0</td>\n",
       "      <td>en buijtengewoone voorvallen, dewelke in deze</td>\n",
       "    </tr>\n",
       "    <tr>\n",
       "      <th>25</th>\n",
       "      <td>26</td>\n",
       "      <td>0</td>\n",
       "      <td>korte tijdkring alhier zijn gebeurt, heb¬</td>\n",
       "    </tr>\n",
       "    <tr>\n",
       "      <th>26</th>\n",
       "      <td>27</td>\n",
       "      <td>0</td>\n",
       "      <td>ben mijn verpligt, om de pen weder op te</td>\n",
       "    </tr>\n",
       "    <tr>\n",
       "      <th>27</th>\n",
       "      <td>28</td>\n",
       "      <td>0</td>\n",
       "      <td>vatten, om daer door geduurig, eene aan¬</td>\n",
       "    </tr>\n",
       "    <tr>\n",
       "      <th>28</th>\n",
       "      <td>29</td>\n",
       "      <td>0</td>\n",
       "      <td>genaeme nagedagtenisse, in ons geheu¬</td>\n",
       "    </tr>\n",
       "    <tr>\n",
       "      <th>29</th>\n",
       "      <td>30</td>\n",
       "      <td>0</td>\n",
       "      <td>gen te doen herleeven, Het voornaems¬</td>\n",
       "    </tr>\n",
       "    <tr>\n",
       "      <th>...</th>\n",
       "      <td>...</td>\n",
       "      <td>...</td>\n",
       "      <td>...</td>\n",
       "    </tr>\n",
       "    <tr>\n",
       "      <th>45095</th>\n",
       "      <td>45096</td>\n",
       "      <td>0</td>\n",
       "      <td>geweest dewelke door de Slegte vangst, de</td>\n",
       "    </tr>\n",
       "    <tr>\n",
       "      <th>45096</th>\n",
       "      <td>45097</td>\n",
       "      <td>0</td>\n",
       "      <td>Premien getrokken hebben, bestaande in</td>\n",
       "    </tr>\n",
       "    <tr>\n",
       "      <th>45097</th>\n",
       "      <td>45098</td>\n",
       "      <td>0</td>\n",
       "      <td>Ƒ 50 Guld: voor ijder kwardeel Traan het welk</td>\n",
       "    </tr>\n",
       "    <tr>\n",
       "      <th>45098</th>\n",
       "      <td>45099</td>\n",
       "      <td>0</td>\n",
       "      <td>ijder Schip beneden de 100 kwardeelen gevangen</td>\n",
       "    </tr>\n",
       "    <tr>\n",
       "      <th>45099</th>\n",
       "      <td>45100</td>\n",
       "      <td>0</td>\n",
       "      <td>had; Het welk aan 't Land ruim 1,50,000 Guldens</td>\n",
       "    </tr>\n",
       "    <tr>\n",
       "      <th>45100</th>\n",
       "      <td>45101</td>\n",
       "      <td>0</td>\n",
       "      <td>gekost heeft, met die van St: Davids daar bijge¬</td>\n",
       "    </tr>\n",
       "    <tr>\n",
       "      <th>45101</th>\n",
       "      <td>45102</td>\n",
       "      <td>0</td>\n",
       "      <td>rekend Groenland bedr: Ƒ 114850 : -  : -</td>\n",
       "    </tr>\n",
       "    <tr>\n",
       "      <th>45102</th>\n",
       "      <td>45103</td>\n",
       "      <td>0</td>\n",
       "      <td>en St Davids van de 15 Schep:</td>\n",
       "    </tr>\n",
       "    <tr>\n",
       "      <th>45103</th>\n",
       "      <td>45104</td>\n",
       "      <td>0</td>\n",
       "      <td>11 Trekkende Ƒ 46050 : - : -</td>\n",
       "    </tr>\n",
       "    <tr>\n",
       "      <th>45104</th>\n",
       "      <td>45105</td>\n",
       "      <td>0</td>\n",
       "      <td>dus te zamen Ƒ 160900 : - :-</td>\n",
       "    </tr>\n",
       "    <tr>\n",
       "      <th>45105</th>\n",
       "      <td>45106</td>\n",
       "      <td>0</td>\n",
       "      <td>Onder deze 45 redereijen zoo van Groenl.</td>\n",
       "    </tr>\n",
       "    <tr>\n",
       "      <th>45106</th>\n",
       "      <td>45107</td>\n",
       "      <td>0</td>\n",
       "      <td>als Str Davids, zijn 'er 15 geweest die de</td>\n",
       "    </tr>\n",
       "    <tr>\n",
       "      <th>45107</th>\n",
       "      <td>45108</td>\n",
       "      <td>0</td>\n",
       "      <td>volle premie van Ƒ 5000 guld: en 9 die tot  Ƒ ...</td>\n",
       "    </tr>\n",
       "    <tr>\n",
       "      <th>45108</th>\n",
       "      <td>45109</td>\n",
       "      <td>0</td>\n",
       "      <td>en daar boven Schaevergoeding genooten had,</td>\n",
       "    </tr>\n",
       "    <tr>\n",
       "      <th>45109</th>\n",
       "      <td>45110</td>\n",
       "      <td>0</td>\n",
       "      <td>Nogthans hadden de Reders van deze Schep:</td>\n",
       "    </tr>\n",
       "    <tr>\n",
       "      <th>45110</th>\n",
       "      <td>45111</td>\n",
       "      <td>0</td>\n",
       "      <td>Voor dit Jaar nog meer dan 4 Tonnen Gouds</td>\n",
       "    </tr>\n",
       "    <tr>\n",
       "      <th>45111</th>\n",
       "      <td>45112</td>\n",
       "      <td>0</td>\n",
       "      <td>uijt haare eijgene Beurs daar bij laet  zitten</td>\n",
       "    </tr>\n",
       "    <tr>\n",
       "      <th>45112</th>\n",
       "      <td>45113</td>\n",
       "      <td>0</td>\n",
       "      <td>door Mis Credit van de Wisselbank tot Am@@@</td>\n",
       "    </tr>\n",
       "    <tr>\n",
       "      <th>45113</th>\n",
       "      <td>45114</td>\n",
       "      <td>0</td>\n",
       "      <td>was het Bankgeld gedaald tot Ƒ 4 Guld:</td>\n",
       "    </tr>\n",
       "    <tr>\n",
       "      <th>45114</th>\n",
       "      <td>45115</td>\n",
       "      <td>0</td>\n",
       "      <td>van de Ƒ 100 Guld: beneden het Casgeld in 't</td>\n",
       "    </tr>\n",
       "    <tr>\n",
       "      <th>45115</th>\n",
       "      <td>45116</td>\n",
       "      <td>0</td>\n",
       "      <td>Jaar 1791 Het geene eene groote Confus@</td>\n",
       "    </tr>\n",
       "    <tr>\n",
       "      <th>45116</th>\n",
       "      <td>45117</td>\n",
       "      <td>0</td>\n",
       "      <td>in de Koophandel en Wissel Cours gaf</td>\n",
       "    </tr>\n",
       "    <tr>\n",
       "      <th>45117</th>\n",
       "      <td>45118</td>\n",
       "      <td>0</td>\n",
       "      <td>waar op die Stad eene Negotiatie van</td>\n",
       "    </tr>\n",
       "    <tr>\n",
       "      <th>45118</th>\n",
       "      <td>45119</td>\n",
       "      <td>0</td>\n",
       "      <td>6 Millioen: Guld: tegens 3 ½ gld pr Cents</td>\n",
       "    </tr>\n",
       "    <tr>\n",
       "      <th>45119</th>\n",
       "      <td>45120</td>\n",
       "      <td>0</td>\n",
       "      <td>Ter Stads Thezauriere voor de tijd van</td>\n",
       "    </tr>\n",
       "    <tr>\n",
       "      <th>45120</th>\n",
       "      <td>45121</td>\n",
       "      <td>0</td>\n",
       "      <td>12 Jaaren of 6 Jaaren na goed vinden af te</td>\n",
       "    </tr>\n",
       "    <tr>\n",
       "      <th>45121</th>\n",
       "      <td>45122</td>\n",
       "      <td>0</td>\n",
       "      <td>lossen genegotiëerd heeft in de Maand</td>\n",
       "    </tr>\n",
       "    <tr>\n",
       "      <th>45122</th>\n",
       "      <td>45123</td>\n",
       "      <td>0</td>\n",
       "      <td>Junij 1791 was het Credit van het Bank¬</td>\n",
       "    </tr>\n",
       "    <tr>\n",
       "      <th>45123</th>\n",
       "      <td>45124</td>\n",
       "      <td>0</td>\n",
       "      <td>geld a la pari, of gelijk tegens het Casgeld;</td>\n",
       "    </tr>\n",
       "    <tr>\n",
       "      <th>45124</th>\n",
       "      <td>45125</td>\n",
       "      <td>0</td>\n",
       "      <td>898</td>\n",
       "    </tr>\n",
       "  </tbody>\n",
       "</table>\n",
       "<p>45125 rows × 3 columns</p>\n",
       "</div>"
      ],
      "text/plain": [
       "       index  kopie                                               text\n",
       "0          1      0                                       [afbeelding]\n",
       "1          2      0                                            Vervolg\n",
       "2          3      0                                                der\n",
       "3          4      0                                            kronijk\n",
       "4          5      0                                                van\n",
       "5          6      0                                         Purmerende\n",
       "6          7      0                                            als een\n",
       "7          8      0                                        tweede deel\n",
       "8          9      0                               bevattende de jaaren\n",
       "9         10      0                                      1766 tot 1774\n",
       "10        11      0                                        eerste stuk\n",
       "11        12      0                                         Voorberigt\n",
       "12        13      0                               Veel Geachte Burgers\n",
       "13        14      0                               der Stad Purmerende,\n",
       "14        15      0             Ik breng Uw weder alhier onder het oog\n",
       "15        16      0           een vervolg op de Kronijk van Purmerende\n",
       "16        17      0            door mijn beschreven, konnende dese als\n",
       "17        18      0      een Tweede deel, of vervolg, van het aenmerk¬\n",
       "18        19      0    waerdigste binnen de korte tijd van elf jaeren,\n",
       "19        20      0      van 1766 tot het eijnde van 't jaar 1777 bin¬\n",
       "20        21      0           nen deze stad voorgevallen, dienen Mijne\n",
       "21        22      0          gedagten waren om het bij het Eerste deel\n",
       "22        23      0         der kronijk of geschiedenisse dezer stadt,\n",
       "23        24      0          het te laeten berusten, maar de voornaeme\n",
       "24        25      0      en buijtengewoone voorvallen, dewelke in deze\n",
       "25        26      0          korte tijdkring alhier zijn gebeurt, heb¬\n",
       "26        27      0           ben mijn verpligt, om de pen weder op te\n",
       "27        28      0           vatten, om daer door geduurig, eene aan¬\n",
       "28        29      0              genaeme nagedagtenisse, in ons geheu¬\n",
       "29        30      0              gen te doen herleeven, Het voornaems¬\n",
       "...      ...    ...                                                ...\n",
       "45095  45096      0          geweest dewelke door de Slegte vangst, de\n",
       "45096  45097      0            Premien getrokken hebben, bestaande in \n",
       "45097  45098      0      Ƒ 50 Guld: voor ijder kwardeel Traan het welk\n",
       "45098  45099      0     ijder Schip beneden de 100 kwardeelen gevangen\n",
       "45099  45100      0    had; Het welk aan 't Land ruim 1,50,000 Guldens\n",
       "45100  45101      0   gekost heeft, met die van St: Davids daar bijge¬\n",
       "45101  45102      0           rekend Groenland bedr: Ƒ 114850 : -  : -\n",
       "45102  45103      0                      en St Davids van de 15 Schep:\n",
       "45103  45104      0                       11 Trekkende Ƒ 46050 : - : -\n",
       "45104  45105      0                       dus te zamen Ƒ 160900 : - :-\n",
       "45105  45106      0           Onder deze 45 redereijen zoo van Groenl.\n",
       "45106  45107      0         als Str Davids, zijn 'er 15 geweest die de\n",
       "45107  45108      0  volle premie van Ƒ 5000 guld: en 9 die tot  Ƒ ...\n",
       "45108  45109      0        en daar boven Schaevergoeding genooten had,\n",
       "45109  45110      0          Nogthans hadden de Reders van deze Schep:\n",
       "45110  45111      0          Voor dit Jaar nog meer dan 4 Tonnen Gouds\n",
       "45111  45112      0     uijt haare eijgene Beurs daar bij laet  zitten\n",
       "45112  45113      0        door Mis Credit van de Wisselbank tot Am@@@\n",
       "45113  45114      0             was het Bankgeld gedaald tot Ƒ 4 Guld:\n",
       "45114  45115      0       van de Ƒ 100 Guld: beneden het Casgeld in 't\n",
       "45115  45116      0            Jaar 1791 Het geene eene groote Confus@\n",
       "45116  45117      0               in de Koophandel en Wissel Cours gaf\n",
       "45117  45118      0               waar op die Stad eene Negotiatie van\n",
       "45118  45119      0          6 Millioen: Guld: tegens 3 ½ gld pr Cents\n",
       "45119  45120      0             Ter Stads Thezauriere voor de tijd van\n",
       "45120  45121      0         12 Jaaren of 6 Jaaren na goed vinden af te\n",
       "45121  45122      0              lossen genegotiëerd heeft in de Maand\n",
       "45122  45123      0            Junij 1791 was het Credit van het Bank¬\n",
       "45123  45124      0      geld a la pari, of gelijk tegens het Casgeld;\n",
       "45124  45125      0                                                898\n",
       "\n",
       "[45125 rows x 3 columns]"
      ]
     },
     "execution_count": 83,
     "metadata": {},
     "output_type": "execute_result"
    }
   ],
   "source": [
    "'''want to compare each row in the new_df and find consecutive rows with the same value for kopie and consecutive indices.\n",
    "These should be grouped together to form a second df where the text column is a string of all the lines that meet this filter\n",
    "joined together into one text chunk, kopie column is still 0/1 and index column is the list of line indices included in that \n",
    "text chunk'''\n",
    "new_df"
   ]
  },
  {
   "cell_type": "code",
   "execution_count": 82,
   "metadata": {},
   "outputs": [
    {
     "data": {
      "text/html": [
       "<div>\n",
       "<style scoped>\n",
       "    .dataframe tbody tr th:only-of-type {\n",
       "        vertical-align: middle;\n",
       "    }\n",
       "\n",
       "    .dataframe tbody tr th {\n",
       "        vertical-align: top;\n",
       "    }\n",
       "\n",
       "    .dataframe thead th {\n",
       "        text-align: right;\n",
       "    }\n",
       "</style>\n",
       "<table border=\"1\" class=\"dataframe\">\n",
       "  <thead>\n",
       "    <tr style=\"text-align: right;\">\n",
       "      <th></th>\n",
       "      <th>Kopie</th>\n",
       "      <th>Freq</th>\n",
       "    </tr>\n",
       "  </thead>\n",
       "  <tbody>\n",
       "    <tr>\n",
       "      <th>0</th>\n",
       "      <td>0</td>\n",
       "      <td>39943</td>\n",
       "    </tr>\n",
       "    <tr>\n",
       "      <th>1</th>\n",
       "      <td>1</td>\n",
       "      <td>5182</td>\n",
       "    </tr>\n",
       "  </tbody>\n",
       "</table>\n",
       "</div>"
      ],
      "text/plain": [
       "   Kopie   Freq\n",
       "0      0  39943\n",
       "1      1   5182"
      ]
     },
     "execution_count": 82,
     "metadata": {},
     "output_type": "execute_result"
    }
   ],
   "source": [
    "'''Double checking the number of kopies vs non-kopies in new_df'''\n",
    "kopie_freqs=new_df['kopie'].value_counts()\n",
    "kopie_freqs_df = pd.DataFrame(kopie_freqs.iteritems(), columns =['Kopie', 'Freq',])\n",
    "kopie_freqs_df"
   ]
  },
  {
   "cell_type": "code",
   "execution_count": null,
   "metadata": {},
   "outputs": [],
   "source": [
    "'''working on grouping from new_df'''\n",
    "\n",
    "\n",
    "\n",
    "\n",
    "\n",
    "\n"
   ]
  },
  {
   "cell_type": "code",
   "execution_count": null,
   "metadata": {},
   "outputs": [],
   "source": []
  },
  {
   "cell_type": "code",
   "execution_count": null,
   "metadata": {},
   "outputs": [],
   "source": []
  },
  {
   "cell_type": "code",
   "execution_count": 61,
   "metadata": {},
   "outputs": [
    {
     "name": "stdout",
     "output_type": "stream",
     "text": [
      "5182\n",
      "[{'text': <l>woorden, <kopie>Nooijt stond ik, om dit in t'</kopie></l>, 'index': 73}, {'text': <l><kopie>voorbij gaan te melden, meer verzet,</kopie></l>, 'index': 74}, {'text': <l><kopie>over hun lieden, Namentlijk de Bur¬</kopie></l>, 'index': 75}, {'text': <l><kopie>gereij, Konst en Smaak, in dit op¬</kopie></l>, 'index': 76}, {'text': <l><kopie>zigt, dan bij de laaste komste van</kopie></l>, 'index': 77}, {'text': <l><kopie>zijne doorl: Hoogheijd ter steede</kopie></l>, 'index': 78}, {'text': <l><kopie>Purmerende, de Geheele Stadt was</kopie></l>, 'index': 79}, {'text': <l><kopie>een Lustpriëel, de Konstige Eere¬</kopie></l>, 'index': 80}, {'text': <l><kopie>Poorten, bestaande uijt Palm en</kopie></l>, 'index': 81}, {'text': <l><kopie>Bloemen, aan Latwerk gevlogten,</kopie></l>, 'index': 82}]\n"
     ]
    },
    {
     "data": {
      "text/plain": [
       "'BUT when we compare the contents then it appears that there are 144 kopies in line_content_K which do not appear\\nin text_only_k'"
      ]
     },
     "execution_count": 61,
     "metadata": {},
     "output_type": "execute_result"
    }
   ],
   "source": [
    "#print(everything_results[70:80])\n",
    "#print(list(everything_results[70:80]))\n",
    "\n",
    "#print(len(kopie_list))\n",
    "#print(len(line_content_K))\n",
    "\n",
    "#print(type(kopie_list[0]))\n",
    "text_only_K =list()\n",
    "for kopie_dict in :\n",
    "    content= item.text\n",
    "    text_only_K.append(content)\n",
    "    \n",
    "#print(len(text_only_K))\n",
    "\n",
    "'''kopie_list/text_only_K contains 27 less items than line_content_K, this is the closest to accuarte number so far.'''\n",
    "not_in_text_only = list()\n",
    "n=0\n",
    "for item in line_content_K:\n",
    "    if item not in text_only_K:\n",
    "        n+=1\n",
    "        not_in_text_only.append(item)\n",
    "        \n",
    "#print(n)\n",
    "#print(not_in_text_only)\n",
    "\n",
    "'''BUT when we compare the contents then it appears that there are 144 kopies in line_content_K which do not appear\n",
    "in text_only_k'''"
   ]
  },
  {
   "cell_type": "code",
   "execution_count": 92,
   "metadata": {},
   "outputs": [
    {
     "name": "stdout",
     "output_type": "stream",
     "text": [
      "101056\n",
      "53327\n"
     ]
    }
   ],
   "source": [
    "print(len(content_list))\n",
    "for item in content_list:\n",
    "    if item == '\\n':\n",
    "        content_list.remove(item)\n",
    "print(len(content_list))"
   ]
  },
  {
   "cell_type": "code",
   "execution_count": 24,
   "metadata": {},
   "outputs": [
    {
     "name": "stdout",
     "output_type": "stream",
     "text": [
      "101057\n",
      "101057\n"
     ]
    }
   ],
   "source": [
    "'''adding an index for each line in the whole doc (content_list)'''\n",
    "large_container = list()\n",
    "for index, item in enumerate(content_list):\n",
    "    small = dict()\n",
    "    small['line'] = item\n",
    "    small['index'] = index\n",
    "    large_container.append(small)\n",
    "print(len(large_container))\n",
    "print(len(content_list))\n",
    "#print(large_container[30:65])\n",
    "    "
   ]
  },
  {
   "cell_type": "code",
   "execution_count": 94,
   "metadata": {},
   "outputs": [
    {
     "name": "stdout",
     "output_type": "stream",
     "text": [
      "[{'line': '1791_Purm_Louw', 'index': 0}, {'line': 'tranScriptorium', 'index': 1}, {'line': 'TRP document creator: didaa98@gmail.com', 'index': 2}, {'line': '[afbeelding]', 'index': 3}, {'line': 'Vervolg', 'index': 4}]\n"
     ]
    }
   ],
   "source": [
    "print(large_container[0:5])"
   ]
  },
  {
   "cell_type": "code",
   "execution_count": 25,
   "metadata": {},
   "outputs": [],
   "source": [
    "#for item in large_container:\n",
    "#    if item['line'] in line_content_K:\n",
    " #       item['kopie'] = 1\n",
    "#    else:\n",
    "#        item['kopie'] = 0\n",
    "        \n",
    "'''seems like this is the wrong method as it leads to more kopies in the dicitonary (5591) than in the original \n",
    "line_content_K (5209) (difference = 382), this means there must be lines which are exactly duplicated as both kopie and non-kopie \n",
    "within the text.'''\n",
    "\n",
    "#for small_dict in large_container:\n",
    "#    for k_item in line_content_K:\n",
    "#        if small_dict['line'] == k_item:\n",
    "#            small_dict['kopie'] = 1\n",
    "#        else:\n",
    "#            small_dict['kopie'] = 0\n",
    "\n"
   ]
  },
  {
   "cell_type": "code",
   "execution_count": 26,
   "metadata": {},
   "outputs": [
    {
     "name": "stdout",
     "output_type": "stream",
     "text": [
      "5209\n",
      "1\n",
      "5208\n",
      "117\n",
      "1\n"
     ]
    },
    {
     "ename": "AssertionError",
     "evalue": "",
     "output_type": "error",
     "traceback": [
      "\u001b[1;31m---------------------------------------------------------------------------\u001b[0m",
      "\u001b[1;31mAssertionError\u001b[0m                            Traceback (most recent call last)",
      "\u001b[1;32m<ipython-input-26-2ef8bc768eaa>\u001b[0m in \u001b[0;36m<module>\u001b[1;34m\u001b[0m\n\u001b[0;32m     28\u001b[0m \u001b[0mprint\u001b[0m\u001b[1;33m(\u001b[0m\u001b[0mlen\u001b[0m\u001b[1;33m(\u001b[0m\u001b[0mkopie_in_dict_and_content_list\u001b[0m\u001b[1;33m)\u001b[0m\u001b[1;33m)\u001b[0m\u001b[1;33m\u001b[0m\u001b[1;33m\u001b[0m\u001b[0m\n\u001b[0;32m     29\u001b[0m \u001b[1;33m\u001b[0m\u001b[0m\n\u001b[1;32m---> 30\u001b[1;33m \u001b[1;32massert\u001b[0m \u001b[0mkopie_not_in_content_list_or_dict\u001b[0m \u001b[1;33m==\u001b[0m \u001b[0mkopies_not_in_dict\u001b[0m\u001b[1;33m\u001b[0m\u001b[1;33m\u001b[0m\u001b[0m\n\u001b[0m\u001b[0;32m     31\u001b[0m \u001b[0mprint\u001b[0m\u001b[1;33m(\u001b[0m\u001b[1;34m'true'\u001b[0m\u001b[1;33m)\u001b[0m\u001b[1;33m\u001b[0m\u001b[1;33m\u001b[0m\u001b[0m\n\u001b[0;32m     32\u001b[0m \u001b[1;33m\u001b[0m\u001b[0m\n",
      "\u001b[1;31mAssertionError\u001b[0m: "
     ]
    }
   ],
   "source": [
    "kopies_in_dict = list()\n",
    "for item in large_container:\n",
    "    if item['kopie'] == 1:\n",
    "        kopies_in_dict.append(item['line'])\n",
    "        \n",
    "kopies_not_in_dict = list()\n",
    "for item in line_content_K:\n",
    "    if item not in kopies_in_dict:\n",
    "        kopies_not_in_dict.append(item)\n",
    "        \n",
    "print(len(line_content_K))\n",
    "print(len(kopies_in_dict))\n",
    "print(len(kopies_not_in_dict))   \n",
    "\n",
    "#print(kopies_not_in_dict)\n",
    "kopie_not_in_content_list_or_dict = list()\n",
    "for item in kopies_not_in_dict:\n",
    "    if item not in content_list:\n",
    "        kopie_not_in_content_list_or_dict.append(item)\n",
    "        \n",
    "        \n",
    "print(len(kopie_not_in_content_list_or_dict))\n",
    "kopie_in_dict_and_content_list =list()\n",
    "for item in kopies_in_dict:\n",
    "    if item in content_list:\n",
    "        kopie_in_dict_and_content_list.append(item)\n",
    "        \n",
    "print(len(kopie_in_dict_and_content_list))\n",
    "\n",
    "assert kopie_not_in_content_list_or_dict == kopies_not_in_dict\n",
    "print('true')\n",
    "\n",
    "'''seems that the bs method used to create content_list does not catch everythin gin the document, 117 of the items tagged as\n",
    "kopie in line_content_K do not appear at all in content_list. This means that when we add the 0/1 binary to the dictionary\n",
    "using content_list, these are not not tagged as kopie and do not appear in the dictionary at all. This could be where\n",
    "some of the weird indexing etc is coming from, but the number seeems kind of small for that'''\n",
    "\n",
    "not_in_new_line_content_replacement = list()\n",
    "for item in line_content_K:\n",
    "    if item not in line_content_all:\n",
    "        not_in_new_line_content_replacement.append(item)\n",
    "        \n",
    "print(len(not_in_new_line_content_replacement))\n",
    "    \n",
    "'''seems like 119 items in content_list_K are not in content_list_all, I have no idea why'''\n",
    "\n",
    "different_between_methods =list()\n",
    "same_between_methods = list()\n",
    "for item in not_in_new_line_content_replacement:\n",
    "    if item not in kopie_not_in_content_list_or_dict:\n",
    "        different_between_methods.append(item)\n",
    "    else:\n",
    "        same_between_methods.append(item)\n",
    "        \n",
    "print(len(different_between_methods))\n",
    "print(len(same_between_methods))\n",
    "print(same_between_methods)\n",
    "\n",
    "'''of the kopies left out when using content_list (117) or line_content_all (119) only 1 item is missed by both. The other\n",
    "118 misses appear to be different.'''\n",
    "\n",
    "'''ACTUALLY there are more kopies in the dictionary (5591) than in line_content_K (5209), this means there must be line \n",
    "string replicated as both copies and none copies in the text'''"
   ]
  },
  {
   "cell_type": "code",
   "execution_count": 173,
   "metadata": {},
   "outputs": [],
   "source": [
    "#print(not_in_new_line_content_replacement)"
   ]
  },
  {
   "cell_type": "code",
   "execution_count": 109,
   "metadata": {},
   "outputs": [],
   "source": [
    "##big_list = list()\n",
    "#kopie_list = list()\n",
    "#no_kopie_list = list()\n",
    "\n",
    "#for item in line_content_K:\n",
    "#    mini_dict= dict()\n",
    "#    mini_dict['line_content'] = item\n",
    "#    mini_dict['kopie'] = 1\n",
    "##    big_list.append(mini_dict)\n",
    " #   kopie_list.append(mini_dict)\n",
    "#print(len(big_list))\n",
    "#print(big_list[0:2])\n",
    "\n",
    "#for item in no_kopie:\n",
    "#    mini_dict= dict()\n",
    "  #  mini_dict['line_content'] = item\n",
    " #   mini_dict['kopie'] = 0\n",
    "  #  big_list.append(mini_dict)\n",
    "#    no_kopie_list.append(mini_dict)\n",
    "#print(len(big_list))\n",
    "#print(len(kopie_list))\n",
    "#print(len(no_kopie_list))"
   ]
  },
  {
   "cell_type": "code",
   "execution_count": 31,
   "metadata": {},
   "outputs": [],
   "source": [
    "#for small in big_list:\n",
    "#    if small['line_content'] == '\\n':\n",
    "#    for item in large_container:\n",
    "#        if small['line_content'] == item['line']:\n",
    "#            small['index'] = item['index']"
   ]
  },
  {
   "cell_type": "code",
   "execution_count": 108,
   "metadata": {},
   "outputs": [],
   "source": [
    "#for item in big_list[0:200]:\n",
    "#    print(item['index'])\n",
    "#'''working but the consecutive lines are currently 2 apart instead of 1 e.g. 180,182,184,186 etc instead of 180,181,182,183.\n",
    "#Not sure why'''"
   ]
  },
  {
   "cell_type": "code",
   "execution_count": 107,
   "metadata": {},
   "outputs": [],
   "source": [
    "#for item in big_list:\n",
    "#    if (((int(item['index']))%2)==0)==False:\n",
    "#        print(item)\n",
    "#        \n",
    "#'''still seems like 2 apart but with odd numbers in some places? I dont know why'''"
   ]
  },
  {
   "cell_type": "code",
   "execution_count": 106,
   "metadata": {},
   "outputs": [],
   "source": [
    "#for item in big_list:\n",
    "#    if int(item['index'])==605:\n",
    "#        print(item)\n",
    "#        "
   ]
  },
  {
   "cell_type": "code",
   "execution_count": 19,
   "metadata": {},
   "outputs": [],
   "source": [
    "import pandas as pd"
   ]
  },
  {
   "cell_type": "code",
   "execution_count": 111,
   "metadata": {},
   "outputs": [
    {
     "data": {
      "text/plain": [
       "'Aim is to have a df of the whole chrinicle with the columns line_content and kopie. Line content is the textual\\ncontent of the line and kopie is a binary 0/1 indicating wether the line is tagged as a koppie or not.'"
      ]
     },
     "execution_count": 111,
     "metadata": {},
     "output_type": "execute_result"
    }
   ],
   "source": [
    "df_all= pd.DataFrame(large_container)\n",
    "\n",
    "#df_kopie= pd.DataFrame(kopie_list)\n",
    "\n",
    "#df_no_kopie= pd.DataFrame(no_kopie_list)\n",
    "\n",
    "'''Aim is to have a df of the whole chrinicle with the columns line_content and kopie. Line content is the textual\n",
    "content of the line and kopie is a binary 0/1 indicating wether the line is tagged as a koppie or not.'''"
   ]
  },
  {
   "cell_type": "code",
   "execution_count": 113,
   "metadata": {},
   "outputs": [
    {
     "name": "stdout",
     "output_type": "stream",
     "text": [
      "(53327, 3)\n"
     ]
    }
   ],
   "source": [
    "print(df_all.shape)\n",
    "#print(df_kopie.shape)\n",
    "#print(df_no_kopie.shape)"
   ]
  },
  {
   "cell_type": "code",
   "execution_count": 106,
   "metadata": {},
   "outputs": [],
   "source": [
    "counter = 0\n",
    "for item in kopie_list[0:100]:\n",
    "    content= item['line_content']\n",
    "    counter+=1\n",
    "    filename= f'kopie_text_{counter}'\n",
    "    filepath =(f\"kopie_files/{filename}.txt\")\n",
    "    file = open(filepath, \"w\", encoding= 'utf-8') #a=append,w=write,r=read\n",
    "    file.write(content)"
   ]
  },
  {
   "cell_type": "code",
   "execution_count": 107,
   "metadata": {},
   "outputs": [],
   "source": [
    "#counter = 0\n",
    "#for item in no_kopie_list[0:100]:\n",
    "#    content= item['line_content']\n",
    "#    counter+=1\n",
    "#    filename= f'no_kopie_text_{counter}'\n",
    "#   filepath =(f\"kopie_files/{filename}.txt\")\n",
    "#    file = open(filepath, \"w\", encoding= 'utf-8') #a=append,w=write,r=read\n",
    "#    file.write(content)"
   ]
  },
  {
   "cell_type": "code",
   "execution_count": 117,
   "metadata": {},
   "outputs": [
    {
     "data": {
      "text/plain": [
       "0    47736\n",
       "1     5591\n",
       "Name: kopie, dtype: int64"
      ]
     },
     "execution_count": 117,
     "metadata": {},
     "output_type": "execute_result"
    }
   ],
   "source": [
    "df_all['kopie'].value_counts()"
   ]
  },
  {
   "cell_type": "code",
   "execution_count": 120,
   "metadata": {},
   "outputs": [],
   "source": [
    "#if any(df_all['index'] == 'NaN')==True:\n",
    "#    print('nan found')\n",
    "#else:\n",
    "#    print('no nans')"
   ]
  },
  {
   "cell_type": "code",
   "execution_count": 119,
   "metadata": {},
   "outputs": [],
   "source": [
    "#df_kopie"
   ]
  },
  {
   "cell_type": "code",
   "execution_count": null,
   "metadata": {},
   "outputs": [],
   "source": []
  },
  {
   "cell_type": "code",
   "execution_count": null,
   "metadata": {},
   "outputs": [],
   "source": []
  },
  {
   "cell_type": "code",
   "execution_count": null,
   "metadata": {},
   "outputs": [],
   "source": []
  }
 ],
 "metadata": {
  "kernelspec": {
   "display_name": "Python 3",
   "language": "python",
   "name": "python3"
  },
  "language_info": {
   "codemirror_mode": {
    "name": "ipython",
    "version": 3
   },
   "file_extension": ".py",
   "mimetype": "text/x-python",
   "name": "python",
   "nbconvert_exporter": "python",
   "pygments_lexer": "ipython3",
   "version": "3.7.3"
  }
 },
 "nbformat": 4,
 "nbformat_minor": 2
}
