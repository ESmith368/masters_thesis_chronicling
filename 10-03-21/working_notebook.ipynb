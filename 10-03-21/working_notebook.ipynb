{
 "cells": [
  {
   "cell_type": "code",
   "execution_count": 142,
   "metadata": {},
   "outputs": [],
   "source": [
    "'''imports'''\n",
    "\n",
    "from bs4 import BeautifulSoup as bs\n",
    "import pandas as pd\n",
    "import collections\n",
    "import re"
   ]
  },
  {
   "cell_type": "code",
   "execution_count": 2,
   "metadata": {},
   "outputs": [],
   "source": [
    "def make_soup(file_path):\n",
    "    '''function takes file path to xml document reads in a uses bs to create and return soup object of the whole file.'''\n",
    "    content = list()\n",
    "    # Read the XML file\n",
    "    with open(file_path, \"r\", encoding= 'utf-8') as file:\n",
    "        # Read each line in the file, readlines() returns a list of lines\n",
    "        content = file.readlines()\n",
    "        # Combine the lines in the list into a string\n",
    "        content = \"\".join(content)\n",
    "        bs_content = bs(content, \"lxml\")\n",
    "        \n",
    "        return bs_content"
   ]
  },
  {
   "cell_type": "code",
   "execution_count": 3,
   "metadata": {},
   "outputs": [],
   "source": [
    "def indexed_kopie_line_dict(bs_content):\n",
    "    '''function takes the soup object outputted from make_soup finds all l labels and uses this information to find all kopie\n",
    "    labels within them. Returns a list of dictionaries, where each dictionary has \n",
    "    three keys.\n",
    "    text: The text from the line\n",
    "    index: The index of the line within the text body\n",
    "    kopie: binary 0/1 where 1 is kopie and 0 is non-kopie tagged'''\n",
    "    \n",
    "    #finding all ines ('l' tags)\n",
    "    everything_results = bs_content.find_all(\"l\")\n",
    "    \n",
    "    #creating the list of dictionaries\n",
    "    dict_list = list()\n",
    "    n = 0\n",
    "    everything_results = bs_content.find_all(\"l\")\n",
    "    for item in list(everything_results):\n",
    "        item_string = str(item)\n",
    "        temp_dict =dict()\n",
    "        n+=1\n",
    "        if '<kopie' in item_string:\n",
    "            xml = item.find('kopie')\n",
    "            temp_dict['text'] = xml.text\n",
    "            temp_dict['index']= n\n",
    "            temp_dict['kopie']= 1\n",
    "            dict_list.append(temp_dict)\n",
    "            c = collections.Counter(item.text) - collections.Counter(xml.text)                   \n",
    "            text_diff = ''.join(c.elements())\n",
    "            if len(text_diff) != 0:\n",
    "                diff_dict = dict()\n",
    "                diff_dict['text'] = text_diff\n",
    "                diff_dict['index'] = n\n",
    "                diff_dict['kopie'] = 0\n",
    "                dict_list.append(diff_dict)\n",
    "        else:\n",
    "            temp_dict['text'] =item.text\n",
    "            temp_dict['index'] = n\n",
    "            temp_dict['kopie'] = 0\n",
    "            dict_list.append(temp_dict)\n",
    "            \n",
    "    return dict_list"
   ]
  },
  {
   "cell_type": "code",
   "execution_count": 4,
   "metadata": {},
   "outputs": [],
   "source": [
    "def ranges(nums):\n",
    "    '''finds ranges of consecutive ints in a given sequence'''\n",
    "    nums = sorted(set(nums))\n",
    "    gaps = [[s, e] for s, e in zip(nums, nums[1:]) if s+1 < e]\n",
    "    edges = iter(nums[:1] + sum(gaps, []) + nums[-1:])\n",
    "    return list(zip(edges, edges))"
   ]
  },
  {
   "cell_type": "code",
   "execution_count": 5,
   "metadata": {},
   "outputs": [],
   "source": [
    "def get_index_groups(new_df):\n",
    "    '''Function takes a DataFrame representation of the output of indexed_kopie_line_dict and first seperates the kopies and\n",
    "    non-kopies before finding the consecutive index ranges for each group. Outputs two objest, each is a list of tuples which\n",
    "    represent the consecutive index ranges. the first is for kopie and the second is for non-kopie'''\n",
    "    \n",
    "    #seperating kopies and non-kopies\n",
    "    kopie_bool = new_df['kopie'] == 1\n",
    "    kopie_df = new_df[kopie_bool]\n",
    "    no_kopie_bool = new_df['kopie'] == 0\n",
    "    no_kopie_df = new_df[no_kopie_bool]\n",
    "    \n",
    "    #getting index ranges\n",
    "    index_groups_kopie = ranges(kopie_df['index'])\n",
    "    index_groups_no_kopie = ranges(no_kopie_df['index'])\n",
    "    \n",
    "    return index_groups_kopie, index_groups_no_kopie"
   ]
  },
  {
   "cell_type": "code",
   "execution_count": 6,
   "metadata": {},
   "outputs": [],
   "source": [
    "def collect_row_locs(index_groups_list, new_df):\n",
    "    '''function takes a list of tuples representing the index groups and finds the location of the rows for the lines within\n",
    "    the index range in the large df.\n",
    "    Returns a list of dictionaries with two keys.\n",
    "    index_range: the tuple representing the the start and end index of the chunk.\n",
    "    loc_list: the list containing the locations for each of the rows in new_df which are part of the chunk'''\n",
    "    \n",
    "    loc_main = list()\n",
    "    for group in index_groups_list:\n",
    "        loc_group_dict =dict()\n",
    "        loc_group_dict['index_range'] = group\n",
    "        loc_list = list()\n",
    "        for i in range (group[0],group[1]+1):\n",
    "            loc_list += list(new_df.loc[new_df['index'] == i].index)\n",
    "        loc_group_dict['loc_list'] = loc_list\n",
    "        loc_main.append(loc_group_dict)\n",
    "        \n",
    "    return loc_main"
   ]
  },
  {
   "cell_type": "code",
   "execution_count": 7,
   "metadata": {},
   "outputs": [],
   "source": [
    "def make_collected_list(locs_list, new_df, tag= 'kopie'):\n",
    "    '''function takes the list of dictionaires outputted from collect_row_locs and uses this information to create and return\n",
    "    a new list of dictionaires. each dictionary has three keys.\n",
    "    index_range: the tuple representing the start and end index for the chunk\n",
    "    kopie: a binary 0/1 where 1 is a kopie tag and 0 is a non-kopie tag\n",
    "    text: a string of the text taken from all lines in the chunk joined together'''\n",
    "    \n",
    "    main_list = list()\n",
    "    for group_dict in locs_list:\n",
    "        temp_dict = dict()\n",
    "        group_text = list(new_df.loc[group_dict['loc_list'], 'text'])\n",
    "        temp_dict['index_range'] = group_dict['index_range']\n",
    "        temp_dict['text'] = \" \".join(group_text)\n",
    "        if tag == 'kopie':\n",
    "            temp_dict['kopie'] = 1\n",
    "        else:\n",
    "            temp_dict['kopie'] = 0\n",
    "        main_list.append(temp_dict)\n",
    "        \n",
    "    return main_list"
   ]
  },
  {
   "cell_type": "code",
   "execution_count": 8,
   "metadata": {},
   "outputs": [],
   "source": [
    "def make_final_df(kopie_list, no_kopie_list):\n",
    "    '''function takes the two lists of dictionaries obtained from running make_collected_lists on the kopies and non-kopies\n",
    "    and joins them together before creating and returning a large df with all the information.'''\n",
    "    \n",
    "    just_nk_df = pd.DataFrame(no_kopie_list)\n",
    "    just_k_df = pd.DataFrame(kopie_list)\n",
    "    \n",
    "    frames= [just_nk_df, just_k_df]\n",
    "    concatenated_df = pd.concat(frames)\n",
    "    \n",
    "    sorted_df = concatenated_df.sort_values(by ='index_range' )\n",
    "    \n",
    "    return sorted_df"
   ]
  },
  {
   "cell_type": "code",
   "execution_count": 9,
   "metadata": {},
   "outputs": [],
   "source": [
    "def main_function(filepath):\n",
    "    \n",
    "    bs_content = make_soup(filepath)\n",
    "    \n",
    "    dict_list = indexed_kopie_line_dict(bs_content)\n",
    "    \n",
    "    new_df = pd.DataFrame(dict_list)\n",
    "    \n",
    "    index_groups_kopie = get_index_groups(new_df)[0]\n",
    "    index_groups_no_kopie = get_index_groups(new_df)[1]\n",
    "    \n",
    "    locs_kopie = collect_row_locs(index_groups_kopie, new_df)\n",
    "    locs_no_kopie = collect_row_locs(index_groups_no_kopie, new_df)\n",
    "    \n",
    "    kopie_list = make_collected_list(locs_kopie, new_df, tag= 'kopie')\n",
    "    no_kopie_list = make_collected_list(locs_no_kopie, new_df, tag= 'no_kopie')\n",
    "    \n",
    "    final_df = make_final_df(kopie_list, no_kopie_list)\n",
    "    \n",
    "    return final_df"
   ]
  },
  {
   "cell_type": "code",
   "execution_count": 10,
   "metadata": {},
   "outputs": [],
   "source": [
    "data=main_function(\"C:/Users/Ellie/Documents/MASTERS/NIAA/new_allie/1791_Purm_Louw_kopie_tei.xml\")"
   ]
  },
  {
   "cell_type": "code",
   "execution_count": 11,
   "metadata": {},
   "outputs": [
    {
     "data": {
      "text/plain": [
       "(617, 3)"
      ]
     },
     "execution_count": 11,
     "metadata": {},
     "output_type": "execute_result"
    }
   ],
   "source": [
    "data.shape"
   ]
  },
  {
   "cell_type": "code",
   "execution_count": 12,
   "metadata": {},
   "outputs": [
    {
     "data": {
      "text/plain": [
       "609"
      ]
     },
     "execution_count": 12,
     "metadata": {},
     "output_type": "execute_result"
    }
   ],
   "source": [
    "len(set(data['text']))"
   ]
  },
  {
   "cell_type": "code",
   "execution_count": 13,
   "metadata": {},
   "outputs": [
    {
     "data": {
      "text/html": [
       "<div>\n",
       "<style scoped>\n",
       "    .dataframe tbody tr th:only-of-type {\n",
       "        vertical-align: middle;\n",
       "    }\n",
       "\n",
       "    .dataframe tbody tr th {\n",
       "        vertical-align: top;\n",
       "    }\n",
       "\n",
       "    .dataframe thead th {\n",
       "        text-align: right;\n",
       "    }\n",
       "</style>\n",
       "<table border=\"1\" class=\"dataframe\">\n",
       "  <thead>\n",
       "    <tr style=\"text-align: right;\">\n",
       "      <th></th>\n",
       "      <th>index_range</th>\n",
       "      <th>kopie</th>\n",
       "      <th>text</th>\n",
       "    </tr>\n",
       "  </thead>\n",
       "  <tbody>\n",
       "    <tr>\n",
       "      <th>2</th>\n",
       "      <td>(238, 330)</td>\n",
       "      <td>1</td>\n",
       "      <td>Omtrent het Jaer 1400 onder de Re¬ geringe van...</td>\n",
       "    </tr>\n",
       "    <tr>\n",
       "      <th>3</th>\n",
       "      <td>(330, 351)</td>\n",
       "      <td>0</td>\n",
       "      <td>gebragt;  //2 Dus ziet men uijt deze voortgebr...</td>\n",
       "    </tr>\n",
       "    <tr>\n",
       "      <th>3</th>\n",
       "      <td>(351, 357)</td>\n",
       "      <td>1</td>\n",
       "      <td>\"Meermin, Sijreene, hhieeeeerr    oovvtlgnd is...</td>\n",
       "    </tr>\n",
       "    <tr>\n",
       "      <th>4</th>\n",
       "      <td>(357, 428)</td>\n",
       "      <td>0</td>\n",
       "      <td>eene plaets te beslaen\" e    att;//3zoodh is d...</td>\n",
       "    </tr>\n",
       "    <tr>\n",
       "      <th>4</th>\n",
       "      <td>(428, 445)</td>\n",
       "      <td>1</td>\n",
       "      <td>\"Men vind in¬ zzeeeeeelv   ginnhbb de Kronijk ...</td>\n",
       "    </tr>\n",
       "  </tbody>\n",
       "</table>\n",
       "</div>"
      ],
      "text/plain": [
       "  index_range  kopie                                               text\n",
       "2  (238, 330)      1  Omtrent het Jaer 1400 onder de Re¬ geringe van...\n",
       "3  (330, 351)      0  gebragt;  //2 Dus ziet men uijt deze voortgebr...\n",
       "3  (351, 357)      1  \"Meermin, Sijreene, hhieeeeerr    oovvtlgnd is...\n",
       "4  (357, 428)      0  eene plaets te beslaen\" e    att;//3zoodh is d...\n",
       "4  (428, 445)      1  \"Men vind in¬ zzeeeeeelv   ginnhbb de Kronijk ..."
      ]
     },
     "execution_count": 13,
     "metadata": {},
     "output_type": "execute_result"
    }
   ],
   "source": [
    "data[5:10]"
   ]
  },
  {
   "cell_type": "code",
   "execution_count": 14,
   "metadata": {},
   "outputs": [
    {
     "name": "stdout",
     "output_type": "stream",
     "text": [
      "gebragt;  //2 Dus ziet men uijt deze voortgebragte bewijzen  dat er, een Wijf, Vrouwe, of Meermin in de Purmer gevangen is, en dat het zeker is dat het geene Natuurelyke Vrouwe is geweest blijkt daar uijt, om dat 'Smenschen natuur niet geschikt is in 't Waetter maar op aarde te leven daar het Water het Element der Meerminnen of der@@@ is /1/ zie H: Soeteboom in zijne Korte Kron: van Purmerend op bladz:, 77 tot 80; /2/ zie Tafereel van Natuur en Konst 13de deel, bladz: 63 /3/ Mr Jan Leoninus te Edam is zijn gevoelen, dat dit schep¬ zel was een wild vrouwperzoon dat stom was, en ge¬ woon was in de ruygte en biezen van de Purmermeer zig te onthouden, geweest is; zie verhaal van de Vuur en Watenood door Dne Kruijthof en Leoninus pag: 4-7; Maer waerom zoo veel deze Meerminnen gemeld, indien het zeker is, dat dezelve maar door inbeeldinge werd voor gestelt, en dat erin de Weereld, zoodanig een Schepzel niet werd gevonden, Een zeker Voornaam Schreijver, meld \"Meermin, Sijreene, hhieeeeerr    oovvtlgnd\n",
      "\n",
      "\"Meermin, Sijreene, hhieeeeerr    oovvtlgnd is een ingebeeld dier, dat van ondere Visch, en van boven Mensch zoude zijn, Bij oude schrijvers vind men veelvuldige Wonderen van dat niet in wezen zijnde Schepzel te boek gesteld, alle te belaggelijk om hier eene plaets te beslaen\" e    att;//3zoodh\n"
     ]
    }
   ],
   "source": [
    "print(data.iloc[6]['text'])\n",
    "print()\n",
    "print(data.iloc[7]['text'])"
   ]
  },
  {
   "cell_type": "code",
   "execution_count": 24,
   "metadata": {},
   "outputs": [
    {
     "data": {
      "text/plain": [
       "'Closer to working now, but still having some issues with: \\n\\n1) getting the range to make sense consistently (see notebook 02-03).\\n\\n2) Also need to edit so that isolated sections such as 351 which appears in the non-grouped dataframe twice with 2 seperate text\\nsections because the whole line is not on kopie tag. The iloc prints above show this issue but also refer to notebook 02-03.'"
      ]
     },
     "execution_count": 24,
     "metadata": {},
     "output_type": "execute_result"
    }
   ],
   "source": [
    "'''Closer to working now, but still having some issues with: \n",
    "\n",
    "1) getting the range to make sense consistently (see notebook 02-03).\n",
    "\n",
    "2) Also need to edit so that isolated sections such as 351 which appears in the non-grouped dataframe twice with 2 seperate text\n",
    "sections because the whole line is not on kopie tag. The iloc prints above show this issue but also refer to notebook 02-03.'''"
   ]
  },
  {
   "cell_type": "code",
   "execution_count": null,
   "metadata": {},
   "outputs": [],
   "source": [
    "'''Further work still to be done from Allies notes = \n",
    "3) There are empty lines in the XML, which results in two chunks of copied text, interrupted by a chunk of non-copied text, \n",
    "but that chunk is in fact an empty line. (See for example line 904, 906, 908 in the df.)\n",
    "\n",
    "4) Once the above issues are fixed, the hyphens (¬) need to be removed from the chunks. \n",
    "(There is a line of code for that in my script parse_xml, in the repo I mailed you the link of yesterday.)\n",
    "\n",
    "5) It will probably be best to remove all punctuation (but not before the lines are indexed!). \n",
    "(Again, code for that is in my script parse_xml.)\n",
    "\n",
    "6) There are some other weird things appearing in the text chunks, which has probably to do something with the parsing.\n",
    "Not a very urgent matter, but still puzzling. (See for example line 428-225 and 693-699 in the df.)'''"
   ]
  },
  {
   "cell_type": "code",
   "execution_count": 15,
   "metadata": {},
   "outputs": [],
   "source": [
    "'''UNBOXED MAIN FUNCTION '''\n",
    "\n",
    "bs_content = make_soup(\"C:/Users/Ellie/Documents/MASTERS/NIAA/new_allie/1791_Purm_Louw_kopie_tei.xml\")\n",
    "    \n",
    "dict_list = indexed_kopie_line_dict(bs_content)\n",
    "    \n",
    "new_df = pd.DataFrame(dict_list)\n",
    "    \n",
    "index_groups_kopie = get_index_groups(new_df)[0]\n",
    "index_groups_no_kopie = get_index_groups(new_df)[1]\n",
    "    \n",
    "locs_kopie = collect_row_locs(index_groups_kopie, new_df)\n",
    "locs_no_kopie = collect_row_locs(index_groups_no_kopie, new_df)\n",
    "    \n",
    "kopie_list = make_collected_list(locs_kopie, new_df, tag= 'kopie')\n",
    "no_kopie_list = make_collected_list(locs_no_kopie, new_df, tag= 'no_kopie')\n",
    "    \n",
    "final_df = make_final_df(kopie_list, no_kopie_list)"
   ]
  },
  {
   "cell_type": "code",
   "execution_count": null,
   "metadata": {},
   "outputs": [],
   "source": [
    "'''Working on 1) getting the range to make sense consistently (see notebook 02-03).'''"
   ]
  },
  {
   "cell_type": "code",
   "execution_count": 16,
   "metadata": {},
   "outputs": [
    {
     "data": {
      "text/html": [
       "<div>\n",
       "<style scoped>\n",
       "    .dataframe tbody tr th:only-of-type {\n",
       "        vertical-align: middle;\n",
       "    }\n",
       "\n",
       "    .dataframe tbody tr th {\n",
       "        vertical-align: top;\n",
       "    }\n",
       "\n",
       "    .dataframe thead th {\n",
       "        text-align: right;\n",
       "    }\n",
       "</style>\n",
       "<table border=\"1\" class=\"dataframe\">\n",
       "  <thead>\n",
       "    <tr style=\"text-align: right;\">\n",
       "      <th></th>\n",
       "      <th>index</th>\n",
       "      <th>kopie</th>\n",
       "      <th>text</th>\n",
       "    </tr>\n",
       "  </thead>\n",
       "  <tbody>\n",
       "    <tr>\n",
       "      <th>330</th>\n",
       "      <td>329</td>\n",
       "      <td>1</td>\n",
       "      <td>gevangen daar uijtgetogen, en na Edam</td>\n",
       "    </tr>\n",
       "    <tr>\n",
       "      <th>331</th>\n",
       "      <td>330</td>\n",
       "      <td>1</td>\n",
       "      <td>gebragt;</td>\n",
       "    </tr>\n",
       "    <tr>\n",
       "      <th>332</th>\n",
       "      <td>330</td>\n",
       "      <td>0</td>\n",
       "      <td>//2</td>\n",
       "    </tr>\n",
       "    <tr>\n",
       "      <th>333</th>\n",
       "      <td>331</td>\n",
       "      <td>0</td>\n",
       "      <td>Dus ziet men uijt deze voortgebragte bewijzen</td>\n",
       "    </tr>\n",
       "    <tr>\n",
       "      <th>334</th>\n",
       "      <td>332</td>\n",
       "      <td>0</td>\n",
       "      <td>dat er, een Wijf, Vrouwe, of Meermin</td>\n",
       "    </tr>\n",
       "    <tr>\n",
       "      <th>335</th>\n",
       "      <td>333</td>\n",
       "      <td>0</td>\n",
       "      <td>in de Purmer gevangen is, en dat het zeker</td>\n",
       "    </tr>\n",
       "    <tr>\n",
       "      <th>336</th>\n",
       "      <td>334</td>\n",
       "      <td>0</td>\n",
       "      <td>is dat het geene Natuurelyke Vrouwe is geweest</td>\n",
       "    </tr>\n",
       "    <tr>\n",
       "      <th>337</th>\n",
       "      <td>335</td>\n",
       "      <td>0</td>\n",
       "      <td>blijkt daar uijt, om dat 'Smenschen natuur</td>\n",
       "    </tr>\n",
       "    <tr>\n",
       "      <th>338</th>\n",
       "      <td>336</td>\n",
       "      <td>0</td>\n",
       "      <td>niet geschikt is in 't Waetter maar op aarde t...</td>\n",
       "    </tr>\n",
       "    <tr>\n",
       "      <th>339</th>\n",
       "      <td>337</td>\n",
       "      <td>0</td>\n",
       "      <td>daar het Water het Element der Meerminnen of d...</td>\n",
       "    </tr>\n",
       "    <tr>\n",
       "      <th>340</th>\n",
       "      <td>338</td>\n",
       "      <td>0</td>\n",
       "      <td>/1/ zie H: Soeteboom in zijne Korte Kron: van ...</td>\n",
       "    </tr>\n",
       "    <tr>\n",
       "      <th>341</th>\n",
       "      <td>339</td>\n",
       "      <td>0</td>\n",
       "      <td>op bladz:, 77 tot 80;</td>\n",
       "    </tr>\n",
       "    <tr>\n",
       "      <th>342</th>\n",
       "      <td>340</td>\n",
       "      <td>0</td>\n",
       "      <td>/2/ zie Tafereel van Natuur en Konst 13de deel...</td>\n",
       "    </tr>\n",
       "    <tr>\n",
       "      <th>343</th>\n",
       "      <td>341</td>\n",
       "      <td>0</td>\n",
       "      <td>/3/ Mr Jan Leoninus te Edam is zijn gevoelen, ...</td>\n",
       "    </tr>\n",
       "    <tr>\n",
       "      <th>344</th>\n",
       "      <td>342</td>\n",
       "      <td>0</td>\n",
       "      <td>zel was een wild vrouwperzoon dat stom was, en...</td>\n",
       "    </tr>\n",
       "    <tr>\n",
       "      <th>345</th>\n",
       "      <td>343</td>\n",
       "      <td>0</td>\n",
       "      <td>woon was in de ruygte en biezen van de Purmermeer</td>\n",
       "    </tr>\n",
       "    <tr>\n",
       "      <th>346</th>\n",
       "      <td>344</td>\n",
       "      <td>0</td>\n",
       "      <td>zig te onthouden, geweest is; zie verhaal van ...</td>\n",
       "    </tr>\n",
       "    <tr>\n",
       "      <th>347</th>\n",
       "      <td>345</td>\n",
       "      <td>0</td>\n",
       "      <td>en Watenood door Dne Kruijthof en Leoninus pag...</td>\n",
       "    </tr>\n",
       "    <tr>\n",
       "      <th>348</th>\n",
       "      <td>346</td>\n",
       "      <td>0</td>\n",
       "      <td>Maer waerom zoo veel deze Meerminnen</td>\n",
       "    </tr>\n",
       "    <tr>\n",
       "      <th>349</th>\n",
       "      <td>347</td>\n",
       "      <td>0</td>\n",
       "      <td>gemeld, indien het zeker is, dat dezelve maar</td>\n",
       "    </tr>\n",
       "    <tr>\n",
       "      <th>350</th>\n",
       "      <td>348</td>\n",
       "      <td>0</td>\n",
       "      <td>door inbeeldinge werd voor gestelt, en dat erin</td>\n",
       "    </tr>\n",
       "    <tr>\n",
       "      <th>351</th>\n",
       "      <td>349</td>\n",
       "      <td>0</td>\n",
       "      <td>de Weereld, zoodanig een Schepzel niet werd</td>\n",
       "    </tr>\n",
       "    <tr>\n",
       "      <th>352</th>\n",
       "      <td>350</td>\n",
       "      <td>0</td>\n",
       "      <td>gevonden, Een zeker Voornaam Schreijver, meld</td>\n",
       "    </tr>\n",
       "    <tr>\n",
       "      <th>353</th>\n",
       "      <td>351</td>\n",
       "      <td>1</td>\n",
       "      <td>\"Meermin, Sijreene,</td>\n",
       "    </tr>\n",
       "    <tr>\n",
       "      <th>354</th>\n",
       "      <td>351</td>\n",
       "      <td>0</td>\n",
       "      <td>hhieeeeerr    oovvtlgnd</td>\n",
       "    </tr>\n",
       "    <tr>\n",
       "      <th>355</th>\n",
       "      <td>352</td>\n",
       "      <td>1</td>\n",
       "      <td>is een ingebeeld dier, dat van ondere Visch,</td>\n",
       "    </tr>\n",
       "    <tr>\n",
       "      <th>356</th>\n",
       "      <td>353</td>\n",
       "      <td>1</td>\n",
       "      <td>en van boven Mensch zoude zijn, Bij oude</td>\n",
       "    </tr>\n",
       "    <tr>\n",
       "      <th>357</th>\n",
       "      <td>354</td>\n",
       "      <td>1</td>\n",
       "      <td>schrijvers vind men veelvuldige Wonderen</td>\n",
       "    </tr>\n",
       "    <tr>\n",
       "      <th>358</th>\n",
       "      <td>355</td>\n",
       "      <td>1</td>\n",
       "      <td>van dat niet in wezen zijnde Schepzel</td>\n",
       "    </tr>\n",
       "    <tr>\n",
       "      <th>359</th>\n",
       "      <td>356</td>\n",
       "      <td>1</td>\n",
       "      <td>te boek gesteld, alle te belaggelijk om hier</td>\n",
       "    </tr>\n",
       "  </tbody>\n",
       "</table>\n",
       "</div>"
      ],
      "text/plain": [
       "     index  kopie                                               text\n",
       "330    329      1              gevangen daar uijtgetogen, en na Edam\n",
       "331    330      1                                           gebragt;\n",
       "332    330      0                                                //2\n",
       "333    331      0     Dus ziet men uijt deze voortgebragte bewijzen \n",
       "334    332      0               dat er, een Wijf, Vrouwe, of Meermin\n",
       "335    333      0         in de Purmer gevangen is, en dat het zeker\n",
       "336    334      0     is dat het geene Natuurelyke Vrouwe is geweest\n",
       "337    335      0         blijkt daar uijt, om dat 'Smenschen natuur\n",
       "338    336      0  niet geschikt is in 't Waetter maar op aarde t...\n",
       "339    337      0  daar het Water het Element der Meerminnen of d...\n",
       "340    338      0  /1/ zie H: Soeteboom in zijne Korte Kron: van ...\n",
       "341    339      0                              op bladz:, 77 tot 80;\n",
       "342    340      0  /2/ zie Tafereel van Natuur en Konst 13de deel...\n",
       "343    341      0  /3/ Mr Jan Leoninus te Edam is zijn gevoelen, ...\n",
       "344    342      0  zel was een wild vrouwperzoon dat stom was, en...\n",
       "345    343      0  woon was in de ruygte en biezen van de Purmermeer\n",
       "346    344      0  zig te onthouden, geweest is; zie verhaal van ...\n",
       "347    345      0  en Watenood door Dne Kruijthof en Leoninus pag...\n",
       "348    346      0               Maer waerom zoo veel deze Meerminnen\n",
       "349    347      0      gemeld, indien het zeker is, dat dezelve maar\n",
       "350    348      0    door inbeeldinge werd voor gestelt, en dat erin\n",
       "351    349      0        de Weereld, zoodanig een Schepzel niet werd\n",
       "352    350      0      gevonden, Een zeker Voornaam Schreijver, meld\n",
       "353    351      1                                \"Meermin, Sijreene,\n",
       "354    351      0                            hhieeeeerr    oovvtlgnd\n",
       "355    352      1       is een ingebeeld dier, dat van ondere Visch,\n",
       "356    353      1           en van boven Mensch zoude zijn, Bij oude\n",
       "357    354      1           schrijvers vind men veelvuldige Wonderen\n",
       "358    355      1              van dat niet in wezen zijnde Schepzel\n",
       "359    356      1       te boek gesteld, alle te belaggelijk om hier"
      ]
     },
     "execution_count": 16,
     "metadata": {},
     "output_type": "execute_result"
    }
   ],
   "source": [
    "new_df[330:360]"
   ]
  },
  {
   "cell_type": "code",
   "execution_count": 18,
   "metadata": {},
   "outputs": [
    {
     "name": "stdout",
     "output_type": "stream",
     "text": [
      "[331, 332, 333, 334, 335, 336, 337, 338, 339, 340, 341, 342, 343, 344, 345, 346, 347, 348, 349, 350, 351, 352, 353, 354]\n"
     ]
    }
   ],
   "source": [
    "loc_list_n=list()\n",
    "x=330\n",
    "y=351\n",
    "for i in range (x,y+1):\n",
    "    loc_list_n += list(new_df.loc[new_df['index'] == i].index)\n",
    "    #loc_list_n.append(new_df.loc[new_df['index'] == i].index)\n",
    "    #loc_list_n.append(i)\n",
    "    \n",
    "    \n",
    "print(loc_list_n)"
   ]
  },
  {
   "cell_type": "code",
   "execution_count": null,
   "metadata": {},
   "outputs": [],
   "source": [
    "'''realised that actually the range issues might not exist. It could be that this overlap etc looks so confusing because of\n",
    "the repeated indexes where a line has been split into kopie and no-kopie sections. e.g. 331,332 & 353,354 in the example.\n",
    "work out the split line issue first and then re-check the ranges to see if this is the case.'''"
   ]
  },
  {
   "cell_type": "code",
   "execution_count": null,
   "metadata": {},
   "outputs": [],
   "source": [
    "'''Working on 2) Also need to edit so that isolated sections such as 351 which appears in the non-grouped dataframe twice \n",
    "with 2 seperate text sections because the whole line is not on kopie tag. The iloc prints above show this issue but also \n",
    "refer to notebook 02-03.'''''"
   ]
  },
  {
   "cell_type": "code",
   "execution_count": 27,
   "metadata": {},
   "outputs": [
    {
     "name": "stdout",
     "output_type": "stream",
     "text": [
      "{73: 2, 90: 2, 330: 2, 351: 2, 357: 2, 428: 2, 445: 2, 487: 2, 559: 2, 693: 2, 885: 2, 2201: 2, 2235: 2, 2269: 2, 2304: 2, 2336: 2, 2370: 2, 2786: 2, 3298: 2, 3505: 2, 3818: 2, 3832: 2, 4956: 2, 4966: 2, 5002: 2, 5013: 2, 5031: 2, 5132: 2, 5298: 2, 5692: 2, 5695: 2, 5762: 2, 6316: 2, 6715: 2, 7276: 2, 7881: 2, 8132: 2, 8576: 2, 8656: 2, 8662: 2, 8677: 2, 8701: 2, 8723: 2, 9069: 2, 9167: 2, 9224: 2, 9269: 2, 9577: 2, 9637: 2, 9745: 2, 9768: 2, 9986: 2, 10117: 2, 10189: 2, 10465: 2, 13612: 2, 13644: 2, 13654: 2, 13679: 2, 13712: 2, 15111: 2, 15333: 2, 15410: 2, 15640: 2, 15910: 2, 16296: 2, 16543: 2, 16576: 2, 16667: 2, 16679: 2, 16686: 2, 16718: 2, 16734: 2, 16781: 2, 16814: 2, 16846: 2, 16876: 2, 16906: 2, 16935: 2, 16967: 2, 16973: 2, 17126: 2, 17186: 2, 17219: 2, 17250: 2, 17282: 2, 17294: 2, 17314: 2, 17344: 2, 17374: 2, 17403: 2, 17432: 2, 17461: 2, 17494: 2, 17537: 2, 17559: 2, 17592: 2, 17628: 2, 17660: 2, 17750: 2, 17909: 2, 17935: 2, 18293: 2, 18311: 2, 18695: 2, 18748: 2, 18756: 2, 18799: 2, 27701: 2, 28250: 2, 28258: 2, 28267: 2, 28458: 2, 35267: 2, 35934: 2, 36187: 2, 36221: 2, 39001: 2, 39019: 2, 40086: 2, 40373: 2}\n",
      "Number of repeated line indexes 121. Shows how many times lines are split. And that there are never split more than once.\n"
     ]
    }
   ],
   "source": [
    "A = collections.Counter(new_df['index'])\n",
    "min_threshold = 2\n",
    "my_count = { x: count for x, count in A.items() if count >= min_threshold }\n",
    "print(my_count)\n",
    "print(f'Number of repeated line indexes {len(my_count)}. Shows how many times lines are split. And that there are never split more than once.')"
   ]
  },
  {
   "cell_type": "code",
   "execution_count": 32,
   "metadata": {},
   "outputs": [
    {
     "name": "stdout",
     "output_type": "stream",
     "text": [
      "[73, 90, 330, 351, 357, 428, 445, 487, 559, 693, 885, 2201, 2235, 2269, 2304, 2336, 2370, 2786, 3298, 3505, 3818, 3832, 4956, 4966, 5002, 5013, 5031, 5132, 5298, 5692, 5695, 5762, 6316, 6715, 7276, 7881, 8132, 8576, 8656, 8662, 8677, 8701, 8723, 9069, 9167, 9224, 9269, 9577, 9637, 9745, 9768, 9986, 10117, 10189, 10465, 13612, 13644, 13654, 13679, 13712, 15111, 15333, 15410, 15640, 15910, 16296, 16543, 16576, 16667, 16679, 16686, 16718, 16734, 16781, 16814, 16846, 16876, 16906, 16935, 16967, 16973, 17126, 17186, 17219, 17250, 17282, 17294, 17314, 17344, 17374, 17403, 17432, 17461, 17494, 17537, 17559, 17592, 17628, 17660, 17750, 17909, 17935, 18293, 18311, 18695, 18748, 18756, 18799, 27701, 28250, 28258, 28267, 28458, 35267, 35934, 36187, 36221, 39001, 39019, 40086, 40373]\n"
     ]
    }
   ],
   "source": [
    "split_line_indices = list()\n",
    "for key in my_count:\n",
    "    split_line_indices.append(key)\n",
    "    \n",
    "print(split_line_indices)\n",
    "print('provides a list of the repeated indices for testing')"
   ]
  },
  {
   "cell_type": "code",
   "execution_count": null,
   "metadata": {},
   "outputs": [],
   "source": [
    "'''What do I want to happen to the duplicates?\n",
    "-If the index number appears twice then check the kopie tag (0/1).\n",
    "-Make sure that only the section of the line with the same kopie tag gets added to a fragment, regardless of which order the\n",
    "same line segments appear in.\n",
    "\n",
    "This needs to be worked into the function somewhere inbetween collect_row_locs and make_collected_lists'''"
   ]
  },
  {
   "cell_type": "code",
   "execution_count": 17,
   "metadata": {},
   "outputs": [
    {
     "name": "stdout",
     "output_type": "stream",
     "text": [
      "242\n",
      "242\n",
      "242\n"
     ]
    }
   ],
   "source": [
    "kopie_locs = list()\n",
    "for item in locs_kopie:\n",
    "    kopie_locs.append(item['loc_list'])\n",
    "flat_list_k = [item for sublist in kopie_locs for item in sublist]\n",
    "    \n",
    "no_kopie_locs = list()\n",
    "for item in locs_no_kopie:\n",
    "    no_kopie_locs.append(item['loc_list'])\n",
    "flat_list_nk = [item for sublist in no_kopie_locs for item in sublist]\n",
    "    \n",
    "    \n",
    "in_both1 = list(set(flat_list_k).intersection(flat_list_nk))\n",
    "in_both2 = list(set(flat_list_nk).intersection(flat_list_k))\n",
    "\n",
    "print(len(in_both1))\n",
    "print(len(in_both2))\n",
    "assert in_both1 == in_both2\n",
    "print(len(set(in_both1)))"
   ]
  },
  {
   "cell_type": "code",
   "execution_count": 18,
   "metadata": {},
   "outputs": [
    {
     "name": "stdout",
     "output_type": "stream",
     "text": [
      "[10241, 10242, 8716, 8717, 17431, 16920, 16921, 17432, 15393, 15394, 8741, 5158, 5159, 8742, 40492, 40493, 35379, 9268, 9269, 566, 567, 16951, 16952, 17462, 17463, 8764, 8765, 9793, 9794, 72, 73, 17492, 17493, 16982, 16983, 5720, 5721, 90, 91, 5724, 5725, 6747, 6748, 9817, 9818, 9314, 9315, 15973, 15974, 15471, 15472, 17522, 17523, 17012, 17013, 18035, 18036, 7309, 7310, 17552, 17553, 17045, 17046, 17052, 17053, 5792, 5793, 27808, 2211, 2212, 27809, 17586, 17587, 701, 702, 2246, 2247, 28358, 28359, 6347, 6348, 5325, 5326, 28367, 28368, 36047, 36048, 39117, 39118, 28377, 28378, 17630, 17631, 16608, 16609, 39136, 39137, 2281, 2282, 7915, 7916, 2802, 2803, 3315, 3316, 17653, 17654, 3837, 3838, 16642, 16643, 3852, 2317, 2318, 3853, 40204, 40205, 10518, 10519, 17687, 17688, 2350, 2351, 10036, 10037, 17206, 17207, 17724, 17725, 15170, 15171, 331, 332, 2385, 2386, 15702, 15703, 35380, 17757, 16734, 16735, 17758, 353, 354, 13666, 13667, 360, 361, 16747, 16748, 18798, 18799, 4977, 4978, 16755, 16756, 17267, 17268, 4988, 4989, 894, 895, 13699, 13700, 13710, 13711, 16788, 16789, 17301, 9111, 9112, 9623, 9624, 17302, 28569, 28570, 5025, 5026, 8612, 8613, 16805, 16806, 13736, 13737, 18852, 18853, 5037, 5038, 18861, 432, 433, 18862, 17333, 17334, 10168, 10169, 17848, 17849, 5056, 5057, 450, 451, 3523, 3524, 13770, 13771, 36301, 36302, 9684, 9685, 16853, 16854, 17366, 17367, 18394, 18395, 18905, 18906, 17379, 17380, 8167, 8168, 16360, 16361, 17400, 18008, 493, 494, 18413, 18009, 18414, 36336, 36337, 8693, 8694, 16887, 16888, 17401, 9210, 9211, 8700, 8701]\n"
     ]
    }
   ],
   "source": [
    "print(in_both1)"
   ]
  },
  {
   "cell_type": "code",
   "execution_count": 19,
   "metadata": {},
   "outputs": [
    {
     "name": "stdout",
     "output_type": "stream",
     "text": [
      "[{'index_range': (73, 90), 'loc_list': [72, 73, 74, 75, 76, 77, 78, 79, 80, 81, 82, 83, 84, 85, 86, 87, 88, 89, 90, 91]}, {'index_range': (235, 235), 'loc_list': [236]}, {'index_range': (238, 330), 'loc_list': [239, 240, 241, 242, 243, 244, 245, 246, 247, 248, 249, 250, 251, 252, 253, 254, 255, 256, 257, 258, 259, 260, 261, 262, 263, 264, 265, 266, 267, 268, 269, 270, 271, 272, 273, 274, 275, 276, 277, 278, 279, 280, 281, 282, 283, 284, 285, 286, 287, 288, 289, 290, 291, 292, 293, 294, 295, 296, 297, 298, 299, 300, 301, 302, 303, 304, 305, 306, 307, 308, 309, 310, 311, 312, 313, 314, 315, 316, 317, 318, 319, 320, 321, 322, 323, 324, 325, 326, 327, 328, 329, 330, 331, 332]}, {'index_range': (351, 357), 'loc_list': [353, 354, 355, 356, 357, 358, 359, 360, 361]}, {'index_range': (428, 445), 'loc_list': [432, 433, 434, 435, 436, 437, 438, 439, 440, 441, 442, 443, 444, 445, 446, 447, 448, 449, 450, 451]}, {'index_range': (450, 487), 'loc_list': [456, 457, 458, 459, 460, 461, 462, 463, 464, 465, 466, 467, 468, 469, 470, 471, 472, 473, 474, 475, 476, 477, 478, 479, 480, 481, 482, 483, 484, 485, 486, 487, 488, 489, 490, 491, 492, 493, 494]}, {'index_range': (494, 497), 'loc_list': [501, 502, 503, 504]}, {'index_range': (510, 537), 'loc_list': [517, 518, 519, 520, 521, 522, 523, 524, 525, 526, 527, 528, 529, 530, 531, 532, 533, 534, 535, 536, 537, 538, 539, 540, 541, 542, 543, 544]}, {'index_range': (540, 559), 'loc_list': [547, 548, 549, 550, 551, 552, 553, 554, 555, 556, 557, 558, 559, 560, 561, 562, 563, 564, 565, 566, 567]}, {'index_range': (595, 631), 'loc_list': [603, 604, 605, 606, 607, 608, 609, 610, 611, 612, 613, 614, 615, 616, 617, 618, 619, 620, 621, 622, 623, 624, 625, 626, 627, 628, 629, 630, 631, 632, 633, 634, 635, 636, 637, 638, 639]}, {'index_range': (634, 664), 'loc_list': [642, 643, 644, 645, 646, 647, 648, 649, 650, 651, 652, 653, 654, 655, 656, 657, 658, 659, 660, 661, 662, 663, 664, 665, 666, 667, 668, 669, 670, 671, 672]}, {'index_range': (669, 672), 'loc_list': [677, 678, 679, 680]}, {'index_range': (678, 689), 'loc_list': [686, 687, 688, 689, 690, 691, 692, 693, 694, 695, 696, 697]}, {'index_range': (693, 699), 'loc_list': [701, 702, 703, 704, 705, 706, 707, 708]}, {'index_range': (726, 732), 'loc_list': [735, 736, 737, 738, 739, 740, 741]}, {'index_range': (855, 857), 'loc_list': [864, 865, 866]}, {'index_range': (864, 885), 'loc_list': [873, 874, 875, 876, 877, 878, 879, 880, 881, 882, 883, 884, 885, 886, 887, 888, 889, 890, 891, 892, 893, 894, 895]}, {'index_range': (891, 904), 'loc_list': [901, 902, 903, 904, 905, 906, 907, 908, 909, 910, 911, 912, 913, 914]}, {'index_range': (906, 906), 'loc_list': [916]}, {'index_range': (908, 910), 'loc_list': [918, 919, 920]}, {'index_range': (912, 915), 'loc_list': [922, 923, 924, 925]}, {'index_range': (917, 944), 'loc_list': [927, 928, 929, 930, 931, 932, 933, 934, 935, 936, 937, 938, 939, 940, 941, 942, 943, 944, 945, 946, 947, 948, 949, 950, 951, 952, 953, 954]}, {'index_range': (950, 965), 'loc_list': [960, 961, 962, 963, 964, 965, 966, 967, 968, 969, 970, 971, 972, 973, 974, 975]}, {'index_range': (979, 999), 'loc_list': [989, 990, 991, 992, 993, 994, 995, 996, 997, 998, 999, 1000, 1001, 1002, 1003, 1004, 1005, 1006, 1007, 1008, 1009]}, {'index_range': (2187, 2197), 'loc_list': [2197, 2198, 2199, 2200, 2201, 2202, 2203, 2204, 2205, 2206, 2207]}, {'index_range': (2201, 2231), 'loc_list': [2211, 2212, 2213, 2214, 2215, 2216, 2217, 2218, 2219, 2220, 2221, 2222, 2223, 2224, 2225, 2226, 2227, 2228, 2229, 2230, 2231, 2232, 2233, 2234, 2235, 2236, 2237, 2238, 2239, 2240, 2241, 2242]}, {'index_range': (2235, 2265), 'loc_list': [2246, 2247, 2248, 2249, 2250, 2251, 2252, 2253, 2254, 2255, 2256, 2257, 2258, 2259, 2260, 2261, 2262, 2263, 2264, 2265, 2266, 2267, 2268, 2269, 2270, 2271, 2272, 2273, 2274, 2275, 2276, 2277]}, {'index_range': (2269, 2300), 'loc_list': [2281, 2282, 2283, 2284, 2285, 2286, 2287, 2288, 2289, 2290, 2291, 2292, 2293, 2294, 2295, 2296, 2297, 2298, 2299, 2300, 2301, 2302, 2303, 2304, 2305, 2306, 2307, 2308, 2309, 2310, 2311, 2312, 2313]}, {'index_range': (2304, 2331), 'loc_list': [2317, 2318, 2319, 2320, 2321, 2322, 2323, 2324, 2325, 2326, 2327, 2328, 2329, 2330, 2331, 2332, 2333, 2334, 2335, 2336, 2337, 2338, 2339, 2340, 2341, 2342, 2343, 2344, 2345]}, {'index_range': (2336, 2366), 'loc_list': [2350, 2351, 2352, 2353, 2354, 2355, 2356, 2357, 2358, 2359, 2360, 2361, 2362, 2363, 2364, 2365, 2366, 2367, 2368, 2369, 2370, 2371, 2372, 2373, 2374, 2375, 2376, 2377, 2378, 2379, 2380, 2381]}, {'index_range': (2370, 2384), 'loc_list': [2385, 2386, 2387, 2388, 2389, 2390, 2391, 2392, 2393, 2394, 2395, 2396, 2397, 2398, 2399, 2400]}, {'index_range': (2754, 2782), 'loc_list': [2770, 2771, 2772, 2773, 2774, 2775, 2776, 2777, 2778, 2779, 2780, 2781, 2782, 2783, 2784, 2785, 2786, 2787, 2788, 2789, 2790, 2791, 2792, 2793, 2794, 2795, 2796, 2797, 2798]}, {'index_range': (2786, 2796), 'loc_list': [2802, 2803, 2804, 2805, 2806, 2807, 2808, 2809, 2810, 2811, 2812, 2813]}, {'index_range': (3276, 3298), 'loc_list': [3293, 3294, 3295, 3296, 3297, 3298, 3299, 3300, 3301, 3302, 3303, 3304, 3305, 3306, 3307, 3308, 3309, 3310, 3311, 3312, 3313, 3314, 3315, 3316]}, {'index_range': (3490, 3501), 'loc_list': [3508, 3509, 3510, 3511, 3512, 3513, 3514, 3515, 3516, 3517, 3518, 3519]}, {'index_range': (3505, 3540), 'loc_list': [3523, 3524, 3525, 3526, 3527, 3528, 3529, 3530, 3531, 3532, 3533, 3534, 3535, 3536, 3537, 3538, 3539, 3540, 3541, 3542, 3543, 3544, 3545, 3546, 3547, 3548, 3549, 3550, 3551, 3552, 3553, 3554, 3555, 3556, 3557, 3558, 3559]}, {'index_range': (3562, 3605), 'loc_list': [3581, 3582, 3583, 3584, 3585, 3586, 3587, 3588, 3589, 3590, 3591, 3592, 3593, 3594, 3595, 3596, 3597, 3598, 3599, 3600, 3601, 3602, 3603, 3604, 3605, 3606, 3607, 3608, 3609, 3610, 3611, 3612, 3613, 3614, 3615, 3616, 3617, 3618, 3619, 3620, 3621, 3622, 3623, 3624]}, {'index_range': (3706, 3711), 'loc_list': [3725, 3726, 3727, 3728, 3729, 3730]}, {'index_range': (3733, 3743), 'loc_list': [3752, 3753, 3754, 3755, 3756, 3757, 3758, 3759, 3760, 3761, 3762]}, {'index_range': (3767, 3815), 'loc_list': [3786, 3787, 3788, 3789, 3790, 3791, 3792, 3793, 3794, 3795, 3796, 3797, 3798, 3799, 3800, 3801, 3802, 3803, 3804, 3805, 3806, 3807, 3808, 3809, 3810, 3811, 3812, 3813, 3814, 3815, 3816, 3817, 3818, 3819, 3820, 3821, 3822, 3823, 3824, 3825, 3826, 3827, 3828, 3829, 3830, 3831, 3832, 3833, 3834]}, {'index_range': (3818, 3832), 'loc_list': [3837, 3838, 3839, 3840, 3841, 3842, 3843, 3844, 3845, 3846, 3847, 3848, 3849, 3850, 3851, 3852, 3853]}, {'index_range': (3868, 3884), 'loc_list': [3889, 3890, 3891, 3892, 3893, 3894, 3895, 3896, 3897, 3898, 3899, 3900, 3901, 3902, 3903, 3904, 3905]}, {'index_range': (4940, 4952), 'loc_list': [4961, 4962, 4963, 4964, 4965, 4966, 4967, 4968, 4969, 4970, 4971, 4972, 4973]}, {'index_range': (4956, 4966), 'loc_list': [4977, 4978, 4979, 4980, 4981, 4982, 4983, 4984, 4985, 4986, 4987, 4988, 4989]}, {'index_range': (5002, 5013), 'loc_list': [5025, 5026, 5027, 5028, 5029, 5030, 5031, 5032, 5033, 5034, 5035, 5036, 5037, 5038]}, {'index_range': (5031, 5047), 'loc_list': [5056, 5057, 5058, 5059, 5060, 5061, 5062, 5063, 5064, 5065, 5066, 5067, 5068, 5069, 5070, 5071, 5072, 5073]}, {'index_range': (5058, 5073), 'loc_list': [5084, 5085, 5086, 5087, 5088, 5089, 5090, 5091, 5092, 5093, 5094, 5095, 5096, 5097, 5098, 5099]}, {'index_range': (5121, 5132), 'loc_list': [5147, 5148, 5149, 5150, 5151, 5152, 5153, 5154, 5155, 5156, 5157, 5158, 5159]}, {'index_range': (5170, 5171), 'loc_list': [5197, 5198]}, {'index_range': (5187, 5194), 'loc_list': [5214, 5215, 5216, 5217, 5218, 5219, 5220, 5221]}, {'index_range': (5198, 5203), 'loc_list': [5225, 5226, 5227, 5228, 5229, 5230]}, {'index_range': (5274, 5285), 'loc_list': [5301, 5302, 5303, 5304, 5305, 5306, 5307, 5308, 5309, 5310, 5311, 5312]}, {'index_range': (5298, 5321), 'loc_list': [5325, 5326, 5327, 5328, 5329, 5330, 5331, 5332, 5333, 5334, 5335, 5336, 5337, 5338, 5339, 5340, 5341, 5342, 5343, 5344, 5345, 5346, 5347, 5348, 5349]}, {'index_range': (5652, 5663), 'loc_list': [5680, 5681, 5682, 5683, 5684, 5685, 5686, 5687, 5688, 5689, 5690, 5691]}, {'index_range': (5692, 5695), 'loc_list': [5720, 5721, 5722, 5723, 5724, 5725]}, {'index_range': (5762, 5769), 'loc_list': [5792, 5793, 5794, 5795, 5796, 5797, 5798, 5799, 5800]}, {'index_range': (5801, 5802), 'loc_list': [5832, 5833]}, {'index_range': (5891, 5902), 'loc_list': [5922, 5923, 5924, 5925, 5926, 5927, 5928, 5929, 5930, 5931, 5932, 5933]}, {'index_range': (5966, 5981), 'loc_list': [5997, 5998, 5999, 6000, 6001, 6002, 6003, 6004, 6005, 6006, 6007, 6008, 6009, 6010, 6011, 6012]}, {'index_range': (6110, 6111), 'loc_list': [6141, 6142]}, {'index_range': (6117, 6132), 'loc_list': [6148, 6149, 6150, 6151, 6152, 6153, 6154, 6155, 6156, 6157, 6158, 6159, 6160, 6161, 6162, 6163]}, {'index_range': (6214, 6217), 'loc_list': [6245, 6246, 6247, 6248]}, {'index_range': (6219, 6219), 'loc_list': [6250]}, {'index_range': (6252, 6252), 'loc_list': [6283]}, {'index_range': (6294, 6294), 'loc_list': [6325]}, {'index_range': (6316, 6316), 'loc_list': [6347, 6348]}, {'index_range': (6331, 6339), 'loc_list': [6363, 6364, 6365, 6366, 6367, 6368, 6369, 6370, 6371]}, {'index_range': (6422, 6440), 'loc_list': [6454, 6455, 6456, 6457, 6458, 6459, 6460, 6461, 6462, 6463, 6464, 6465, 6466, 6467, 6468, 6469, 6470, 6471, 6472]}, {'index_range': (6462, 6470), 'loc_list': [6494, 6495, 6496, 6497, 6498, 6499, 6500, 6501, 6502]}, {'index_range': (6517, 6545), 'loc_list': [6549, 6550, 6551, 6552, 6553, 6554, 6555, 6556, 6557, 6558, 6559, 6560, 6561, 6562, 6563, 6564, 6565, 6566, 6567, 6568, 6569, 6570, 6571, 6572, 6573, 6574, 6575, 6576, 6577]}, {'index_range': (6552, 6575), 'loc_list': [6584, 6585, 6586, 6587, 6588, 6589, 6590, 6591, 6592, 6593, 6594, 6595, 6596, 6597, 6598, 6599, 6600, 6601, 6602, 6603, 6604, 6605, 6606, 6607]}, {'index_range': (6582, 6603), 'loc_list': [6614, 6615, 6616, 6617, 6618, 6619, 6620, 6621, 6622, 6623, 6624, 6625, 6626, 6627, 6628, 6629, 6630, 6631, 6632, 6633, 6634, 6635]}, {'index_range': (6610, 6629), 'loc_list': [6642, 6643, 6644, 6645, 6646, 6647, 6648, 6649, 6650, 6651, 6652, 6653, 6654, 6655, 6656, 6657, 6658, 6659, 6660, 6661]}, {'index_range': (6644, 6663), 'loc_list': [6676, 6677, 6678, 6679, 6680, 6681, 6682, 6683, 6684, 6685, 6686, 6687, 6688, 6689, 6690, 6691, 6692, 6693, 6694, 6695]}, {'index_range': (6715, 6721), 'loc_list': [6747, 6748, 6749, 6750, 6751, 6752, 6753, 6754]}, {'index_range': (6724, 6733), 'loc_list': [6757, 6758, 6759, 6760, 6761, 6762, 6763, 6764, 6765, 6766]}, {'index_range': (6808, 6809), 'loc_list': [6841, 6842]}, {'index_range': (6844, 6847), 'loc_list': [6877, 6878, 6879, 6880]}, {'index_range': (6874, 6875), 'loc_list': [6907, 6908]}, {'index_range': (6886, 6891), 'loc_list': [6919, 6920, 6921, 6922, 6923, 6924]}, {'index_range': (6976, 6976), 'loc_list': [7009]}, {'index_range': (6978, 6978), 'loc_list': [7011]}, {'index_range': (6980, 6981), 'loc_list': [7013, 7014]}, {'index_range': (6983, 6984), 'loc_list': [7016, 7017]}, {'index_range': (7030, 7030), 'loc_list': [7063]}, {'index_range': (7038, 7038), 'loc_list': [7071]}, {'index_range': (7040, 7040), 'loc_list': [7073]}, {'index_range': (7064, 7064), 'loc_list': [7097]}, {'index_range': (7066, 7067), 'loc_list': [7099, 7100]}, {'index_range': (7119, 7146), 'loc_list': [7152, 7153, 7154, 7155, 7156, 7157, 7158, 7159, 7160, 7161, 7162, 7163, 7164, 7165, 7166, 7167, 7168, 7169, 7170, 7171, 7172, 7173, 7174, 7175, 7176, 7177, 7178, 7179]}, {'index_range': (7166, 7177), 'loc_list': [7199, 7200, 7201, 7202, 7203, 7204, 7205, 7206, 7207, 7208, 7209, 7210]}, {'index_range': (7194, 7194), 'loc_list': [7227]}, {'index_range': (7196, 7196), 'loc_list': [7229]}, {'index_range': (7205, 7211), 'loc_list': [7238, 7239, 7240, 7241, 7242, 7243, 7244]}, {'index_range': (7218, 7219), 'loc_list': [7251, 7252]}, {'index_range': (7221, 7222), 'loc_list': [7254, 7255]}, {'index_range': (7229, 7240), 'loc_list': [7262, 7263, 7264, 7265, 7266, 7267, 7268, 7269, 7270, 7271, 7272, 7273]}, {'index_range': (7247, 7253), 'loc_list': [7280, 7281, 7282, 7283, 7284, 7285, 7286]}, {'index_range': (7258, 7261), 'loc_list': [7291, 7292, 7293, 7294]}, {'index_range': (7266, 7272), 'loc_list': [7299, 7300, 7301, 7302, 7303, 7304, 7305]}, {'index_range': (7276, 7286), 'loc_list': [7309, 7310, 7311, 7312, 7313, 7314, 7315, 7316, 7317, 7318, 7319, 7320]}, {'index_range': (7290, 7299), 'loc_list': [7324, 7325, 7326, 7327, 7328, 7329, 7330, 7331, 7332, 7333]}, {'index_range': (7312, 7321), 'loc_list': [7346, 7347, 7348, 7349, 7350, 7351, 7352, 7353, 7354, 7355]}, {'index_range': (7358, 7369), 'loc_list': [7392, 7393, 7394, 7395, 7396, 7397, 7398, 7399, 7400, 7401, 7402, 7403]}, {'index_range': (7397, 7402), 'loc_list': [7431, 7432, 7433, 7434, 7435, 7436]}, {'index_range': (7522, 7525), 'loc_list': [7556, 7557, 7558, 7559]}, {'index_range': (7653, 7680), 'loc_list': [7687, 7688, 7689, 7690, 7691, 7692, 7693, 7694, 7695, 7696, 7697, 7698, 7699, 7700, 7701, 7702, 7703, 7704, 7705, 7706, 7707, 7708, 7709, 7710, 7711, 7712, 7713, 7714]}, {'index_range': (7878, 7881), 'loc_list': [7912, 7913, 7914, 7915, 7916]}, {'index_range': (8064, 8069), 'loc_list': [8099, 8100, 8101, 8102, 8103, 8104]}, {'index_range': (8073, 8079), 'loc_list': [8108, 8109, 8110, 8111, 8112, 8113, 8114]}, {'index_range': (8109, 8132), 'loc_list': [8144, 8145, 8146, 8147, 8148, 8149, 8150, 8151, 8152, 8153, 8154, 8155, 8156, 8157, 8158, 8159, 8160, 8161, 8162, 8163, 8164, 8165, 8166, 8167, 8168]}, {'index_range': (8143, 8152), 'loc_list': [8179, 8180, 8181, 8182, 8183, 8184, 8185, 8186, 8187, 8188]}, {'index_range': (8154, 8161), 'loc_list': [8190, 8191, 8192, 8193, 8194, 8195, 8196, 8197]}, {'index_range': (8171, 8198), 'loc_list': [8207, 8208, 8209, 8210, 8211, 8212, 8213, 8214, 8215, 8216, 8217, 8218, 8219, 8220, 8221, 8222, 8223, 8224, 8225, 8226, 8227, 8228, 8229, 8230, 8231, 8232, 8233, 8234]}, {'index_range': (8228, 8231), 'loc_list': [8264, 8265, 8266, 8267]}, {'index_range': (8576, 8578), 'loc_list': [8612, 8613, 8614, 8615]}, {'index_range': (8656, 8658), 'loc_list': [8693, 8694, 8695, 8696]}, {'index_range': (8662, 8677), 'loc_list': [8700, 8701, 8702, 8703, 8704, 8705, 8706, 8707, 8708, 8709, 8710, 8711, 8712, 8713, 8714, 8715, 8716, 8717]}, {'index_range': (8701, 8723), 'loc_list': [8741, 8742, 8743, 8744, 8745, 8746, 8747, 8748, 8749, 8750, 8751, 8752, 8753, 8754, 8755, 8756, 8757, 8758, 8759, 8760, 8761, 8762, 8763, 8764, 8765]}, {'index_range': (9069, 9087), 'loc_list': [9111, 9112, 9113, 9114, 9115, 9116, 9117, 9118, 9119, 9120, 9121, 9122, 9123, 9124, 9125, 9126, 9127, 9128, 9129, 9130]}, {'index_range': (9122, 9125), 'loc_list': [9165, 9166, 9167, 9168]}, {'index_range': (9138, 9143), 'loc_list': [9181, 9182, 9183, 9184, 9185, 9186]}, {'index_range': (9167, 9193), 'loc_list': [9210, 9211, 9212, 9213, 9214, 9215, 9216, 9217, 9218, 9219, 9220, 9221, 9222, 9223, 9224, 9225, 9226, 9227, 9228, 9229, 9230, 9231, 9232, 9233, 9234, 9235, 9236, 9237]}, {'index_range': (9199, 9201), 'loc_list': [9243, 9244, 9245]}, {'index_range': (9218, 9224), 'loc_list': [9262, 9263, 9264, 9265, 9266, 9267, 9268, 9269]}, {'index_range': (9269, 9295), 'loc_list': [9314, 9315, 9316, 9317, 9318, 9319, 9320, 9321, 9322, 9323, 9324, 9325, 9326, 9327, 9328, 9329, 9330, 9331, 9332, 9333, 9334, 9335, 9336, 9337, 9338, 9339, 9340, 9341]}, {'index_range': (9302, 9331), 'loc_list': [9348, 9349, 9350, 9351, 9352, 9353, 9354, 9355, 9356, 9357, 9358, 9359, 9360, 9361, 9362, 9363, 9364, 9365, 9366, 9367, 9368, 9369, 9370, 9371, 9372, 9373, 9374, 9375, 9376, 9377]}, {'index_range': (9502, 9509), 'loc_list': [9548, 9549, 9550, 9551, 9552, 9553, 9554, 9555]}, {'index_range': (9516, 9527), 'loc_list': [9562, 9563, 9564, 9565, 9566, 9567, 9568, 9569, 9570, 9571, 9572, 9573]}, {'index_range': (9545, 9547), 'loc_list': [9591, 9592, 9593]}, {'index_range': (9570, 9577), 'loc_list': [9616, 9617, 9618, 9619, 9620, 9621, 9622, 9623, 9624]}, {'index_range': (9602, 9614), 'loc_list': [9649, 9650, 9651, 9652, 9653, 9654, 9655, 9656, 9657, 9658, 9659, 9660, 9661]}, {'index_range': (9624, 9629), 'loc_list': [9671, 9672, 9673, 9674, 9675, 9676]}, {'index_range': (9637, 9638), 'loc_list': [9684, 9685, 9686]}, {'index_range': (9662, 9665), 'loc_list': [9710, 9711, 9712, 9713]}, {'index_range': (9676, 9678), 'loc_list': [9724, 9725, 9726]}, {'index_range': (9732, 9735), 'loc_list': [9780, 9781, 9782, 9783]}, {'index_range': (9740, 9742), 'loc_list': [9788, 9789, 9790]}, {'index_range': (9744, 9745), 'loc_list': [9792, 9793, 9794]}, {'index_range': (9749, 9759), 'loc_list': [9798, 9799, 9800, 9801, 9802, 9803, 9804, 9805, 9806, 9807, 9808]}, {'index_range': (9768, 9771), 'loc_list': [9817, 9818, 9819, 9820, 9821]}, {'index_range': (9803, 9805), 'loc_list': [9853, 9854, 9855]}, {'index_range': (9906, 9910), 'loc_list': [9956, 9957, 9958, 9959, 9960]}, {'index_range': (9986, 9992), 'loc_list': [10036, 10037, 10038, 10039, 10040, 10041, 10042, 10043]}, {'index_range': (10012, 10014), 'loc_list': [10063, 10064, 10065]}, {'index_range': (10059, 10076), 'loc_list': [10110, 10111, 10112, 10113, 10114, 10115, 10116, 10117, 10118, 10119, 10120, 10121, 10122, 10123, 10124, 10125, 10126, 10127]}, {'index_range': (10081, 10097), 'loc_list': [10132, 10133, 10134, 10135, 10136, 10137, 10138, 10139, 10140, 10141, 10142, 10143, 10144, 10145, 10146, 10147, 10148]}, {'index_range': (10099, 10113), 'loc_list': [10150, 10151, 10152, 10153, 10154, 10155, 10156, 10157, 10158, 10159, 10160, 10161, 10162, 10163, 10164]}, {'index_range': (10117, 10127), 'loc_list': [10168, 10169, 10170, 10171, 10172, 10173, 10174, 10175, 10176, 10177, 10178, 10179]}, {'index_range': (10129, 10151), 'loc_list': [10181, 10182, 10183, 10184, 10185, 10186, 10187, 10188, 10189, 10190, 10191, 10192, 10193, 10194, 10195, 10196, 10197, 10198, 10199, 10200, 10201, 10202, 10203]}, {'index_range': (10156, 10185), 'loc_list': [10208, 10209, 10210, 10211, 10212, 10213, 10214, 10215, 10216, 10217, 10218, 10219, 10220, 10221, 10222, 10223, 10224, 10225, 10226, 10227, 10228, 10229, 10230, 10231, 10232, 10233, 10234, 10235, 10236, 10237]}, {'index_range': (10189, 10217), 'loc_list': [10241, 10242, 10243, 10244, 10245, 10246, 10247, 10248, 10249, 10250, 10251, 10252, 10253, 10254, 10255, 10256, 10257, 10258, 10259, 10260, 10261, 10262, 10263, 10264, 10265, 10266, 10267, 10268, 10269, 10270]}, {'index_range': (10222, 10251), 'loc_list': [10275, 10276, 10277, 10278, 10279, 10280, 10281, 10282, 10283, 10284, 10285, 10286, 10287, 10288, 10289, 10290, 10291, 10292, 10293, 10294, 10295, 10296, 10297, 10298, 10299, 10300, 10301, 10302, 10303, 10304]}, {'index_range': (10259, 10268), 'loc_list': [10312, 10313, 10314, 10315, 10316, 10317, 10318, 10319, 10320, 10321]}, {'index_range': (10271, 10280), 'loc_list': [10324, 10325, 10326, 10327, 10328, 10329, 10330, 10331, 10332, 10333]}, {'index_range': (10462, 10465), 'loc_list': [10515, 10516, 10517, 10518, 10519]}, {'index_range': (10745, 10755), 'loc_list': [10799, 10800, 10801, 10802, 10803, 10804, 10805, 10806, 10807, 10808, 10809]}, {'index_range': (10777, 10792), 'loc_list': [10831, 10832, 10833, 10834, 10835, 10836, 10837, 10838, 10839, 10840, 10841, 10842, 10843, 10844, 10845, 10846]}, {'index_range': (10811, 10825), 'loc_list': [10865, 10866, 10867, 10868, 10869, 10870, 10871, 10872, 10873, 10874, 10875, 10876, 10877, 10878, 10879]}, {'index_range': (10854, 10857), 'loc_list': [10908, 10909, 10910, 10911]}, {'index_range': (10884, 10886), 'loc_list': [10938, 10939, 10940]}, {'index_range': (10910, 10925), 'loc_list': [10964, 10965, 10966, 10967, 10968, 10969, 10970, 10971, 10972, 10973, 10974, 10975, 10976, 10977, 10978, 10979]}, {'index_range': (10954, 10963), 'loc_list': [11008, 11009, 11010, 11011, 11012, 11013, 11014, 11015, 11016, 11017]}, {'index_range': (10988, 11000), 'loc_list': [11042, 11043, 11044, 11045, 11046, 11047, 11048, 11049, 11050, 11051, 11052, 11053, 11054]}, {'index_range': (12820, 12837), 'loc_list': [12874, 12875, 12876, 12877, 12878, 12879, 12880, 12881, 12882, 12883, 12884, 12885, 12886, 12887, 12888, 12889, 12890, 12891]}, {'index_range': (12871, 12875), 'loc_list': [12925, 12926, 12927, 12928, 12929]}, {'index_range': (13599, 13604), 'loc_list': [13653, 13654, 13655, 13656, 13657, 13658]}, {'index_range': (13612, 13640), 'loc_list': [13666, 13667, 13668, 13669, 13670, 13671, 13672, 13673, 13674, 13675, 13676, 13677, 13678, 13679, 13680, 13681, 13682, 13683, 13684, 13685, 13686, 13687, 13688, 13689, 13690, 13691, 13692, 13693, 13694, 13695]}, {'index_range': (13644, 13654), 'loc_list': [13699, 13700, 13701, 13702, 13703, 13704, 13705, 13706, 13707, 13708, 13709, 13710, 13711]}, {'index_range': (13659, 13675), 'loc_list': [13716, 13717, 13718, 13719, 13720, 13721, 13722, 13723, 13724, 13725, 13726, 13727, 13728, 13729, 13730, 13731, 13732]}, {'index_range': (13679, 13708), 'loc_list': [13736, 13737, 13738, 13739, 13740, 13741, 13742, 13743, 13744, 13745, 13746, 13747, 13748, 13749, 13750, 13751, 13752, 13753, 13754, 13755, 13756, 13757, 13758, 13759, 13760, 13761, 13762, 13763, 13764, 13765, 13766]}, {'index_range': (13712, 13735), 'loc_list': [13770, 13771, 13772, 13773, 13774, 13775, 13776, 13777, 13778, 13779, 13780, 13781, 13782, 13783, 13784, 13785, 13786, 13787, 13788, 13789, 13790, 13791, 13792, 13793, 13794]}, {'index_range': (13738, 13742), 'loc_list': [13797, 13798, 13799, 13800, 13801]}, {'index_range': (13746, 13758), 'loc_list': [13805, 13806, 13807, 13808, 13809, 13810, 13811, 13812, 13813, 13814, 13815, 13816, 13817]}, {'index_range': (13761, 13770), 'loc_list': [13820, 13821, 13822, 13823, 13824, 13825, 13826, 13827, 13828, 13829]}, {'index_range': (13773, 13793), 'loc_list': [13832, 13833, 13834, 13835, 13836, 13837, 13838, 13839, 13840, 13841, 13842, 13843, 13844, 13845, 13846, 13847, 13848, 13849, 13850, 13851, 13852]}, {'index_range': (14769, 14786), 'loc_list': [14828, 14829, 14830, 14831, 14832, 14833, 14834, 14835, 14836, 14837, 14838, 14839, 14840, 14841, 14842, 14843, 14844, 14845]}, {'index_range': (14790, 14817), 'loc_list': [14849, 14850, 14851, 14852, 14853, 14854, 14855, 14856, 14857, 14858, 14859, 14860, 14861, 14862, 14863, 14864, 14865, 14866, 14867, 14868, 14869, 14870, 14871, 14872, 14873, 14874, 14875, 14876]}, {'index_range': (14826, 14855), 'loc_list': [14885, 14886, 14887, 14888, 14889, 14890, 14891, 14892, 14893, 14894, 14895, 14896, 14897, 14898, 14899, 14900, 14901, 14902, 14903, 14904, 14905, 14906, 14907, 14908, 14909, 14910, 14911, 14912, 14913, 14914]}, {'index_range': (14859, 14889), 'loc_list': [14918, 14919, 14920, 14921, 14922, 14923, 14924, 14925, 14926, 14927, 14928, 14929, 14930, 14931, 14932, 14933, 14934, 14935, 14936, 14937, 14938, 14939, 14940, 14941, 14942, 14943, 14944, 14945, 14946, 14947, 14948]}, {'index_range': (14893, 14924), 'loc_list': [14952, 14953, 14954, 14955, 14956, 14957, 14958, 14959, 14960, 14961, 14962, 14963, 14964, 14965, 14966, 14967, 14968, 14969, 14970, 14971, 14972, 14973, 14974, 14975, 14976, 14977, 14978, 14979, 14980, 14981, 14982, 14983]}, {'index_range': (14928, 14932), 'loc_list': [14987, 14988, 14989, 14990, 14991]}, {'index_range': (14939, 14959), 'loc_list': [14998, 14999, 15000, 15001, 15002, 15003, 15004, 15005, 15006, 15007, 15008, 15009, 15010, 15011, 15012, 15013, 15014, 15015, 15016, 15017, 15018]}, {'index_range': (14963, 14997), 'loc_list': [15022, 15023, 15024, 15025, 15026, 15027, 15028, 15029, 15030, 15031, 15032, 15033, 15034, 15035, 15036, 15037, 15038, 15039, 15040, 15041, 15042, 15043, 15044, 15045, 15046, 15047, 15048, 15049, 15050, 15051, 15052, 15053, 15054, 15055, 15056]}, {'index_range': (15001, 15033), 'loc_list': [15060, 15061, 15062, 15063, 15064, 15065, 15066, 15067, 15068, 15069, 15070, 15071, 15072, 15073, 15074, 15075, 15076, 15077, 15078, 15079, 15080, 15081, 15082, 15083, 15084, 15085, 15086, 15087, 15088, 15089, 15090, 15091, 15092]}, {'index_range': (15037, 15071), 'loc_list': [15096, 15097, 15098, 15099, 15100, 15101, 15102, 15103, 15104, 15105, 15106, 15107, 15108, 15109, 15110, 15111, 15112, 15113, 15114, 15115, 15116, 15117, 15118, 15119, 15120, 15121, 15122, 15123, 15124, 15125, 15126, 15127, 15128, 15129, 15130]}, {'index_range': (15075, 15108), 'loc_list': [15134, 15135, 15136, 15137, 15138, 15139, 15140, 15141, 15142, 15143, 15144, 15145, 15146, 15147, 15148, 15149, 15150, 15151, 15152, 15153, 15154, 15155, 15156, 15157, 15158, 15159, 15160, 15161, 15162, 15163, 15164, 15165, 15166, 15167]}, {'index_range': (15111, 15144), 'loc_list': [15170, 15171, 15172, 15173, 15174, 15175, 15176, 15177, 15178, 15179, 15180, 15181, 15182, 15183, 15184, 15185, 15186, 15187, 15188, 15189, 15190, 15191, 15192, 15193, 15194, 15195, 15196, 15197, 15198, 15199, 15200, 15201, 15202, 15203, 15204]}, {'index_range': (15148, 15182), 'loc_list': [15208, 15209, 15210, 15211, 15212, 15213, 15214, 15215, 15216, 15217, 15218, 15219, 15220, 15221, 15222, 15223, 15224, 15225, 15226, 15227, 15228, 15229, 15230, 15231, 15232, 15233, 15234, 15235, 15236, 15237, 15238, 15239, 15240, 15241, 15242]}, {'index_range': (15186, 15215), 'loc_list': [15246, 15247, 15248, 15249, 15250, 15251, 15252, 15253, 15254, 15255, 15256, 15257, 15258, 15259, 15260, 15261, 15262, 15263, 15264, 15265, 15266, 15267, 15268, 15269, 15270, 15271, 15272, 15273, 15274, 15275]}, {'index_range': (15219, 15251), 'loc_list': [15279, 15280, 15281, 15282, 15283, 15284, 15285, 15286, 15287, 15288, 15289, 15290, 15291, 15292, 15293, 15294, 15295, 15296, 15297, 15298, 15299, 15300, 15301, 15302, 15303, 15304, 15305, 15306, 15307, 15308, 15309, 15310, 15311]}, {'index_range': (15256, 15290), 'loc_list': [15316, 15317, 15318, 15319, 15320, 15321, 15322, 15323, 15324, 15325, 15326, 15327, 15328, 15329, 15330, 15331, 15332, 15333, 15334, 15335, 15336, 15337, 15338, 15339, 15340, 15341, 15342, 15343, 15344, 15345, 15346, 15347, 15348, 15349, 15350]}, {'index_range': (15294, 15324), 'loc_list': [15354, 15355, 15356, 15357, 15358, 15359, 15360, 15361, 15362, 15363, 15364, 15365, 15366, 15367, 15368, 15369, 15370, 15371, 15372, 15373, 15374, 15375, 15376, 15377, 15378, 15379, 15380, 15381, 15382, 15383, 15384]}, {'index_range': (15327, 15330), 'loc_list': [15387, 15388, 15389, 15390]}, {'index_range': (15333, 15368), 'loc_list': [15393, 15394, 15395, 15396, 15397, 15398, 15399, 15400, 15401, 15402, 15403, 15404, 15405, 15406, 15407, 15408, 15409, 15410, 15411, 15412, 15413, 15414, 15415, 15416, 15417, 15418, 15419, 15420, 15421, 15422, 15423, 15424, 15425, 15426, 15427, 15428, 15429]}, {'index_range': (15372, 15404), 'loc_list': [15433, 15434, 15435, 15436, 15437, 15438, 15439, 15440, 15441, 15442, 15443, 15444, 15445, 15446, 15447, 15448, 15449, 15450, 15451, 15452, 15453, 15454, 15455, 15456, 15457, 15458, 15459, 15460, 15461, 15462, 15463, 15464, 15465]}, {'index_range': (15410, 15446), 'loc_list': [15471, 15472, 15473, 15474, 15475, 15476, 15477, 15478, 15479, 15480, 15481, 15482, 15483, 15484, 15485, 15486, 15487, 15488, 15489, 15490, 15491, 15492, 15493, 15494, 15495, 15496, 15497, 15498, 15499, 15500, 15501, 15502, 15503, 15504, 15505, 15506, 15507, 15508]}, {'index_range': (15450, 15473), 'loc_list': [15512, 15513, 15514, 15515, 15516, 15517, 15518, 15519, 15520, 15521, 15522, 15523, 15524, 15525, 15526, 15527, 15528, 15529, 15530, 15531, 15532, 15533, 15534, 15535]}, {'index_range': (15555, 15570), 'loc_list': [15617, 15618, 15619, 15620, 15621, 15622, 15623, 15624, 15625, 15626, 15627, 15628, 15629, 15630, 15631, 15632]}, {'index_range': (15574, 15601), 'loc_list': [15636, 15637, 15638, 15639, 15640, 15641, 15642, 15643, 15644, 15645, 15646, 15647, 15648, 15649, 15650, 15651, 15652, 15653, 15654, 15655, 15656, 15657, 15658, 15659, 15660, 15661, 15662, 15663]}, {'index_range': (15605, 15637), 'loc_list': [15667, 15668, 15669, 15670, 15671, 15672, 15673, 15674, 15675, 15676, 15677, 15678, 15679, 15680, 15681, 15682, 15683, 15684, 15685, 15686, 15687, 15688, 15689, 15690, 15691, 15692, 15693, 15694, 15695, 15696, 15697, 15698, 15699]}, {'index_range': (15640, 15669), 'loc_list': [15702, 15703, 15704, 15705, 15706, 15707, 15708, 15709, 15710, 15711, 15712, 15713, 15714, 15715, 15716, 15717, 15718, 15719, 15720, 15721, 15722, 15723, 15724, 15725, 15726, 15727, 15728, 15729, 15730, 15731, 15732]}, {'index_range': (15673, 15698), 'loc_list': [15736, 15737, 15738, 15739, 15740, 15741, 15742, 15743, 15744, 15745, 15746, 15747, 15748, 15749, 15750, 15751, 15752, 15753, 15754, 15755, 15756, 15757, 15758, 15759, 15760, 15761]}, {'index_range': (15702, 15728), 'loc_list': [15765, 15766, 15767, 15768, 15769, 15770, 15771, 15772, 15773, 15774, 15775, 15776, 15777, 15778, 15779, 15780, 15781, 15782, 15783, 15784, 15785, 15786, 15787, 15788, 15789, 15790, 15791]}, {'index_range': (15838, 15867), 'loc_list': [15901, 15902, 15903, 15904, 15905, 15906, 15907, 15908, 15909, 15910, 15911, 15912, 15913, 15914, 15915, 15916, 15917, 15918, 15919, 15920, 15921, 15922, 15923, 15924, 15925, 15926, 15927, 15928, 15929, 15930]}, {'index_range': (15902, 15907), 'loc_list': [15965, 15966, 15967, 15968, 15969, 15970]}, {'index_range': (15910, 15939), 'loc_list': [15973, 15974, 15975, 15976, 15977, 15978, 15979, 15980, 15981, 15982, 15983, 15984, 15985, 15986, 15987, 15988, 15989, 15990, 15991, 15992, 15993, 15994, 15995, 15996, 15997, 15998, 15999, 16000, 16001, 16002, 16003]}, {'index_range': (15948, 15949), 'loc_list': [16012, 16013]}, {'index_range': (16254, 16256), 'loc_list': [16318, 16319, 16320]}, {'index_range': (16281, 16293), 'loc_list': [16345, 16346, 16347, 16348, 16349, 16350, 16351, 16352, 16353, 16354, 16355, 16356, 16357]}, {'index_range': (16296, 16322), 'loc_list': [16360, 16361, 16362, 16363, 16364, 16365, 16366, 16367, 16368, 16369, 16370, 16371, 16372, 16373, 16374, 16375, 16376, 16377, 16378, 16379, 16380, 16381, 16382, 16383, 16384, 16385, 16386, 16387]}, {'index_range': (16468, 16485), 'loc_list': [16533, 16534, 16535, 16536, 16537, 16538, 16539, 16540, 16541, 16542, 16543, 16544, 16545, 16546, 16547, 16548, 16549, 16550]}, {'index_range': (16543, 16551), 'loc_list': [16608, 16609, 16610, 16611, 16612, 16613, 16614, 16615, 16616, 16617]}, {'index_range': (16555, 16564), 'loc_list': [16621, 16622, 16623, 16624, 16625, 16626, 16627, 16628, 16629, 16630]}, {'index_range': (16566, 16574), 'loc_list': [16632, 16633, 16634, 16635, 16636, 16637, 16638, 16639, 16640]}, {'index_range': (16576, 16583), 'loc_list': [16642, 16643, 16644, 16645, 16646, 16647, 16648, 16649, 16650]}, {'index_range': (16667, 16679), 'loc_list': [16734, 16735, 16736, 16737, 16738, 16739, 16740, 16741, 16742, 16743, 16744, 16745, 16746, 16747, 16748]}, {'index_range': (16686, 16714), 'loc_list': [16755, 16756, 16757, 16758, 16759, 16760, 16761, 16762, 16763, 16764, 16765, 16766, 16767, 16768, 16769, 16770, 16771, 16772, 16773, 16774, 16775, 16776, 16777, 16778, 16779, 16780, 16781, 16782, 16783, 16784]}, {'index_range': (16718, 16734), 'loc_list': [16788, 16789, 16790, 16791, 16792, 16793, 16794, 16795, 16796, 16797, 16798, 16799, 16800, 16801, 16802, 16803, 16804, 16805, 16806]}, {'index_range': (16750, 16777), 'loc_list': [16822, 16823, 16824, 16825, 16826, 16827, 16828, 16829, 16830, 16831, 16832, 16833, 16834, 16835, 16836, 16837, 16838, 16839, 16840, 16841, 16842, 16843, 16844, 16845, 16846, 16847, 16848, 16849]}, {'index_range': (16781, 16810), 'loc_list': [16853, 16854, 16855, 16856, 16857, 16858, 16859, 16860, 16861, 16862, 16863, 16864, 16865, 16866, 16867, 16868, 16869, 16870, 16871, 16872, 16873, 16874, 16875, 16876, 16877, 16878, 16879, 16880, 16881, 16882, 16883]}, {'index_range': (16814, 16842), 'loc_list': [16887, 16888, 16889, 16890, 16891, 16892, 16893, 16894, 16895, 16896, 16897, 16898, 16899, 16900, 16901, 16902, 16903, 16904, 16905, 16906, 16907, 16908, 16909, 16910, 16911, 16912, 16913, 16914, 16915, 16916]}, {'index_range': (16846, 16872), 'loc_list': [16920, 16921, 16922, 16923, 16924, 16925, 16926, 16927, 16928, 16929, 16930, 16931, 16932, 16933, 16934, 16935, 16936, 16937, 16938, 16939, 16940, 16941, 16942, 16943, 16944, 16945, 16946, 16947]}, {'index_range': (16876, 16897), 'loc_list': [16951, 16952, 16953, 16954, 16955, 16956, 16957, 16958, 16959, 16960, 16961, 16962, 16963, 16964, 16965, 16966, 16967, 16968, 16969, 16970, 16971, 16972, 16973]}, {'index_range': (16899, 16902), 'loc_list': [16975, 16976, 16977, 16978]}, {'index_range': (16906, 16931), 'loc_list': [16982, 16983, 16984, 16985, 16986, 16987, 16988, 16989, 16990, 16991, 16992, 16993, 16994, 16995, 16996, 16997, 16998, 16999, 17000, 17001, 17002, 17003, 17004, 17005, 17006, 17007, 17008]}, {'index_range': (16935, 16963), 'loc_list': [17012, 17013, 17014, 17015, 17016, 17017, 17018, 17019, 17020, 17021, 17022, 17023, 17024, 17025, 17026, 17027, 17028, 17029, 17030, 17031, 17032, 17033, 17034, 17035, 17036, 17037, 17038, 17039, 17040, 17041]}, {'index_range': (16967, 16973), 'loc_list': [17045, 17046, 17047, 17048, 17049, 17050, 17051, 17052, 17053]}, {'index_range': (17070, 17091), 'loc_list': [17150, 17151, 17152, 17153, 17154, 17155, 17156, 17157, 17158, 17159, 17160, 17161, 17162, 17163, 17164, 17165, 17166, 17167, 17168, 17169, 17170, 17171]}, {'index_range': (17096, 17122), 'loc_list': [17176, 17177, 17178, 17179, 17180, 17181, 17182, 17183, 17184, 17185, 17186, 17187, 17188, 17189, 17190, 17191, 17192, 17193, 17194, 17195, 17196, 17197, 17198, 17199, 17200, 17201, 17202]}, {'index_range': (17126, 17151), 'loc_list': [17206, 17207, 17208, 17209, 17210, 17211, 17212, 17213, 17214, 17215, 17216, 17217, 17218, 17219, 17220, 17221, 17222, 17223, 17224, 17225, 17226, 17227, 17228, 17229, 17230, 17231, 17232]}, {'index_range': (17156, 17182), 'loc_list': [17237, 17238, 17239, 17240, 17241, 17242, 17243, 17244, 17245, 17246, 17247, 17248, 17249, 17250, 17251, 17252, 17253, 17254, 17255, 17256, 17257, 17258, 17259, 17260, 17261, 17262, 17263]}, {'index_range': (17186, 17214), 'loc_list': [17267, 17268, 17269, 17270, 17271, 17272, 17273, 17274, 17275, 17276, 17277, 17278, 17279, 17280, 17281, 17282, 17283, 17284, 17285, 17286, 17287, 17288, 17289, 17290, 17291, 17292, 17293, 17294, 17295, 17296]}, {'index_range': (17219, 17246), 'loc_list': [17301, 17302, 17303, 17304, 17305, 17306, 17307, 17308, 17309, 17310, 17311, 17312, 17313, 17314, 17315, 17316, 17317, 17318, 17319, 17320, 17321, 17322, 17323, 17324, 17325, 17326, 17327, 17328, 17329]}, {'index_range': (17250, 17271), 'loc_list': [17333, 17334, 17335, 17336, 17337, 17338, 17339, 17340, 17341, 17342, 17343, 17344, 17345, 17346, 17347, 17348, 17349, 17350, 17351, 17352, 17353, 17354, 17355]}, {'index_range': (17273, 17278), 'loc_list': [17357, 17358, 17359, 17360, 17361, 17362]}, {'index_range': (17282, 17294), 'loc_list': [17366, 17367, 17368, 17369, 17370, 17371, 17372, 17373, 17374, 17375, 17376, 17377, 17378, 17379, 17380]}, {'index_range': (17314, 17340), 'loc_list': [17400, 17401, 17402, 17403, 17404, 17405, 17406, 17407, 17408, 17409, 17410, 17411, 17412, 17413, 17414, 17415, 17416, 17417, 17418, 17419, 17420, 17421, 17422, 17423, 17424, 17425, 17426, 17427]}, {'index_range': (17344, 17370), 'loc_list': [17431, 17432, 17433, 17434, 17435, 17436, 17437, 17438, 17439, 17440, 17441, 17442, 17443, 17444, 17445, 17446, 17447, 17448, 17449, 17450, 17451, 17452, 17453, 17454, 17455, 17456, 17457, 17458]}, {'index_range': (17374, 17399), 'loc_list': [17462, 17463, 17464, 17465, 17466, 17467, 17468, 17469, 17470, 17471, 17472, 17473, 17474, 17475, 17476, 17477, 17478, 17479, 17480, 17481, 17482, 17483, 17484, 17485, 17486, 17487, 17488]}, {'index_range': (17403, 17428), 'loc_list': [17492, 17493, 17494, 17495, 17496, 17497, 17498, 17499, 17500, 17501, 17502, 17503, 17504, 17505, 17506, 17507, 17508, 17509, 17510, 17511, 17512, 17513, 17514, 17515, 17516, 17517, 17518]}, {'index_range': (17432, 17457), 'loc_list': [17522, 17523, 17524, 17525, 17526, 17527, 17528, 17529, 17530, 17531, 17532, 17533, 17534, 17535, 17536, 17537, 17538, 17539, 17540, 17541, 17542, 17543, 17544, 17545, 17546, 17547, 17548]}, {'index_range': (17461, 17490), 'loc_list': [17552, 17553, 17554, 17555, 17556, 17557, 17558, 17559, 17560, 17561, 17562, 17563, 17564, 17565, 17566, 17567, 17568, 17569, 17570, 17571, 17572, 17573, 17574, 17575, 17576, 17577, 17578, 17579, 17580, 17581, 17582]}, {'index_range': (17494, 17509), 'loc_list': [17586, 17587, 17588, 17589, 17590, 17591, 17592, 17593, 17594, 17595, 17596, 17597, 17598, 17599, 17600, 17601, 17602]}, {'index_range': (17537, 17555), 'loc_list': [17630, 17631, 17632, 17633, 17634, 17635, 17636, 17637, 17638, 17639, 17640, 17641, 17642, 17643, 17644, 17645, 17646, 17647, 17648, 17649]}, {'index_range': (17559, 17588), 'loc_list': [17653, 17654, 17655, 17656, 17657, 17658, 17659, 17660, 17661, 17662, 17663, 17664, 17665, 17666, 17667, 17668, 17669, 17670, 17671, 17672, 17673, 17674, 17675, 17676, 17677, 17678, 17679, 17680, 17681, 17682, 17683]}, {'index_range': (17592, 17616), 'loc_list': [17687, 17688, 17689, 17690, 17691, 17692, 17693, 17694, 17695, 17696, 17697, 17698, 17699, 17700, 17701, 17702, 17703, 17704, 17705, 17706, 17707, 17708, 17709, 17710, 17711, 17712]}, {'index_range': (17628, 17652), 'loc_list': [17724, 17725, 17726, 17727, 17728, 17729, 17730, 17731, 17732, 17733, 17734, 17735, 17736, 17737, 17738, 17739, 17740, 17741, 17742, 17743, 17744, 17745, 17746, 17747, 17748, 17749]}, {'index_range': (17660, 17671), 'loc_list': [17757, 17758, 17759, 17760, 17761, 17762, 17763, 17764, 17765, 17766, 17767, 17768, 17769]}, {'index_range': (17693, 17698), 'loc_list': [17791, 17792, 17793, 17794, 17795, 17796]}, {'index_range': (17730, 17738), 'loc_list': [17828, 17829, 17830, 17831, 17832, 17833, 17834, 17835, 17836]}, {'index_range': (17744, 17750), 'loc_list': [17842, 17843, 17844, 17845, 17846, 17847, 17848, 17849]}, {'index_range': (17880, 17905), 'loc_list': [17979, 17980, 17981, 17982, 17983, 17984, 17985, 17986, 17987, 17988, 17989, 17990, 17991, 17992, 17993, 17994, 17995, 17996, 17997, 17998, 17999, 18000, 18001, 18002, 18003, 18004]}, {'index_range': (17909, 17935), 'loc_list': [18008, 18009, 18010, 18011, 18012, 18013, 18014, 18015, 18016, 18017, 18018, 18019, 18020, 18021, 18022, 18023, 18024, 18025, 18026, 18027, 18028, 18029, 18030, 18031, 18032, 18033, 18034, 18035, 18036]}, {'index_range': (17947, 17949), 'loc_list': [18048, 18049, 18050]}, {'index_range': (18293, 18311), 'loc_list': [18394, 18395, 18396, 18397, 18398, 18399, 18400, 18401, 18402, 18403, 18404, 18405, 18406, 18407, 18408, 18409, 18410, 18411, 18412, 18413, 18414]}, {'index_range': (18471, 18475), 'loc_list': [18574, 18575, 18576, 18577, 18578]}, {'index_range': (18622, 18640), 'loc_list': [18725, 18726, 18727, 18728, 18729, 18730, 18731, 18732, 18733, 18734, 18735, 18736, 18737, 18738, 18739, 18740, 18741, 18742, 18743]}, {'index_range': (18642, 18652), 'loc_list': [18745, 18746, 18747, 18748, 18749, 18750, 18751, 18752, 18753, 18754, 18755]}, {'index_range': (18659, 18682), 'loc_list': [18762, 18763, 18764, 18765, 18766, 18767, 18768, 18769, 18770, 18771, 18772, 18773, 18774, 18775, 18776, 18777, 18778, 18779, 18780, 18781, 18782, 18783, 18784, 18785]}, {'index_range': (18685, 18691), 'loc_list': [18788, 18789, 18790, 18791, 18792, 18793, 18794]}, {'index_range': (18695, 18701), 'loc_list': [18798, 18799, 18800, 18801, 18802, 18803, 18804, 18805]}, {'index_range': (18748, 18756), 'loc_list': [18852, 18853, 18854, 18855, 18856, 18857, 18858, 18859, 18860, 18861, 18862]}, {'index_range': (18792, 18799), 'loc_list': [18898, 18899, 18900, 18901, 18902, 18903, 18904, 18905, 18906]}, {'index_range': (18816, 18821), 'loc_list': [18923, 18924, 18925, 18926, 18927, 18928]}, {'index_range': (20391, 20403), 'loc_list': [20498, 20499, 20500, 20501, 20502, 20503, 20504, 20505, 20506, 20507, 20508, 20509, 20510]}, {'index_range': (22456, 22469), 'loc_list': [22563, 22564, 22565, 22566, 22567, 22568, 22569, 22570, 22571, 22572, 22573, 22574, 22575, 22576]}, {'index_range': (26539, 26550), 'loc_list': [26646, 26647, 26648, 26649, 26650, 26651, 26652, 26653, 26654, 26655, 26656, 26657]}, {'index_range': (27701, 27711), 'loc_list': [27808, 27809, 27810, 27811, 27812, 27813, 27814, 27815, 27816, 27817, 27818, 27819]}, {'index_range': (28250, 28258), 'loc_list': [28358, 28359, 28360, 28361, 28362, 28363, 28364, 28365, 28366, 28367, 28368]}, {'index_range': (28267, 28282), 'loc_list': [28377, 28378, 28379, 28380, 28381, 28382, 28383, 28384, 28385, 28386, 28387, 28388, 28389, 28390, 28391, 28392, 28393]}, {'index_range': (28455, 28458), 'loc_list': [28566, 28567, 28568, 28569, 28570]}, {'index_range': (28803, 28837), 'loc_list': [28915, 28916, 28917, 28918, 28919, 28920, 28921, 28922, 28923, 28924, 28925, 28926, 28927, 28928, 28929, 28930, 28931, 28932, 28933, 28934, 28935, 28936, 28937, 28938, 28939, 28940, 28941, 28942, 28943, 28944, 28945, 28946, 28947, 28948, 28949]}, {'index_range': (28842, 28858), 'loc_list': [28954, 28955, 28956, 28957, 28958, 28959, 28960, 28961, 28962, 28963, 28964, 28965, 28966, 28967, 28968, 28969, 28970]}, {'index_range': (29028, 29048), 'loc_list': [29140, 29141, 29142, 29143, 29144, 29145, 29146, 29147, 29148, 29149, 29150, 29151, 29152, 29153, 29154, 29155, 29156, 29157, 29158, 29159, 29160]}, {'index_range': (29758, 29779), 'loc_list': [29870, 29871, 29872, 29873, 29874, 29875, 29876, 29877, 29878, 29879, 29880, 29881, 29882, 29883, 29884, 29885, 29886, 29887, 29888, 29889, 29890, 29891]}, {'index_range': (30244, 30270), 'loc_list': [30356, 30357, 30358, 30359, 30360, 30361, 30362, 30363, 30364, 30365, 30366, 30367, 30368, 30369, 30370, 30371, 30372, 30373, 30374, 30375, 30376, 30377, 30378, 30379, 30380, 30381, 30382]}, {'index_range': (30272, 30276), 'loc_list': [30384, 30385, 30386, 30387, 30388]}, {'index_range': (30281, 30318), 'loc_list': [30393, 30394, 30395, 30396, 30397, 30398, 30399, 30400, 30401, 30402, 30403, 30404, 30405, 30406, 30407, 30408, 30409, 30410, 30411, 30412, 30413, 30414, 30415, 30416, 30417, 30418, 30419, 30420, 30421, 30422, 30423, 30424, 30425, 30426, 30427, 30428, 30429, 30430]}, {'index_range': (30323, 30356), 'loc_list': [30435, 30436, 30437, 30438, 30439, 30440, 30441, 30442, 30443, 30444, 30445, 30446, 30447, 30448, 30449, 30450, 30451, 30452, 30453, 30454, 30455, 30456, 30457, 30458, 30459, 30460, 30461, 30462, 30463, 30464, 30465, 30466, 30467, 30468]}, {'index_range': (30361, 30397), 'loc_list': [30473, 30474, 30475, 30476, 30477, 30478, 30479, 30480, 30481, 30482, 30483, 30484, 30485, 30486, 30487, 30488, 30489, 30490, 30491, 30492, 30493, 30494, 30495, 30496, 30497, 30498, 30499, 30500, 30501, 30502, 30503, 30504, 30505, 30506, 30507, 30508, 30509]}, {'index_range': (32411, 32450), 'loc_list': [32523, 32524, 32525, 32526, 32527, 32528, 32529, 32530, 32531, 32532, 32533, 32534, 32535, 32536, 32537, 32538, 32539, 32540, 32541, 32542, 32543, 32544, 32545, 32546, 32547, 32548, 32549, 32550, 32551, 32552, 32553, 32554, 32555, 32556, 32557, 32558, 32559, 32560, 32561, 32562]}, {'index_range': (32455, 32490), 'loc_list': [32567, 32568, 32569, 32570, 32571, 32572, 32573, 32574, 32575, 32576, 32577, 32578, 32579, 32580, 32581, 32582, 32583, 32584, 32585, 32586, 32587, 32588, 32589, 32590, 32591, 32592, 32593, 32594, 32595, 32596, 32597, 32598, 32599, 32600, 32601, 32602]}, {'index_range': (32575, 32580), 'loc_list': [32687, 32688, 32689, 32690, 32691, 32692]}, {'index_range': (35259, 35267), 'loc_list': [35371, 35372, 35373, 35374, 35375, 35376, 35377, 35378, 35379, 35380]}, {'index_range': (35294, 35294), 'loc_list': [35407]}, {'index_range': (35934, 35962), 'loc_list': [36047, 36048, 36049, 36050, 36051, 36052, 36053, 36054, 36055, 36056, 36057, 36058, 36059, 36060, 36061, 36062, 36063, 36064, 36065, 36066, 36067, 36068, 36069, 36070, 36071, 36072, 36073, 36074, 36075, 36076]}, {'index_range': (36187, 36216), 'loc_list': [36301, 36302, 36303, 36304, 36305, 36306, 36307, 36308, 36309, 36310, 36311, 36312, 36313, 36314, 36315, 36316, 36317, 36318, 36319, 36320, 36321, 36322, 36323, 36324, 36325, 36326, 36327, 36328, 36329, 36330, 36331]}, {'index_range': (36221, 36253), 'loc_list': [36336, 36337, 36338, 36339, 36340, 36341, 36342, 36343, 36344, 36345, 36346, 36347, 36348, 36349, 36350, 36351, 36352, 36353, 36354, 36355, 36356, 36357, 36358, 36359, 36360, 36361, 36362, 36363, 36364, 36365, 36366, 36367, 36368, 36369]}, {'index_range': (36556, 36589), 'loc_list': [36672, 36673, 36674, 36675, 36676, 36677, 36678, 36679, 36680, 36681, 36682, 36683, 36684, 36685, 36686, 36687, 36688, 36689, 36690, 36691, 36692, 36693, 36694, 36695, 36696, 36697, 36698, 36699, 36700, 36701, 36702, 36703, 36704, 36705]}, {'index_range': (36594, 36625), 'loc_list': [36710, 36711, 36712, 36713, 36714, 36715, 36716, 36717, 36718, 36719, 36720, 36721, 36722, 36723, 36724, 36725, 36726, 36727, 36728, 36729, 36730, 36731, 36732, 36733, 36734, 36735, 36736, 36737, 36738, 36739, 36740, 36741]}, {'index_range': (37342, 37354), 'loc_list': [37458, 37459, 37460, 37461, 37462, 37463, 37464, 37465, 37466, 37467, 37468, 37469, 37470]}, {'index_range': (38091, 38130), 'loc_list': [38207, 38208, 38209, 38210, 38211, 38212, 38213, 38214, 38215, 38216, 38217, 38218, 38219, 38220, 38221, 38222, 38223, 38224, 38225, 38226, 38227, 38228, 38229, 38230, 38231, 38232, 38233, 38234, 38235, 38236, 38237, 38238, 38239, 38240, 38241, 38242, 38243, 38244, 38245, 38246]}, {'index_range': (38133, 38173), 'loc_list': [38249, 38250, 38251, 38252, 38253, 38254, 38255, 38256, 38257, 38258, 38259, 38260, 38261, 38262, 38263, 38264, 38265, 38266, 38267, 38268, 38269, 38270, 38271, 38272, 38273, 38274, 38275, 38276, 38277, 38278, 38279, 38280, 38281, 38282, 38283, 38284, 38285, 38286, 38287, 38288, 38289]}, {'index_range': (38268, 38306), 'loc_list': [38384, 38385, 38386, 38387, 38388, 38389, 38390, 38391, 38392, 38393, 38394, 38395, 38396, 38397, 38398, 38399, 38400, 38401, 38402, 38403, 38404, 38405, 38406, 38407, 38408, 38409, 38410, 38411, 38412, 38413, 38414, 38415, 38416, 38417, 38418, 38419, 38420, 38421, 38422]}, {'index_range': (38310, 38350), 'loc_list': [38426, 38427, 38428, 38429, 38430, 38431, 38432, 38433, 38434, 38435, 38436, 38437, 38438, 38439, 38440, 38441, 38442, 38443, 38444, 38445, 38446, 38447, 38448, 38449, 38450, 38451, 38452, 38453, 38454, 38455, 38456, 38457, 38458, 38459, 38460, 38461, 38462, 38463, 38464, 38465, 38466]}, {'index_range': (38989, 39017), 'loc_list': [39105, 39106, 39107, 39108, 39109, 39110, 39111, 39112, 39113, 39114, 39115, 39116, 39117, 39118, 39119, 39120, 39121, 39122, 39123, 39124, 39125, 39126, 39127, 39128, 39129, 39130, 39131, 39132, 39133, 39134]}, {'index_range': (39019, 39047), 'loc_list': [39136, 39137, 39138, 39139, 39140, 39141, 39142, 39143, 39144, 39145, 39146, 39147, 39148, 39149, 39150, 39151, 39152, 39153, 39154, 39155, 39156, 39157, 39158, 39159, 39160, 39161, 39162, 39163, 39164, 39165]}, {'index_range': (39109, 39133), 'loc_list': [39227, 39228, 39229, 39230, 39231, 39232, 39233, 39234, 39235, 39236, 39237, 39238, 39239, 39240, 39241, 39242, 39243, 39244, 39245, 39246, 39247, 39248, 39249, 39250, 39251]}, {'index_range': (39136, 39165), 'loc_list': [39254, 39255, 39256, 39257, 39258, 39259, 39260, 39261, 39262, 39263, 39264, 39265, 39266, 39267, 39268, 39269, 39270, 39271, 39272, 39273, 39274, 39275, 39276, 39277, 39278, 39279, 39280, 39281, 39282, 39283]}, {'index_range': (39167, 39197), 'loc_list': [39285, 39286, 39287, 39288, 39289, 39290, 39291, 39292, 39293, 39294, 39295, 39296, 39297, 39298, 39299, 39300, 39301, 39302, 39303, 39304, 39305, 39306, 39307, 39308, 39309, 39310, 39311, 39312, 39313, 39314, 39315]}, {'index_range': (39199, 39229), 'loc_list': [39317, 39318, 39319, 39320, 39321, 39322, 39323, 39324, 39325, 39326, 39327, 39328, 39329, 39330, 39331, 39332, 39333, 39334, 39335, 39336, 39337, 39338, 39339, 39340, 39341, 39342, 39343, 39344, 39345, 39346, 39347]}, {'index_range': (39231, 39255), 'loc_list': [39349, 39350, 39351, 39352, 39353, 39354, 39355, 39356, 39357, 39358, 39359, 39360, 39361, 39362, 39363, 39364, 39365, 39366, 39367, 39368, 39369, 39370, 39371, 39372, 39373]}, {'index_range': (39267, 39296), 'loc_list': [39385, 39386, 39387, 39388, 39389, 39390, 39391, 39392, 39393, 39394, 39395, 39396, 39397, 39398, 39399, 39400, 39401, 39402, 39403, 39404, 39405, 39406, 39407, 39408, 39409, 39410, 39411, 39412, 39413, 39414]}, {'index_range': (39973, 39990), 'loc_list': [40091, 40092, 40093, 40094, 40095, 40096, 40097, 40098, 40099, 40100, 40101, 40102, 40103, 40104, 40105, 40106, 40107, 40108]}, {'index_range': (40081, 40086), 'loc_list': [40199, 40200, 40201, 40202, 40203, 40204, 40205]}, {'index_range': (40333, 40369), 'loc_list': [40452, 40453, 40454, 40455, 40456, 40457, 40458, 40459, 40460, 40461, 40462, 40463, 40464, 40465, 40466, 40467, 40468, 40469, 40470, 40471, 40472, 40473, 40474, 40475, 40476, 40477, 40478, 40479, 40480, 40481, 40482, 40483, 40484, 40485, 40486, 40487, 40488]}, {'index_range': (40372, 40373), 'loc_list': [40491, 40492, 40493]}]\n"
     ]
    }
   ],
   "source": [
    "print(locs_kopie)"
   ]
  },
  {
   "cell_type": "code",
   "execution_count": 20,
   "metadata": {},
   "outputs": [
    {
     "name": "stdout",
     "output_type": "stream",
     "text": [
      "242\n",
      "[10241, 10242, 8716, 8717, 17431, 16920, 16921, 17432, 15393, 15394, 8741, 5158, 5159, 8742, 40492, 40493, 35379, 9268, 9269, 566, 567, 16951, 16952, 17462, 17463, 8764, 8765, 9793, 9794, 72, 73, 17492, 17493, 16982, 16983, 5720, 5721, 90, 91, 5724, 5725, 6747, 6748, 9817, 9818, 9314, 9315, 15973, 15974, 15471, 15472, 17522, 17523, 17012, 17013, 18035, 18036, 7309, 7310, 17552, 17553, 17045, 17046, 17052, 17053, 5792, 5793, 27808, 2211, 2212, 27809, 17586, 17587, 701, 702, 2246, 2247, 28358, 28359, 6347, 6348, 5325, 5326, 28367, 28368, 36047, 36048, 39117, 39118, 28377, 28378, 17630, 17631, 16608, 16609, 39136, 39137, 2281, 2282, 7915, 7916, 2802, 2803, 3315, 3316, 17653, 17654, 3837, 3838, 16642, 16643, 3852, 2317, 2318, 3853, 40204, 40205, 10518, 10519, 17687, 17688, 2350, 2351, 10036, 10037, 17206, 17207, 17724, 17725, 15170, 15171, 331, 332, 2385, 2386, 15702, 15703, 35380, 17757, 16734, 16735, 17758, 353, 354, 13666, 13667, 360, 361, 16747, 16748, 18798, 18799, 4977, 4978, 16755, 16756, 17267, 17268, 4988, 4989, 894, 895, 13699, 13700, 13710, 13711, 16788, 16789, 17301, 9111, 9112, 9623, 9624, 17302, 28569, 28570, 5025, 5026, 8612, 8613, 16805, 16806, 13736, 13737, 18852, 18853, 5037, 5038, 18861, 432, 433, 18862, 17333, 17334, 10168, 10169, 17848, 17849, 5056, 5057, 450, 451, 3523, 3524, 13770, 13771, 36301, 36302, 9684, 9685, 16853, 16854, 17366, 17367, 18394, 18395, 18905, 18906, 17379, 17380, 8167, 8168, 16360, 16361, 17400, 18008, 493, 494, 18413, 18009, 18414, 36336, 36337, 8693, 8694, 16887, 16888, 17401, 9210, 9211, 8700, 8701]\n"
     ]
    }
   ],
   "source": [
    "kopie_indices_list = list()\n",
    "for item in locs_kopie:\n",
    "    kopie_indices_list.append(item['loc_list'])\n",
    "flat_kopie_index = [item for sublist in kopie_indices_list for item in sublist]\n",
    "\n",
    "no_kopie_indices_list = list()\n",
    "for item in locs_no_kopie:\n",
    "    no_kopie_indices_list.append(item['loc_list'])\n",
    "flat_no_kopie_index = [item for sublist in no_kopie_indices_list for item in sublist]\n",
    "\n",
    "#print(len(flat_kopie_index))\n",
    "#print(len(flat_no_kopie_index))\n",
    "\n",
    "in_both_index = list(set(flat_kopie_index).intersection(flat_no_kopie_index))\n",
    "\n",
    "print(len(in_both_index))\n",
    "print(in_both_index)"
   ]
  },
  {
   "cell_type": "code",
   "execution_count": 21,
   "metadata": {},
   "outputs": [],
   "source": [
    "assert 353 and 354 in in_both_index"
   ]
  },
  {
   "cell_type": "code",
   "execution_count": null,
   "metadata": {},
   "outputs": [],
   "source": [
    "'''Makes sense that there are 242 because there are 121 which are split into two lines e.g. 121x2=242 so the numbers line up'''"
   ]
  },
  {
   "cell_type": "code",
   "execution_count": null,
   "metadata": {},
   "outputs": [],
   "source": [
    "'''Use the in_both_index list to make an exception route in the function kind of like you did with diff_dict to split lines.\n",
    "OR also try adding a check of the kopie tag in new_df when making collected lists (could work out to be simpler).'''"
   ]
  },
  {
   "cell_type": "code",
   "execution_count": 107,
   "metadata": {},
   "outputs": [],
   "source": [
    "'''unboxed make_collected_list: trying to add a check for kopie tag in new_df'''\n",
    "\n",
    "tag= 'no_kopie'\n",
    "locs_list = locs_no_kopie\n",
    "\n",
    "def new_collected_lists(new_df, locs_list, tag = 'kopie'):\n",
    "\n",
    "    main_list = list()\n",
    "    for group_dict in locs_list:\n",
    "        temp_dict = dict()\n",
    "\n",
    "        if tag == 'kopie':\n",
    "            temp_dict['kopie'] = 1\n",
    "            kopie_df = new_df.loc[group_dict['loc_list']]\n",
    "            filtered = kopie_df.loc[kopie_df['kopie']==1]\n",
    "            group_text = list(filtered['text'])\n",
    "            temp_dict['text'] = \" \".join(group_text) \n",
    "\n",
    "        else:\n",
    "            temp_dict['kopie'] = 0\n",
    "            no_kopie_df = new_df.loc[group_dict['loc_list']]\n",
    "            filtered = no_kopie_df.loc[no_kopie_df['kopie']==0]\n",
    "            group_text= list(filtered['text'])\n",
    "            temp_dict['text'] = \" \".join(group_text) \n",
    "\n",
    "        temp_dict['index_range'] = group_dict['index_range']\n",
    "\n",
    "        main_list.append(temp_dict)\n",
    "\n",
    "    return main_list"
   ]
  },
  {
   "cell_type": "code",
   "execution_count": 109,
   "metadata": {},
   "outputs": [],
   "source": [
    "'''UNBOXED MAIN FUNCTION: trying out the new_collected_lists function '''\n",
    "\n",
    "bs_content = make_soup(\"C:/Users/Ellie/Documents/MASTERS/NIAA/new_allie/1791_Purm_Louw_kopie_tei.xml\")\n",
    "    \n",
    "dict_list = indexed_kopie_line_dict(bs_content)\n",
    "    \n",
    "new_df = pd.DataFrame(dict_list)\n",
    "    \n",
    "index_groups_kopie = get_index_groups(new_df)[0]\n",
    "index_groups_no_kopie = get_index_groups(new_df)[1]\n",
    "    \n",
    "locs_kopie = collect_row_locs(index_groups_kopie, new_df)\n",
    "locs_no_kopie = collect_row_locs(index_groups_no_kopie, new_df)\n",
    "    \n",
    "kopie_list = new_collected_lists(new_df, locs_kopie, tag= 'kopie')\n",
    "no_kopie_list = new_collected_lists(new_df, locs_no_kopie, tag= 'no_kopie')\n",
    "    \n",
    "final_df = make_final_df(kopie_list, no_kopie_list)"
   ]
  },
  {
   "cell_type": "code",
   "execution_count": 110,
   "metadata": {},
   "outputs": [
    {
     "data": {
      "text/html": [
       "<div>\n",
       "<style scoped>\n",
       "    .dataframe tbody tr th:only-of-type {\n",
       "        vertical-align: middle;\n",
       "    }\n",
       "\n",
       "    .dataframe tbody tr th {\n",
       "        vertical-align: top;\n",
       "    }\n",
       "\n",
       "    .dataframe thead th {\n",
       "        text-align: right;\n",
       "    }\n",
       "</style>\n",
       "<table border=\"1\" class=\"dataframe\">\n",
       "  <thead>\n",
       "    <tr style=\"text-align: right;\">\n",
       "      <th></th>\n",
       "      <th>index_range</th>\n",
       "      <th>kopie</th>\n",
       "      <th>text</th>\n",
       "    </tr>\n",
       "  </thead>\n",
       "  <tbody>\n",
       "    <tr>\n",
       "      <th>2</th>\n",
       "      <td>(238, 330)</td>\n",
       "      <td>1</td>\n",
       "      <td>Omtrent het Jaer 1400 onder de Re¬ geringe van...</td>\n",
       "    </tr>\n",
       "    <tr>\n",
       "      <th>3</th>\n",
       "      <td>(330, 351)</td>\n",
       "      <td>0</td>\n",
       "      <td>//2 Dus ziet men uijt deze voortgebragte bewi...</td>\n",
       "    </tr>\n",
       "    <tr>\n",
       "      <th>3</th>\n",
       "      <td>(351, 357)</td>\n",
       "      <td>1</td>\n",
       "      <td>\"Meermin, Sijreene, is een ingebeeld dier, dat...</td>\n",
       "    </tr>\n",
       "    <tr>\n",
       "      <th>4</th>\n",
       "      <td>(357, 428)</td>\n",
       "      <td>0</td>\n",
       "      <td>e    att;//3zoodh is de Gedaente, en de zeldza...</td>\n",
       "    </tr>\n",
       "    <tr>\n",
       "      <th>4</th>\n",
       "      <td>(428, 445)</td>\n",
       "      <td>1</td>\n",
       "      <td>\"Men vind in¬ de Kronijk van Schotland /10/ aa...</td>\n",
       "    </tr>\n",
       "  </tbody>\n",
       "</table>\n",
       "</div>"
      ],
      "text/plain": [
       "  index_range  kopie                                               text\n",
       "2  (238, 330)      1  Omtrent het Jaer 1400 onder de Re¬ geringe van...\n",
       "3  (330, 351)      0   //2 Dus ziet men uijt deze voortgebragte bewi...\n",
       "3  (351, 357)      1  \"Meermin, Sijreene, is een ingebeeld dier, dat...\n",
       "4  (357, 428)      0  e    att;//3zoodh is de Gedaente, en de zeldza...\n",
       "4  (428, 445)      1  \"Men vind in¬ de Kronijk van Schotland /10/ aa..."
      ]
     },
     "execution_count": 110,
     "metadata": {},
     "output_type": "execute_result"
    }
   ],
   "source": [
    "final_df[5:10]"
   ]
  },
  {
   "cell_type": "code",
   "execution_count": 115,
   "metadata": {},
   "outputs": [
    {
     "name": "stdout",
     "output_type": "stream",
     "text": [
      " //2 Dus ziet men uijt deze voortgebragte bewijzen  dat er, een Wijf, Vrouwe, of Meermin in de Purmer gevangen is, en dat het zeker is dat het geene Natuurelyke Vrouwe is geweest blijkt daar uijt, om dat 'Smenschen natuur niet geschikt is in 't Waetter maar op aarde te leven daar het Water het Element der Meerminnen of der@@@ is /1/ zie H: Soeteboom in zijne Korte Kron: van Purmerend op bladz:, 77 tot 80; /2/ zie Tafereel van Natuur en Konst 13de deel, bladz: 63 /3/ Mr Jan Leoninus te Edam is zijn gevoelen, dat dit schep¬ zel was een wild vrouwperzoon dat stom was, en ge¬ woon was in de ruygte en biezen van de Purmermeer zig te onthouden, geweest is; zie verhaal van de Vuur en Watenood door Dne Kruijthof en Leoninus pag: 4-7; Maer waerom zoo veel deze Meerminnen gemeld, indien het zeker is, dat dezelve maar door inbeeldinge werd voor gestelt, en dat erin de Weereld, zoodanig een Schepzel niet werd gevonden, Een zeker Voornaam Schreijver, meld hhieeeeerr    oovvtlgnd\n",
      "\n",
      "gebragt;  //2 Dus ziet men uijt deze voortgebragte bewijzen  dat er, een Wijf, Vrouwe, of Meermin in de Purmer gevangen is, en dat het zeker is dat het geene Natuurelyke Vrouwe is geweest blijkt daar uijt, om dat 'Smenschen natuur niet geschikt is in 't Waetter maar op aarde te leven daar het Water het Element der Meerminnen of der@@@ is /1/ zie H: Soeteboom in zijne Korte Kron: van Purmerend op bladz:, 77 tot 80; /2/ zie Tafereel van Natuur en Konst 13de deel, bladz: 63 /3/ Mr Jan Leoninus te Edam is zijn gevoelen, dat dit schep¬ zel was een wild vrouwperzoon dat stom was, en ge¬ woon was in de ruygte en biezen van de Purmermeer zig te onthouden, geweest is; zie verhaal van de Vuur en Watenood door Dne Kruijthof en Leoninus pag: 4-7; Maer waerom zoo veel deze Meerminnen gemeld, indien het zeker is, dat dezelve maar door inbeeldinge werd voor gestelt, en dat erin de Weereld, zoodanig een Schepzel niet werd gevonden, Een zeker Voornaam Schreijver, meld \"Meermin, Sijreene, hhieeeeerr    oovvtlgnd\n"
     ]
    }
   ],
   "source": [
    "print(final_df.iloc[6]['text'])\n",
    "print()\n",
    "print(data.iloc[6]['text'])"
   ]
  },
  {
   "cell_type": "code",
   "execution_count": 116,
   "metadata": {},
   "outputs": [
    {
     "name": "stdout",
     "output_type": "stream",
     "text": [
      "\"Meermin, Sijreene, hhieeeeerr    oovvtlgnd is een ingebeeld dier, dat van ondere Visch, en van boven Mensch zoude zijn, Bij oude schrijvers vind men veelvuldige Wonderen van dat niet in wezen zijnde Schepzel te boek gesteld, alle te belaggelijk om hier eene plaets te beslaen\" e    att;//3zoodh\n",
      "\n",
      "\"Meermin, Sijreene, is een ingebeeld dier, dat van ondere Visch, en van boven Mensch zoude zijn, Bij oude schrijvers vind men veelvuldige Wonderen van dat niet in wezen zijnde Schepzel te boek gesteld, alle te belaggelijk om hier eene plaets te beslaen\"\n"
     ]
    }
   ],
   "source": [
    "print(data.iloc[7]['text'])\n",
    "print()\n",
    "print(final_df.iloc[7]['text'])"
   ]
  },
  {
   "cell_type": "code",
   "execution_count": 122,
   "metadata": {},
   "outputs": [
    {
     "data": {
      "text/html": [
       "<div>\n",
       "<style scoped>\n",
       "    .dataframe tbody tr th:only-of-type {\n",
       "        vertical-align: middle;\n",
       "    }\n",
       "\n",
       "    .dataframe tbody tr th {\n",
       "        vertical-align: top;\n",
       "    }\n",
       "\n",
       "    .dataframe thead th {\n",
       "        text-align: right;\n",
       "    }\n",
       "</style>\n",
       "<table border=\"1\" class=\"dataframe\">\n",
       "  <thead>\n",
       "    <tr style=\"text-align: right;\">\n",
       "      <th></th>\n",
       "      <th>index</th>\n",
       "      <th>kopie</th>\n",
       "      <th>text</th>\n",
       "    </tr>\n",
       "  </thead>\n",
       "  <tbody>\n",
       "    <tr>\n",
       "      <th>910</th>\n",
       "      <td>900</td>\n",
       "      <td>1</td>\n",
       "      <td>vatte op dit moment vuur het Ste#</td>\n",
       "    </tr>\n",
       "    <tr>\n",
       "      <th>911</th>\n",
       "      <td>901</td>\n",
       "      <td>1</td>\n",
       "      <td>ging af, met den Stamperop dezelve</td>\n",
       "    </tr>\n",
       "    <tr>\n",
       "      <th>912</th>\n",
       "      <td>902</td>\n",
       "      <td>1</td>\n",
       "      <td>en Kweste bij deze Jongelingen</td>\n",
       "    </tr>\n",
       "    <tr>\n",
       "      <th>913</th>\n",
       "      <td>903</td>\n",
       "      <td>1</td>\n",
       "      <td>de eene genaamt Douwe Van der W#</td>\n",
       "    </tr>\n",
       "    <tr>\n",
       "      <th>914</th>\n",
       "      <td>904</td>\n",
       "      <td>1</td>\n",
       "      <td>zijnde eene Frieser van Geboorte, #</td>\n",
       "    </tr>\n",
       "    <tr>\n",
       "      <th>915</th>\n",
       "      <td>905</td>\n",
       "      <td>0</td>\n",
       "      <td></td>\n",
       "    </tr>\n",
       "    <tr>\n",
       "      <th>916</th>\n",
       "      <td>906</td>\n",
       "      <td>1</td>\n",
       "      <td>een Wieledrajers Baas in deze Stad</td>\n",
       "    </tr>\n",
       "    <tr>\n",
       "      <th>917</th>\n",
       "      <td>907</td>\n",
       "      <td>0</td>\n",
       "      <td></td>\n",
       "    </tr>\n",
       "    <tr>\n",
       "      <th>918</th>\n",
       "      <td>908</td>\n",
       "      <td>1</td>\n",
       "      <td>oud 19 Jaeren, werden door de St#</td>\n",
       "    </tr>\n",
       "    <tr>\n",
       "      <th>919</th>\n",
       "      <td>909</td>\n",
       "      <td>1</td>\n",
       "      <td>per bijde zijne Handen weg ge#</td>\n",
       "    </tr>\n",
       "  </tbody>\n",
       "</table>\n",
       "</div>"
      ],
      "text/plain": [
       "     index  kopie                                 text\n",
       "910    900      1    vatte op dit moment vuur het Ste#\n",
       "911    901      1  ging af, met den Stamperop dezelve \n",
       "912    902      1       en Kweste bij deze Jongelingen\n",
       "913    903      1     de eene genaamt Douwe Van der W#\n",
       "914    904      1  zijnde eene Frieser van Geboorte, #\n",
       "915    905      0                                     \n",
       "916    906      1   een Wieledrajers Baas in deze Stad\n",
       "917    907      0                                     \n",
       "918    908      1    oud 19 Jaeren, werden door de St#\n",
       "919    909      1       per bijde zijne Handen weg ge#"
      ]
     },
     "execution_count": 122,
     "metadata": {},
     "output_type": "execute_result"
    }
   ],
   "source": [
    "new_df[910:920]"
   ]
  },
  {
   "cell_type": "code",
   "execution_count": null,
   "metadata": {},
   "outputs": [],
   "source": [
    "'''The new version of collected lists works!!!! Use the function new_collected_lists from now on and replace in other versions'''"
   ]
  },
  {
   "cell_type": "code",
   "execution_count": null,
   "metadata": {},
   "outputs": [],
   "source": [
    "'''Working on 3) There are empty lines in the XML, which results in two chunks of copied text, interrupted by a chunk \n",
    "of non-copied text, but that chunk is in fact an empty line. (See for example line 904, 906, 908 in the df.)'''"
   ]
  },
  {
   "cell_type": "code",
   "execution_count": 128,
   "metadata": {},
   "outputs": [
    {
     "data": {
      "text/plain": [
       "''"
      ]
     },
     "execution_count": 128,
     "metadata": {},
     "output_type": "execute_result"
    }
   ],
   "source": [
    "new_df.iloc[915]['text']"
   ]
  },
  {
   "cell_type": "code",
   "execution_count": 179,
   "metadata": {},
   "outputs": [],
   "source": [
    "no_empty_lines = new_df.loc[new_df['text'] != '']"
   ]
  },
  {
   "cell_type": "code",
   "execution_count": 137,
   "metadata": {},
   "outputs": [
    {
     "data": {
      "text/html": [
       "<div>\n",
       "<style scoped>\n",
       "    .dataframe tbody tr th:only-of-type {\n",
       "        vertical-align: middle;\n",
       "    }\n",
       "\n",
       "    .dataframe tbody tr th {\n",
       "        vertical-align: top;\n",
       "    }\n",
       "\n",
       "    .dataframe thead th {\n",
       "        text-align: right;\n",
       "    }\n",
       "</style>\n",
       "<table border=\"1\" class=\"dataframe\">\n",
       "  <thead>\n",
       "    <tr style=\"text-align: right;\">\n",
       "      <th></th>\n",
       "      <th>index</th>\n",
       "      <th>kopie</th>\n",
       "      <th>text</th>\n",
       "    </tr>\n",
       "  </thead>\n",
       "  <tbody>\n",
       "    <tr>\n",
       "      <th>913</th>\n",
       "      <td>903</td>\n",
       "      <td>1</td>\n",
       "      <td>de eene genaamt Douwe Van der W#</td>\n",
       "    </tr>\n",
       "    <tr>\n",
       "      <th>914</th>\n",
       "      <td>904</td>\n",
       "      <td>1</td>\n",
       "      <td>zijnde eene Frieser van Geboorte, #</td>\n",
       "    </tr>\n",
       "    <tr>\n",
       "      <th>916</th>\n",
       "      <td>906</td>\n",
       "      <td>1</td>\n",
       "      <td>een Wieledrajers Baas in deze Stad</td>\n",
       "    </tr>\n",
       "    <tr>\n",
       "      <th>918</th>\n",
       "      <td>908</td>\n",
       "      <td>1</td>\n",
       "      <td>oud 19 Jaeren, werden door de St#</td>\n",
       "    </tr>\n",
       "    <tr>\n",
       "      <th>919</th>\n",
       "      <td>909</td>\n",
       "      <td>1</td>\n",
       "      <td>per bijde zijne Handen weg ge#</td>\n",
       "    </tr>\n",
       "    <tr>\n",
       "      <th>920</th>\n",
       "      <td>910</td>\n",
       "      <td>1</td>\n",
       "      <td>en door het Buskruijd werd zijn #</td>\n",
       "    </tr>\n",
       "    <tr>\n",
       "      <th>922</th>\n",
       "      <td>912</td>\n",
       "      <td>1</td>\n",
       "      <td>gezigt geschroeijd en gebrand, zoo</td>\n",
       "    </tr>\n",
       "    <tr>\n",
       "      <th>923</th>\n",
       "      <td>913</td>\n",
       "      <td>1</td>\n",
       "      <td>bij zijn Oogen uijt waeren, en het zel,,</td>\n",
       "    </tr>\n",
       "    <tr>\n",
       "      <th>924</th>\n",
       "      <td>914</td>\n",
       "      <td>1</td>\n",
       "      <td>ve onkenbaar was, en had mede de v#</td>\n",
       "    </tr>\n",
       "    <tr>\n",
       "      <th>925</th>\n",
       "      <td>915</td>\n",
       "      <td>1</td>\n",
       "      <td>S</td>\n",
       "    </tr>\n",
       "  </tbody>\n",
       "</table>\n",
       "</div>"
      ],
      "text/plain": [
       "     index  kopie                                      text\n",
       "913    903      1          de eene genaamt Douwe Van der W#\n",
       "914    904      1       zijnde eene Frieser van Geboorte, #\n",
       "916    906      1        een Wieledrajers Baas in deze Stad\n",
       "918    908      1         oud 19 Jaeren, werden door de St#\n",
       "919    909      1            per bijde zijne Handen weg ge#\n",
       "920    910      1         en door het Buskruijd werd zijn #\n",
       "922    912      1       gezigt geschroeijd en gebrand, zoo \n",
       "923    913      1  bij zijn Oogen uijt waeren, en het zel,,\n",
       "924    914      1       ve onkenbaar was, en had mede de v#\n",
       "925    915      1                                         S"
      ]
     },
     "execution_count": 137,
     "metadata": {},
     "output_type": "execute_result"
    }
   ],
   "source": [
    "no_empty_lines[910:920]"
   ]
  },
  {
   "cell_type": "code",
   "execution_count": null,
   "metadata": {},
   "outputs": [],
   "source": [
    "'''Got rid of all the empty lines! this should be insterted into the function which generates new_df'''"
   ]
  },
  {
   "cell_type": "code",
   "execution_count": null,
   "metadata": {},
   "outputs": [],
   "source": [
    "'''Working on 4) Once the above issues are fixed, the hyphens (¬) need to be removed from the chunks. \n",
    "(There is a line of code for that in my script parse_xml, in the repo I mailed you the link of yesterday.) AND 5) It will \n",
    "probably be best to remove all punctuation (but not before the lines are indexed!). (Again, code for that is in my \n",
    "script parse_xml.)'''"
   ]
  },
  {
   "cell_type": "code",
   "execution_count": null,
   "metadata": {},
   "outputs": [],
   "source": [
    "'''I want to iterate through the text column and remove all unwanted characters from the strings.'''"
   ]
  },
  {
   "cell_type": "code",
   "execution_count": 172,
   "metadata": {},
   "outputs": [
    {
     "name": "stdout",
     "output_type": "stream",
     "text": [
      "nen deze stad voorgevallen dienen Mijne\n",
      "gedagten waren om het bij het Eerste deel\n",
      "der kronijk of geschiedenisse dezer stadt\n",
      "het te laeten berusten maar de voornaeme\n",
      "en buijtengewoone voorvallen dewelke in deze\n",
      "korte tijdkring alhier zijn gebeurt heb\n",
      "ben mijn verpligt om de pen weder op te\n",
      "vatten om daer door geduurig eene aan\n",
      "genaeme nagedagtenisse in ons geheu\n",
      "gen te doen herleeven Het voornaems\n"
     ]
    }
   ],
   "source": [
    "\n",
    "for row in no_empty_lines['text'][20:30]:\n",
    "    no_hyphen = row.replace('¬', '')\n",
    "    #print(no_hyphen)\n",
    "    no_punc = re.sub(r'[^\\w\\s]','',no_hyphen)\n",
    "    print(no_punc)\n"
   ]
  },
  {
   "cell_type": "code",
   "execution_count": 176,
   "metadata": {},
   "outputs": [],
   "source": [
    "for i, row in no_empty_lines.iterrows():\n",
    "    text = row['text']\n",
    "    no_hyphen = text.replace('¬', '')\n",
    "    no_punc = re.sub(r'[^\\w\\s]','',no_hyphen)\n",
    "    no_empty_lines.at[i,'text'] = no_punc"
   ]
  },
  {
   "cell_type": "code",
   "execution_count": 177,
   "metadata": {},
   "outputs": [
    {
     "data": {
      "text/plain": [
       "20         nen deze stad voorgevallen dienen Mijne\n",
       "21       gedagten waren om het bij het Eerste deel\n",
       "22       der kronijk of geschiedenisse dezer stadt\n",
       "23        het te laeten berusten maar de voornaeme\n",
       "24    en buijtengewoone voorvallen dewelke in deze\n",
       "25         korte tijdkring alhier zijn gebeurt heb\n",
       "26         ben mijn verpligt om de pen weder op te\n",
       "27           vatten om daer door geduurig eene aan\n",
       "28             genaeme nagedagtenisse in ons geheu\n",
       "29             gen te doen herleeven Het voornaems\n",
       "Name: text, dtype: object"
      ]
     },
     "execution_count": 177,
     "metadata": {},
     "output_type": "execute_result"
    }
   ],
   "source": [
    "no_empty_lines['text'][20:30]"
   ]
  },
  {
   "cell_type": "code",
   "execution_count": null,
   "metadata": {},
   "outputs": [],
   "source": [
    "'''This now works to remove all hyphens and punctuation in the texts!!! This should be inserted when new_df is created'''"
   ]
  }
 ],
 "metadata": {
  "kernelspec": {
   "display_name": "Python 3",
   "language": "python",
   "name": "python3"
  },
  "language_info": {
   "codemirror_mode": {
    "name": "ipython",
    "version": 3
   },
   "file_extension": ".py",
   "mimetype": "text/x-python",
   "name": "python",
   "nbconvert_exporter": "python",
   "pygments_lexer": "ipython3",
   "version": "3.7.3"
  }
 },
 "nbformat": 4,
 "nbformat_minor": 2
}
