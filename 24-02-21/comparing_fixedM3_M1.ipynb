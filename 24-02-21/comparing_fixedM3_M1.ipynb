{
 "cells": [
  {
   "cell_type": "code",
   "execution_count": 1,
   "metadata": {},
   "outputs": [],
   "source": [
    "from bs4 import BeautifulSoup as bs\n",
    "import pandas as pd\n",
    "from lxml import etree"
   ]
  },
  {
   "cell_type": "code",
   "execution_count": 2,
   "metadata": {},
   "outputs": [],
   "source": [
    "'''reading in the file'''\n",
    "\n",
    "content = []\n",
    "# Read the XML file\n",
    "with open(\"C:/Users/Ellie/Documents/MASTERS/NIAA/new_allie/1791_Purm_Louw_kopie_tei.xml\", \"r\", encoding= 'utf-8') as file:\n",
    "    # Read each line in the file, readlines() returns a list of lines\n",
    "    content = file.readlines()\n",
    "    # Combine the lines in the list into a string\n",
    "    content = \"\".join(content)\n",
    "    bs_content = bs(content, \"lxml\")"
   ]
  },
  {
   "cell_type": "code",
   "execution_count": 3,
   "metadata": {},
   "outputs": [
    {
     "name": "stdout",
     "output_type": "stream",
     "text": [
      "5209\n"
     ]
    }
   ],
   "source": [
    "'''method 1: find_all on kopie tag'''\n",
    "\n",
    "result = bs_content.find_all(\"kopie\")\n",
    "\n",
    "line_content_K =list()\n",
    "for item in result:\n",
    "    content= item.text\n",
    "    line_content_K.append(content)\n",
    "    \n",
    "print(len(line_content_K))"
   ]
  },
  {
   "cell_type": "code",
   "execution_count": 4,
   "metadata": {},
   "outputs": [
    {
     "name": "stdout",
     "output_type": "stream",
     "text": [
      "5209\n"
     ]
    }
   ],
   "source": [
    "'''method 3: find_all l then convert to string and search for the kopie tag as a string'''\n",
    "\n",
    "dict_list = list()\n",
    "n = 0\n",
    "everything_results = bs_content.find_all(\"l\")\n",
    "for item in list(everything_results):\n",
    "    item_string = str(item)\n",
    "    temp_dict =dict()\n",
    "    n+=1\n",
    "    if '<kopie' in item_string:\n",
    "        temp_dict['text'] = item.text\n",
    "        temp_dict['index']= n\n",
    "        temp_dict['kopie']= 1\n",
    "        dict_list.append(temp_dict)\n",
    "    else:\n",
    "        temp_dict['text'] =item.text\n",
    "        temp_dict['index'] = n\n",
    "        temp_dict['kopie'] = 0\n",
    "        dict_list.append(temp_dict)\n",
    "        \n",
    "'''checking kopie number'''\n",
    "method_3 = list()\n",
    "for item in dict_list:\n",
    "    if item['kopie'] == 1:\n",
    "        method_3.append(item['text'])\n",
    "        \n",
    "print(len(method_3))"
   ]
  },
  {
   "cell_type": "code",
   "execution_count": 10,
   "metadata": {},
   "outputs": [
    {
     "data": {
      "text/plain": [
       "False"
      ]
     },
     "execution_count": 10,
     "metadata": {},
     "output_type": "execute_result"
    }
   ],
   "source": [
    "import collections\n",
    "compare = lambda x, y: collections.Counter(x) == collections.Counter(y)\n",
    "\n",
    "compare(method_3, line_content_K)"
   ]
  },
  {
   "cell_type": "code",
   "execution_count": 11,
   "metadata": {},
   "outputs": [],
   "source": [
    "difference = [item for item in line_content_K if item not in method_3]"
   ]
  },
  {
   "cell_type": "code",
   "execution_count": 12,
   "metadata": {},
   "outputs": [
    {
     "name": "stdout",
     "output_type": "stream",
     "text": [
      "121\n"
     ]
    }
   ],
   "source": [
    "print(len(difference))"
   ]
  },
  {
   "cell_type": "code",
   "execution_count": null,
   "metadata": {},
   "outputs": [],
   "source": [
    "'''I think this means that there are 121 kopies which are NOT the whole line but that there are no lines with 2 kopies'''"
   ]
  },
  {
   "cell_type": "code",
   "execution_count": 46,
   "metadata": {},
   "outputs": [
    {
     "name": "stdout",
     "output_type": "stream",
     "text": [
      "5209\n",
      "121\n"
     ]
    }
   ],
   "source": [
    "'''EDITING method 3: to find lines which contain kopie tags and then extract the kopie from the XML instead of the string'''\n",
    "\n",
    "dict_list = list()\n",
    "n = 0\n",
    "everything_results = bs_content.find_all(\"l\")\n",
    "for item in list(everything_results):\n",
    "    item_string = str(item)\n",
    "    temp_dict =dict()\n",
    "    n+=1\n",
    "    if '<kopie' in item_string:\n",
    "        xml = item.find('kopie')\n",
    "        temp_dict['text'] = xml.text\n",
    "        temp_dict['index']= n\n",
    "        temp_dict['kopie']= 1\n",
    "        dict_list.append(temp_dict)\n",
    "        c = collections.Counter(item.text) - collections.Counter(xml.text)                   \n",
    "        text_diff = ''.join(c.elements())\n",
    "        if len(text_diff) != 0:\n",
    "            diff_dict = dict()\n",
    "            diff_dict['text'] = text_diff\n",
    "            diff_dict['index'] = n\n",
    "            diff_dict['kopie'] = 0\n",
    "            dict_list.append(diff_dict)\n",
    "    else:\n",
    "        temp_dict['text'] =item.text\n",
    "        temp_dict['index'] = n\n",
    "        temp_dict['kopie'] = 0\n",
    "        dict_list.append(temp_dict)\n",
    "        \n",
    "'''checking kopie number'''\n",
    "method_3_new = list()\n",
    "for item in dict_list:\n",
    "    if item['kopie'] == 1:\n",
    "        method_3_new.append(item['text'])\n",
    "        \n",
    "print(len(method_3_new))\n",
    "print(len(dict_list)-len(everything_results))"
   ]
  },
  {
   "cell_type": "code",
   "execution_count": 21,
   "metadata": {},
   "outputs": [],
   "source": [
    "new_difference = [item for item in line_content_K if item not in method_3_new]"
   ]
  },
  {
   "cell_type": "code",
   "execution_count": 23,
   "metadata": {},
   "outputs": [
    {
     "name": "stdout",
     "output_type": "stream",
     "text": [
      "0\n"
     ]
    }
   ],
   "source": [
    "print(len(new_difference))"
   ]
  },
  {
   "cell_type": "code",
   "execution_count": null,
   "metadata": {},
   "outputs": [],
   "source": [
    "'''The new method 3 collects all the kopie tags correctly now, but Im worried that in the 121 cases where the kopie is NOT the \n",
    "whole line, the rest of line which contains a kopie is currently being thrown out. This needs fixing. NOW FIXED'''"
   ]
  },
  {
   "cell_type": "code",
   "execution_count": 44,
   "metadata": {},
   "outputs": [
    {
     "name": "stdout",
     "output_type": "stream",
     "text": [
      "0\n"
     ]
    }
   ],
   "source": [
    "line = 'hello and welcome'\n",
    "kopie = 'hello and welcome'\n",
    "\n",
    "c = collections.Counter(line) - collections.Counter(kopie)                   \n",
    "text_diff = ''.join(c.elements())\n",
    "print(len(text_diff))"
   ]
  },
  {
   "cell_type": "code",
   "execution_count": 47,
   "metadata": {},
   "outputs": [],
   "source": [
    "assert len(dict_list) == len(everything_results)+121"
   ]
  },
  {
   "cell_type": "code",
   "execution_count": null,
   "metadata": {},
   "outputs": [],
   "source": []
  }
 ],
 "metadata": {
  "kernelspec": {
   "display_name": "Python 3",
   "language": "python",
   "name": "python3"
  },
  "language_info": {
   "codemirror_mode": {
    "name": "ipython",
    "version": 3
   },
   "file_extension": ".py",
   "mimetype": "text/x-python",
   "name": "python",
   "nbconvert_exporter": "python",
   "pygments_lexer": "ipython3",
   "version": "3.7.3"
  }
 },
 "nbformat": 4,
 "nbformat_minor": 2
}
